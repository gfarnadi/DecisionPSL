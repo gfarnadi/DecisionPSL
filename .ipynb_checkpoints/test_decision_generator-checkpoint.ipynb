{
 "cells": [
  {
   "cell_type": "code",
   "execution_count": 13,
   "metadata": {
    "collapsed": true
   },
   "outputs": [],
   "source": [
    "import os, random\n",
    "import cvxpy\n",
    "\n",
    "def save_file(path, content):\n",
    "    with open(path, 'a') as out:\n",
    "        out.write(content+'\\n')\n",
    "        \n",
    "def remove_content(folder_path):\n",
    "    for each_file in os.listdir(folder_path):\n",
    "        file_path = os.path.join(folder_path,each_file)\n",
    "        try:\n",
    "            if os.path.isfile(file_path):\n",
    "                os.unlink(file_path)\n",
    "        except Exception as e:\n",
    "            print(e) "
   ]
  },
  {
   "cell_type": "code",
   "execution_count": 14,
   "metadata": {
    "collapsed": true
   },
   "outputs": [],
   "source": [
    "def generate_network(data_path, user_size, network_size ):\n",
    "    #remove_content(data_path)\n",
    "    text= ''\n",
    "    users = []\n",
    "    for i in range(user_size):\n",
    "        user = 'u' + str(i)\n",
    "        users.append(user)\n",
    "        text+=user+'\\n'\n",
    "    user_path = data_path+'user.txt'\n",
    "    #save_file(user_path, text)\n",
    "    trusts = {}\n",
    "    text = ''\n",
    "    for i in range(network_size):\n",
    "        source = random.randint(0,user_size-1)\n",
    "        target = random.randint(0,user_size-1)\n",
    "        trust = 't'+str(source)+','+str(target)\n",
    "        trial = 0\n",
    "        while (target == source or trust in trusts.keys()) and (trial<user_size):\n",
    "            target = random.randint(0,user_size-1)\n",
    "            trust = 't'+str(source)+','+str(target)\n",
    "            trial+=1\n",
    "        if trial<user_size:\n",
    "            trusts[trust] = random.random()\n",
    "            text+= trust+'\\t'+str(trusts[trust])+'\\n'\n",
    "    network_path = data_path+'trusts.txt'\n",
    "    #save_file(network_path, text)\n",
    "    return users, trusts"
   ]
  },
  {
   "cell_type": "code",
   "execution_count": 22,
   "metadata": {
    "collapsed": false
   },
   "outputs": [],
   "source": [
    "data_path = '~/'\n",
    "user_size = 10\n",
    "network_size = 20\n",
    "users, trusts = generate_network(data_path, user_size, network_size)"
   ]
  },
  {
   "cell_type": "code",
   "execution_count": 23,
   "metadata": {
    "collapsed": false
   },
   "outputs": [
    {
     "data": {
      "text/plain": [
       "['u0', 'u1', 'u2', 'u3', 'u4', 'u5', 'u6', 'u7', 'u8', 'u9']"
      ]
     },
     "execution_count": 23,
     "metadata": {},
     "output_type": "execute_result"
    }
   ],
   "source": [
    "users\n"
   ]
  },
  {
   "cell_type": "code",
   "execution_count": 24,
   "metadata": {
    "collapsed": false
   },
   "outputs": [
    {
     "data": {
      "text/plain": [
       "{'t0,1': 0.9579834020096046,\n",
       " 't1,3': 0.5788582733488957,\n",
       " 't1,6': 0.5783711442352382,\n",
       " 't1,7': 0.7904678255937486,\n",
       " 't2,0': 0.39579707335573056,\n",
       " 't3,2': 0.08581135405728568,\n",
       " 't3,7': 0.4748384822940632,\n",
       " 't4,3': 0.5461603709804531,\n",
       " 't4,8': 0.06154039811569223,\n",
       " 't4,9': 0.23936588686767568,\n",
       " 't5,1': 0.7948065430123676,\n",
       " 't6,1': 0.1951261339247352,\n",
       " 't6,5': 0.5309187096426073,\n",
       " 't7,6': 0.09114097435539403,\n",
       " 't8,5': 0.4620004931746563,\n",
       " 't9,0': 0.033923623039624595,\n",
       " 't9,2': 0.02741620747660045,\n",
       " 't9,3': 0.6554167152899352,\n",
       " 't9,4': 0.9284483901633578,\n",
       " 't9,8': 0.250303296134053}"
      ]
     },
     "execution_count": 24,
     "metadata": {},
     "output_type": "execute_result"
    }
   ],
   "source": [
    "trusts"
   ]
  },
  {
   "cell_type": "code",
   "execution_count": 26,
   "metadata": {
    "collapsed": true
   },
   "outputs": [],
   "source": [
    "def generate_groundings(data_path,user_size, trusts, reachable_size):\n",
    "    reachables = {}\n",
    "    text = ''\n",
    "    for key, value in trusts.items():\n",
    "        reachable = key.replace('t', 'r')\n",
    "        reachables[reachable] = random.random()\n",
    "        text+= reachable+'\\t'+str(reachables[reachable])+'\\n'\n",
    "    trial = 0\n",
    "    reachable_size -= len(trusts.keys())\n",
    "    for i in range(reachable_size):\n",
    "        source = random.randint(0,user_size-1)\n",
    "        target = random.randint(0,user_size-1)\n",
    "        reachable = 'r'+str(source)+','+str(target)\n",
    "        while (target == source or reachable in reachables.keys()) and (trial<user_size):\n",
    "            target = random.randint(0,user_size-1)\n",
    "            reachable = 'r'+str(source)+','+str(target)\n",
    "            trial+=1\n",
    "        if trial<user_size:\n",
    "            reachables[reachable] = random.random()\n",
    "            text+= reachable+'\\t'+str(reachables[reachable])+'\\n'\n",
    "    #save_file(data_path+'reachable.txt',text)\n",
    "    return reachables\n"
   ]
  },
  {
   "cell_type": "code",
   "execution_count": 27,
   "metadata": {
    "collapsed": false
   },
   "outputs": [],
   "source": [
    "reachable_size = 30\n",
    "reachables = generate_groundings(data_path,user_size, trusts, reachable_size)"
   ]
  },
  {
   "cell_type": "code",
   "execution_count": 28,
   "metadata": {
    "collapsed": false
   },
   "outputs": [
    {
     "data": {
      "text/plain": [
       "{'r0,1': 0.9753448539185551,\n",
       " 'r1,3': 0.5463966952689622,\n",
       " 'r1,6': 0.8316682271630743,\n",
       " 'r1,7': 0.3729596524004406,\n",
       " 'r2,0': 0.44072848981769064,\n",
       " 'r3,0': 0.24364688628179854,\n",
       " 'r3,2': 0.1663444957246113,\n",
       " 'r3,5': 0.8431476306396898,\n",
       " 'r3,6': 0.741426441593229,\n",
       " 'r3,7': 0.4952682120928835,\n",
       " 'r4,3': 0.29100394488212333,\n",
       " 'r4,6': 0.8271285341964505,\n",
       " 'r4,8': 0.79572623954109,\n",
       " 'r4,9': 0.3001511161148859,\n",
       " 'r5,1': 0.3249605425014548,\n",
       " 'r6,1': 0.5729753787902208,\n",
       " 'r6,5': 0.2053524256284629,\n",
       " 'r7,6': 0.2810714364483571,\n",
       " 'r8,5': 0.7017664482816578,\n",
       " 'r9,0': 0.19713945034906144,\n",
       " 'r9,2': 0.9754879266182003,\n",
       " 'r9,3': 0.034216069796234594,\n",
       " 'r9,4': 0.48520241605020953,\n",
       " 'r9,6': 0.4473213396109502,\n",
       " 'r9,8': 0.8865150445682995}"
      ]
     },
     "execution_count": 28,
     "metadata": {},
     "output_type": "execute_result"
    }
   ],
   "source": [
    "reachables"
   ]
  },
  {
   "cell_type": "code",
   "execution_count": 43,
   "metadata": {
    "collapsed": true
   },
   "outputs": [],
   "source": [
    "def produce_optimization(users, trusts, reachables, variable_dict, constraints_holder):\n",
    "    objective = 0\n",
    "    constraints = []\n",
    "    marketeds = []\n",
    "    buys = []\n",
    "    #to track the random variables in the program based on the PSL model\n",
    "    for user in users:\n",
    "        marketed = user.replace('u','m')\n",
    "        marketeds.append(marketed)\n",
    "        buy = user.replace('u','b')\n",
    "        buys.append(buy)\n",
    "        #marketed(u) -> buy(u)\n",
    "        if marketed not in variable_dict.keys():\n",
    "            variable_dict[marketed] = cvxpy.Variable()\n",
    "        if buy not in variable_dict.keys():\n",
    "            variable_dict[buy] = cvxpy.Variable()\n",
    "        objective+= cvxpy.pos(variable_dict[marketed] - variable_dict[buy])\n",
    "    #Reachable(u1,u2) & buy(u1) -> buy(u2)\n",
    "    for reachable, reachable_truth_value in reachables.items():\n",
    "        reachable = reachable.replace('r','')\n",
    "        ids = reachable.split(',')\n",
    "        buy1 = 'b'+ids[0]\n",
    "        buy2 = 'b'+ids[1]\n",
    "        objective+= cvxpy.pos((cvxpy.pos(variable_dict[buy1]) + reachable_truth_value - 1) - variable_dict[buy2])\n",
    "        \n",
    "    for var_key, var_id in variable_dict.items():\n",
    "        if var_id not in constraints_holder:\n",
    "            constraints += [0 <= var_id, var_id <= 1]\n",
    "            constraints_holder.append(var_id)\n",
    "    return objective, constraints, marketeds, buys"
   ]
  },
  {
   "cell_type": "code",
   "execution_count": 45,
   "metadata": {
    "collapsed": false
   },
   "outputs": [],
   "source": [
    "def generate_synthethic(data_path, user_size, network_size, world_size):\n",
    "    variable_dict = {}\n",
    "    constraints_holder = []\n",
    "    users, trusts = generate_network(data_path, user_size, network_size)\n",
    "    for i in range(world_size):\n",
    "        reachable_size = random.randint(0, (user_size*user_size))\n",
    "        reachables  = generate_groundings(data_path,user_size, trusts, reachable_size)\n",
    "        objective, constraints, marketeds, buys = produce_optimization(users, trusts, reachables, variable_dict, constraints_holder)\n",
    "        final_objective, final_constraints = update_program(final_objective, final_constraints, objective, constraints)\n",
    "    return final_objective, final_constraints, marketeds, buys, variable_dict"
   ]
  },
  {
   "cell_type": "code",
   "execution_count": 41,
   "metadata": {
    "collapsed": false
   },
   "outputs": [
    {
     "ename": "Exception",
     "evalue": "Cannot evaluate the truth value of a constraint or chain constraints, e.g., 1 >= x >= 0.",
     "output_type": "error",
     "traceback": [
      "\u001b[0;31m---------------------------------------------------------------------------\u001b[0m",
      "\u001b[0;31mException\u001b[0m                                 Traceback (most recent call last)",
      "\u001b[0;32m<ipython-input-41-f4035f857ffb>\u001b[0m in \u001b[0;36m<module>\u001b[0;34m()\u001b[0m\n\u001b[1;32m      1\u001b[0m \u001b[0mworld_size\u001b[0m \u001b[0;34m=\u001b[0m \u001b[0;36m5\u001b[0m\u001b[0;34m\u001b[0m\u001b[0m\n\u001b[0;32m----> 2\u001b[0;31m \u001b[0mfinal_objective\u001b[0m\u001b[0;34m,\u001b[0m \u001b[0mfinal_constraints\u001b[0m\u001b[0;34m,\u001b[0m \u001b[0mmarketeds\u001b[0m\u001b[0;34m,\u001b[0m \u001b[0mbuys\u001b[0m\u001b[0;34m,\u001b[0m \u001b[0mvariable_dict\u001b[0m \u001b[0;34m=\u001b[0m \u001b[0mgenerate_synthethic\u001b[0m\u001b[0;34m(\u001b[0m\u001b[0mdata_path\u001b[0m\u001b[0;34m,\u001b[0m \u001b[0muser_size\u001b[0m\u001b[0;34m,\u001b[0m \u001b[0mnetwork_size\u001b[0m\u001b[0;34m,\u001b[0m \u001b[0mworld_size\u001b[0m\u001b[0;34m)\u001b[0m\u001b[0;34m\u001b[0m\u001b[0m\n\u001b[0m",
      "\u001b[0;32m<ipython-input-40-fcd54ec8133c>\u001b[0m in \u001b[0;36mgenerate_synthethic\u001b[0;34m(data_path, user_size, network_size, world_size)\u001b[0m\n\u001b[1;32m      6\u001b[0m         \u001b[0mreachable_size\u001b[0m \u001b[0;34m=\u001b[0m \u001b[0mrandom\u001b[0m\u001b[0;34m.\u001b[0m\u001b[0mrandint\u001b[0m\u001b[0;34m(\u001b[0m\u001b[0;36m0\u001b[0m\u001b[0;34m,\u001b[0m \u001b[0;34m(\u001b[0m\u001b[0muser_size\u001b[0m\u001b[0;34m*\u001b[0m\u001b[0muser_size\u001b[0m\u001b[0;34m)\u001b[0m\u001b[0;34m)\u001b[0m\u001b[0;34m\u001b[0m\u001b[0m\n\u001b[1;32m      7\u001b[0m         \u001b[0mreachables\u001b[0m  \u001b[0;34m=\u001b[0m \u001b[0mgenerate_groundings\u001b[0m\u001b[0;34m(\u001b[0m\u001b[0mdata_path\u001b[0m\u001b[0;34m,\u001b[0m\u001b[0muser_size\u001b[0m\u001b[0;34m,\u001b[0m \u001b[0mtrusts\u001b[0m\u001b[0;34m,\u001b[0m \u001b[0mreachable_size\u001b[0m\u001b[0;34m)\u001b[0m\u001b[0;34m\u001b[0m\u001b[0m\n\u001b[0;32m----> 8\u001b[0;31m         \u001b[0mobjective\u001b[0m\u001b[0;34m,\u001b[0m \u001b[0mconstraints\u001b[0m\u001b[0;34m,\u001b[0m \u001b[0mmarketeds\u001b[0m\u001b[0;34m,\u001b[0m \u001b[0mbuys\u001b[0m \u001b[0;34m=\u001b[0m \u001b[0mproduce_optimization\u001b[0m\u001b[0;34m(\u001b[0m\u001b[0musers\u001b[0m\u001b[0;34m,\u001b[0m \u001b[0mtrusts\u001b[0m\u001b[0;34m,\u001b[0m \u001b[0mreachables\u001b[0m\u001b[0;34m,\u001b[0m \u001b[0mvariable_dict\u001b[0m\u001b[0;34m,\u001b[0m \u001b[0mconstraints_holder\u001b[0m\u001b[0;34m)\u001b[0m\u001b[0;34m\u001b[0m\u001b[0m\n\u001b[0m\u001b[1;32m      9\u001b[0m         \u001b[0mfinal_objective\u001b[0m\u001b[0;34m,\u001b[0m \u001b[0mfinal_constraints\u001b[0m \u001b[0;34m=\u001b[0m \u001b[0mupdate_program\u001b[0m\u001b[0;34m(\u001b[0m\u001b[0mfinal_objective\u001b[0m\u001b[0;34m,\u001b[0m \u001b[0mfinal_constraints\u001b[0m\u001b[0;34m,\u001b[0m \u001b[0mobjective\u001b[0m\u001b[0;34m,\u001b[0m \u001b[0mconstraints\u001b[0m\u001b[0;34m)\u001b[0m\u001b[0;34m\u001b[0m\u001b[0m\n\u001b[1;32m     10\u001b[0m     \u001b[0;32mreturn\u001b[0m \u001b[0mfinal_objective\u001b[0m\u001b[0;34m,\u001b[0m \u001b[0mfinal_constraints\u001b[0m\u001b[0;34m,\u001b[0m \u001b[0mmarketeds\u001b[0m\u001b[0;34m,\u001b[0m \u001b[0mbuys\u001b[0m\u001b[0;34m,\u001b[0m \u001b[0mvariable_dict\u001b[0m\u001b[0;34m\u001b[0m\u001b[0m\n",
      "\u001b[0;32m<ipython-input-39-0e0703db8347>\u001b[0m in \u001b[0;36mproduce_optimization\u001b[0;34m(users, trusts, reachables, variable_dict, constraints_holder)\u001b[0m\n\u001b[1;32m     25\u001b[0m \u001b[0;34m\u001b[0m\u001b[0m\n\u001b[1;32m     26\u001b[0m     \u001b[0;32mfor\u001b[0m \u001b[0mvar_key\u001b[0m\u001b[0;34m,\u001b[0m \u001b[0mvar_id\u001b[0m \u001b[0;32min\u001b[0m \u001b[0mvariable_dict\u001b[0m\u001b[0;34m.\u001b[0m\u001b[0mitems\u001b[0m\u001b[0;34m(\u001b[0m\u001b[0;34m)\u001b[0m\u001b[0;34m:\u001b[0m\u001b[0;34m\u001b[0m\u001b[0m\n\u001b[0;32m---> 27\u001b[0;31m         \u001b[0;32mif\u001b[0m \u001b[0mvar_id\u001b[0m \u001b[0;32mnot\u001b[0m \u001b[0;32min\u001b[0m \u001b[0mconstraints_holder\u001b[0m\u001b[0;34m:\u001b[0m\u001b[0;34m\u001b[0m\u001b[0m\n\u001b[0m\u001b[1;32m     28\u001b[0m             \u001b[0mconstraints\u001b[0m\u001b[0;34m+=\u001b[0m \u001b[0;34m[\u001b[0m\u001b[0;36m0\u001b[0m\u001b[0;34m<=\u001b[0m\u001b[0mvar_id\u001b[0m \u001b[0;34m,\u001b[0m \u001b[0mvar_id\u001b[0m\u001b[0;34m<=\u001b[0m\u001b[0;36m1\u001b[0m\u001b[0;34m]\u001b[0m\u001b[0;34m\u001b[0m\u001b[0m\n\u001b[1;32m     29\u001b[0m             \u001b[0mconstraints_holder\u001b[0m\u001b[0;34m.\u001b[0m\u001b[0mappend\u001b[0m\u001b[0;34m(\u001b[0m\u001b[0mvar_id\u001b[0m\u001b[0;34m)\u001b[0m\u001b[0;34m\u001b[0m\u001b[0m\n",
      "\u001b[0;32m/Users/Gfarnadi/anaconda/lib/python3.5/site-packages/cvxpy/constraints/leq_constraint.py\u001b[0m in \u001b[0;36m__bool__\u001b[0;34m(self)\u001b[0m\n\u001b[1;32m     82\u001b[0m         \u001b[0mRaising\u001b[0m \u001b[0man\u001b[0m \u001b[0merror\u001b[0m \u001b[0mhere\u001b[0m \u001b[0mprevents\u001b[0m \u001b[0mwriting\u001b[0m \u001b[0mchained\u001b[0m \u001b[0mconstraints\u001b[0m\u001b[0;34m.\u001b[0m\u001b[0;34m\u001b[0m\u001b[0m\n\u001b[1;32m     83\u001b[0m         \"\"\"\n\u001b[0;32m---> 84\u001b[0;31m         \u001b[0;32mreturn\u001b[0m \u001b[0mself\u001b[0m\u001b[0;34m.\u001b[0m\u001b[0m_chain_constraints\u001b[0m\u001b[0;34m(\u001b[0m\u001b[0;34m)\u001b[0m\u001b[0;34m\u001b[0m\u001b[0m\n\u001b[0m\u001b[1;32m     85\u001b[0m \u001b[0;34m\u001b[0m\u001b[0m\n\u001b[1;32m     86\u001b[0m     \u001b[0;34m@\u001b[0m\u001b[0mproperty\u001b[0m\u001b[0;34m\u001b[0m\u001b[0m\n",
      "\u001b[0;32m/Users/Gfarnadi/anaconda/lib/python3.5/site-packages/cvxpy/constraints/leq_constraint.py\u001b[0m in \u001b[0;36m_chain_constraints\u001b[0;34m(self)\u001b[0m\n\u001b[1;32m     70\u001b[0m         \"\"\"\n\u001b[1;32m     71\u001b[0m         raise Exception(\n\u001b[0;32m---> 72\u001b[0;31m             (\"Cannot evaluate the truth value of a constraint or \"\n\u001b[0m\u001b[1;32m     73\u001b[0m              \"chain constraints, e.g., 1 >= x >= 0.\")\n\u001b[1;32m     74\u001b[0m         )\n",
      "\u001b[0;31mException\u001b[0m: Cannot evaluate the truth value of a constraint or chain constraints, e.g., 1 >= x >= 0."
     ]
    }
   ],
   "source": [
    "world_size = 5\n",
    "final_objective, final_constraints, marketeds, buys, variable_dict = generate_synthethic(data_path, user_size, network_size, world_size)"
   ]
  },
  {
   "cell_type": "code",
   "execution_count": null,
   "metadata": {
    "collapsed": true
   },
   "outputs": [],
   "source": [
    "def run_decision_psl(data_path, user_size, network_size, world_size, reward_buy, reward_marketed, cost):\n",
    "    objective, constraints, marketed, buys, variable_dict = generate_synthethic(data_path, user_size, network_size, world_size)\n",
    "    marketing_cost = 0 \n",
    "    for marketed in marketeds:\n",
    "        marketing_cost = reward_marketed * variable_dict[marketed]\n",
    "    for buy in buys:\n",
    "        marketing_cost = reward_buys * variable_dict[buy]\n",
    "    constraints+=[marketing_cost<cost]  \n",
    "    \n",
    "    #solve the problem with cvxpy\n",
    "    objective_function = cvxpy.Minimize(objective)\n",
    "    decision_problem = cvxpy.Problem(objective_function, constraints)\n",
    "    decision_problem.solve()\n",
    "    \n",
    "    #getting the variable names and their values\n",
    "    results = dict()\n",
    "    for variable_name in variable_dict:\n",
    "        results[variable_name] = variable_dict[variable_name].value\n",
    "    \n",
    "    return results"
   ]
  }
 ],
 "metadata": {
  "kernelspec": {
   "display_name": "Python [Root]",
   "language": "python",
   "name": "Python [Root]"
  },
  "language_info": {
   "codemirror_mode": {
    "name": "ipython",
    "version": 3
   },
   "file_extension": ".py",
   "mimetype": "text/x-python",
   "name": "python",
   "nbconvert_exporter": "python",
   "pygments_lexer": "ipython3",
   "version": "3.5.2"
  }
 },
 "nbformat": 4,
 "nbformat_minor": 0
}
