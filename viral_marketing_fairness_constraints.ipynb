{
 "cells": [
  {
   "cell_type": "code",
   "execution_count": 1,
   "metadata": {
    "collapsed": true
   },
   "outputs": [],
   "source": [
    "import sqlite3,os,random\n",
    "conn = sqlite3.connect('viral_marketing.db')\n",
    "c = conn.cursor()"
   ]
  },
  {
   "cell_type": "code",
   "execution_count": 2,
   "metadata": {
    "collapsed": true
   },
   "outputs": [],
   "source": [
    "def test_query(query):\n",
    "    c.execute(query)\n",
    "    rows = c.fetchall()\n",
    "    for row in rows:\n",
    "        print(row)"
   ]
  },
  {
   "cell_type": "code",
   "execution_count": 3,
   "metadata": {
    "collapsed": false
   },
   "outputs": [
    {
     "name": "stdout",
     "output_type": "stream",
     "text": [
      "\n",
      "Constraint1\n",
      "==========\n",
      "('u0', None, 0.0)\n",
      "('u1', None, 0.0)\n",
      "('u2', None, 1.0)\n",
      "('u3', None, 0.0)\n",
      "('u4', None, 0.0)\n",
      "\n",
      "Fairness1-info\n",
      "==========\n",
      "(0, 'person', 'string', 0, None, 0)\n",
      "(1, 't1', 'real', 0, None, 0)\n",
      "(2, 't2', 'real', 0, None, 0)\n"
     ]
    }
   ],
   "source": [
    "def ground_fairness_constraints():\n",
    "    #Buy(u)∧Sensitive(u)\n",
    "    \n",
    "    #ground constraint 1\n",
    "    \n",
    "    print('\\nConstraint1\\n%s'%('='*10))\n",
    "    query = 'DROP TABLE IF EXISTS fairness1'\n",
    "    c.execute(query)\n",
    "    conn.commit()\n",
    "    \n",
    "    query = ''' CREATE TABLE IF NOT EXISTS fairness1\n",
    "            (person string, t1 real, t2 real)'''\n",
    "    c.execute(query)\n",
    "    \n",
    "    \n",
    "    query = '''INSERT INTO fairness1 (person, t2) SELECT person, truth FROM sensitive \n",
    "    '''\n",
    "    c.execute(query)\n",
    "    \n",
    "    query = '''\n",
    "    SELECT * from fairness1\n",
    "    '''\n",
    "    test_query(query)\n",
    "    \n",
    "    print('\\nFairness1-info\\n%s'%('='*10))\n",
    "    \n",
    "    query = '''\n",
    "    PRAGMA table_info(fairness1);\n",
    "    '''\n",
    "    test_query(query)\n",
    "    conn.close()\n",
    "\n",
    "ground_fairness_constraints()"
   ]
  }
 ],
 "metadata": {
  "anaconda-cloud": {},
  "kernelspec": {
   "display_name": "Python [Root]",
   "language": "python",
   "name": "Python [Root]"
  },
  "language_info": {
   "codemirror_mode": {
    "name": "ipython",
    "version": 3
   },
   "file_extension": ".py",
   "mimetype": "text/x-python",
   "name": "python",
   "nbconvert_exporter": "python",
   "pygments_lexer": "ipython3",
   "version": "3.5.2"
  }
 },
 "nbformat": 4,
 "nbformat_minor": 0
}
