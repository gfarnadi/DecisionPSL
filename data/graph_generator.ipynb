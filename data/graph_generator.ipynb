{
 "cells": [
  {
   "cell_type": "code",
   "execution_count": 1,
   "metadata": {
    "collapsed": true
   },
   "outputs": [],
   "source": [
    "import networkx, os, random"
   ]
  },
  {
   "cell_type": "code",
   "execution_count": 2,
   "metadata": {
    "collapsed": true
   },
   "outputs": [],
   "source": [
    "def save_file(path, content):\n",
    "    try:\n",
    "        os.remove(path)\n",
    "    except OSError:\n",
    "        pass\n",
    "    with open(path, 'a') as out:\n",
    "        out.write(content+'\\n')"
   ]
  },
  {
   "cell_type": "code",
   "execution_count": 3,
   "metadata": {
    "collapsed": false
   },
   "outputs": [],
   "source": [
    "n = 10\n",
    "m = 6\n",
    "p = 0.2\n",
    "graph = networkx.powerlaw_cluster_graph(n, m, p, seed=None)\n",
    "#for edge in graph.edges():\n",
    "#    print(edge)\n",
    "#for node in list(graph):\n",
    "#    print(node)"
   ]
  },
  {
   "cell_type": "code",
   "execution_count": 4,
   "metadata": {
    "collapsed": true
   },
   "outputs": [],
   "source": [
    "def create_synthetic_viral_marketing(n,m,p):\n",
    "    graph = networkx.powerlaw_cluster_graph(n, m, p, seed=None)\n",
    "    return graph\n",
    "\n",
    "def make_db_from_graph(graph, edge_file, node_file, sensitive_file):\n",
    "    edge_text= ''\n",
    "    node_text = ''\n",
    "    sensitive_text = ''\n",
    "    for edge in graph.edges():\n",
    "        edge_txt = str(edge).replace(\"(\",\"\").replace(\")\",\"\").replace(\",\", \"\\t\") \n",
    "        edge_text+=edge_txt+'\\n'\n",
    "    for node in list(graph):\n",
    "        node_text+=str(node)+'\\n'\n",
    "        sensivity = random.choice('01')\n",
    "        sensitive_text+=str(node)+'\\t'+sensivity+'\\n'\n",
    "    save_file(edge_file, edge_text)    \n",
    "    save_file(node_file, node_text)\n",
    "    save_file(sensitive_file, sensitive_text) \n",
    "\n",
    "def making_synthetic_viral_marketing_data(n, m, p, edge_file, node_file, sensitive_file):\n",
    "    graph = create_synthetic_viral_marketing(n,m,p)\n",
    "    make_db_from_graph(graph, edge_file, node_file, sensitive_file)\n",
    "    "
   ]
  },
  {
   "cell_type": "code",
   "execution_count": 5,
   "metadata": {
    "collapsed": false
   },
   "outputs": [],
   "source": [
    "n = 10\n",
    "m = 6\n",
    "p = 0.3\n",
    "edge_file = \"./trust.txt\"\n",
    "node_file = \"./user.txt\"\n",
    "sensitive_file = \"./sensitive.txt\"\n",
    "#generate_synthetic_viral_marketing(n,m,p, edge_file, node_file, sensitive_file)"
   ]
  },
  {
   "cell_type": "code",
   "execution_count": 6,
   "metadata": {
    "collapsed": true
   },
   "outputs": [],
   "source": [
    "def making_epinion_data(epinion_file, edge_file, node_file, sensitive_file):\n",
    "    graph=networkx.read_edgelist(epinion_file, nodetype=str)\n",
    "    make_db_from_graph(graph, edge_file, node_file, sensitive_file)"
   ]
  },
  {
   "cell_type": "code",
   "execution_count": 7,
   "metadata": {
    "collapsed": false
   },
   "outputs": [],
   "source": [
    "def get_epinion_info(epinion_file):\n",
    "    graph=networkx.read_edgelist(epinion_file, nodetype=str)\n",
    "    print(networkx.density(graph))\n",
    "    average = networkx.degree(graph)\n",
    "    mean = 0.0\n",
    "    n=0.0\n",
    "    print(len(average.items()))\n",
    "    print(len(graph.edges()))\n",
    "    for key,value in average.items():\n",
    "        n+=1.0\n",
    "        mean+=value\n",
    "    print(mean/n)"
   ]
  },
  {
   "cell_type": "code",
   "execution_count": 8,
   "metadata": {
    "collapsed": false
   },
   "outputs": [
    {
     "name": "stdout",
     "output_type": "stream",
     "text": [
      "0.00014094197295205573\n",
      "75879\n",
      "405740\n",
      "10.694395023656083\n"
     ]
    }
   ],
   "source": [
    "epinion_file = \"./soc-Epinions1.txt\"\n",
    "get_epinion_info(epinion_file)"
   ]
  },
  {
   "cell_type": "code",
   "execution_count": 13,
   "metadata": {
    "collapsed": false
   },
   "outputs": [],
   "source": [
    "n = 20\n",
    "m = 6\n",
    "p = 0.3\n",
    "edge_file = \"../sample_graphs2/data/trust-20.txt\"\n",
    "node_file = \"../sample_graphs2/data/user-20.txt\"\n",
    "sensitive_file = \"../sample_graphs2/data/sensitive-20.txt\"\n",
    "making_synthetic_viral_marketing_data(n, m, p, edge_file, node_file, sensitive_file)"
   ]
  },
  {
   "cell_type": "code",
   "execution_count": null,
   "metadata": {
    "collapsed": true
   },
   "outputs": [],
   "source": []
  }
 ],
 "metadata": {
  "kernelspec": {
   "display_name": "Python [Root]",
   "language": "python",
   "name": "Python [Root]"
  },
  "language_info": {
   "codemirror_mode": {
    "name": "ipython",
    "version": 3
   },
   "file_extension": ".py",
   "mimetype": "text/x-python",
   "name": "python",
   "nbconvert_exporter": "python",
   "pygments_lexer": "ipython3",
   "version": "3.5.2"
  }
 },
 "nbformat": 4,
 "nbformat_minor": 0
}
