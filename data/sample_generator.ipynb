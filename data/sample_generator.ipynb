{
 "cells": [
  {
   "cell_type": "code",
   "execution_count": 1,
   "metadata": {
    "collapsed": true
   },
   "outputs": [],
   "source": [
    "import os\n",
    "import sys\n",
    "sys.path.append(os.environ[\"PROBLOG_HOME\"])\n",
    "import problog\n",
    "from problog.tasks import sample\n",
    "from problog.program import PrologString"
   ]
  },
  {
   "cell_type": "code",
   "execution_count": 2,
   "metadata": {
    "collapsed": true
   },
   "outputs": [],
   "source": [
    "def save_file(path, content):\n",
    "    try:\n",
    "        os.remove(path)\n",
    "    except OSError:\n",
    "        pass\n",
    "    with open(path, 'a') as out:\n",
    "        out.write(content+'\\n')"
   ]
  },
  {
   "cell_type": "code",
   "execution_count": 3,
   "metadata": {
    "collapsed": true
   },
   "outputs": [],
   "source": [
    "def read_lines(file_path):\n",
    "    array = []\n",
    "    with open(file_path, \"r\") as ins:\n",
    "        for line in ins:\n",
    "            line = line.replace(\"\\n\",\"\").replace(\" \",\"\")\n",
    "            if len(line)>0:\n",
    "                array.append(line)\n",
    "    return array"
   ]
  },
  {
   "cell_type": "code",
   "execution_count": 4,
   "metadata": {
    "collapsed": true
   },
   "outputs": [],
   "source": [
    "def get_list(edge_path, user_path):\n",
    "    edges_initial = read_lines(edge_path)\n",
    "    edges = []\n",
    "    for e in edges_initial:\n",
    "        edge = e.split(\"\\t\")\n",
    "        #print(edge)\n",
    "        if len(edge)>1:\n",
    "            edges.append((edge[0], edge[1]))    \n",
    "    users = read_lines(user_path)\n",
    "    return edges, users"
   ]
  },
  {
   "cell_type": "code",
   "execution_count": 5,
   "metadata": {
    "collapsed": true
   },
   "outputs": [],
   "source": [
    "def get_samples(modeltext, sample_size):\n",
    "    model = PrologString(modeltext)\n",
    "    result = sample.sample(model, n=sample_size, format='dict')\n",
    "    return result   "
   ]
  },
  {
   "cell_type": "code",
   "execution_count": 6,
   "metadata": {
    "collapsed": false
   },
   "outputs": [],
   "source": [
    "def test_model(modeltext):\n",
    "    result = get_samples(modeltext, sample_size=3)\n",
    "    for i in result:\n",
    "        print(i)"
   ]
  },
  {
   "cell_type": "code",
   "execution_count": 7,
   "metadata": {
    "collapsed": false
   },
   "outputs": [],
   "source": [
    "def generate_model_text(sample_graph_path,node_size):\n",
    "    model_text = \"\"\n",
    "    model = \"\"\"\n",
    "1.0:: trusts_undirected(X,Y) :- trusts_directed(X,Y).\n",
    "1.0:: trusts_undirected(X,Y) :- trusts_directed(Y,X).\n",
    "0.4:: trusts(X,Y) :- trusts_undirected(X,Y).\n",
    "0.3:: trusts(X,Y) :- trusts_undirected(X,Z), trusts(Z,Y).\n",
    "0.2:: buy_from_marketing(_).\n",
    "0.3:: buy_from_trust(_,_).\n",
    "    \"\"\"\n",
    "    trust_file = sample_graph_path+\"data/trust-\"+str(node_size)+\".txt\"\n",
    "    user_file = sample_graph_path+\"data/user-\"+str(node_size)+\".txt\"\n",
    "    trusts, users = get_list(trust_file,user_file)\n",
    "    for trust in trusts:\n",
    "        model_text+=\"trusts_directed(\"+trust[0]+\",\"+trust[1]+\").\"+'\\n'\n",
    "    model_text+=model+'\\n'\n",
    "    query_text = \"\"\n",
    "    for user1 in users:\n",
    "        for user2 in users:\n",
    "            if user1!= user2:\n",
    "                query_text+=\"query(trusts(\"+user1+\",\"+user2+\")).\"+'\\n'\n",
    "                query_text+=\"query(buy_from_trust(\"+user1+\",\"+user2+\")).\"+'\\n'\n",
    "    for user in users:\n",
    "        query_text+=\"query(buy_from_marketing(\"+user+\")).\"+'\\n'\n",
    "    model_text+= query_text+\"\\n\" \n",
    "    model_path = sample_graph_path+\"model/\"+\"problog_model-\"+str(node_size)+\".txt\"\n",
    "    save_file(model_path, model_text)\n",
    "    return model_text"
   ]
  },
  {
   "cell_type": "code",
   "execution_count": 8,
   "metadata": {
    "collapsed": true
   },
   "outputs": [],
   "source": [
    "import pickle\n",
    "def save_to_pickle(dict_to_save, path_to_save):\n",
    "    with open(path_to_save, 'wb') as handle:\n",
    "        pickle.dump(dict_to_save, handle, protocol=pickle.HIGHEST_PROTOCOL)\n",
    "        \n",
    "def read_pickle(pickle_path):\n",
    "    b= {}\n",
    "    with open(pickle_path, 'rb') as handle:\n",
    "        b = pickle.load(handle)\n",
    "    return b"
   ]
  },
  {
   "cell_type": "code",
   "execution_count": 9,
   "metadata": {
    "collapsed": true
   },
   "outputs": [],
   "source": [
    "def make_dictionary (sample_result):\n",
    "    dict_to_save = {}\n",
    "    for sample_dict in sample_result:\n",
    "        for item in sample_dict.keys():\n",
    "            if item in dict_to_save.keys():\n",
    "                samples_of_item = dict_to_save[item]\n",
    "                samples_of_item.append(sample_dict[item])\n",
    "                dict_to_save[item] = samples_of_item\n",
    "            else:\n",
    "                dict_to_save[item] = [sample_dict[item]]\n",
    "    return dict_to_save"
   ]
  },
  {
   "cell_type": "code",
   "execution_count": null,
   "metadata": {
    "collapsed": true
   },
   "outputs": [],
   "source": [
    "def save_samples(sample_graph_path, node_size, sample_size):\n",
    "    model_text = generate_model_text(sample_graph_path,node_size)\n",
    "    result = get_samples(model_text, sample_size)\n",
    "    path_to_save = sample_graph_path+\"sample/generated_sample_dict-\"+str(node_size)+\"(\"+str(sample_size)+\")\"+\".pickle\"\n",
    "    dict_to_save = make_dictionary (result)\n",
    "    save_to_pickle(dict_to_save, path_to_save)"
   ]
  },
  {
   "cell_type": "code",
   "execution_count": null,
   "metadata": {
    "collapsed": false
   },
   "outputs": [],
   "source": [
    "sample_graph_path = \"../sample_graphs2/\"\n",
    "for node_size in [8,10,12,14,20]:\n",
    "    save_samples(sample_graph_path, node_size, sample_size = 1000)"
   ]
  },
  {
   "cell_type": "code",
   "execution_count": null,
   "metadata": {
    "collapsed": false
   },
   "outputs": [],
   "source": [
    "#sample_graph_path = \"../sample_graphs2/\"\n",
    "#pickle_path = sample_graph_path+\"sample/generated_sample_dict-\"+str(8)+\"(\"+str(1000)+\")\"+\".pickle\"\n",
    "#test_dict = read_pickle(pickle_path)"
   ]
  },
  {
   "cell_type": "code",
   "execution_count": null,
   "metadata": {
    "collapsed": false
   },
   "outputs": [],
   "source": [
    "#test_dict"
   ]
  },
  {
   "cell_type": "code",
   "execution_count": null,
   "metadata": {
    "collapsed": true
   },
   "outputs": [],
   "source": []
  }
 ],
 "metadata": {
  "anaconda-cloud": {},
  "kernelspec": {
   "display_name": "Python [Root]",
   "language": "python",
   "name": "Python [Root]"
  },
  "language_info": {
   "codemirror_mode": {
    "name": "ipython",
    "version": 3
   },
   "file_extension": ".py",
   "mimetype": "text/x-python",
   "name": "python",
   "nbconvert_exporter": "python",
   "pygments_lexer": "ipython3",
   "version": "3.5.2"
  }
 },
 "nbformat": 4,
 "nbformat_minor": 0
}
