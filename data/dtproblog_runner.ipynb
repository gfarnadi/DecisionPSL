{
 "cells": [
  {
   "cell_type": "code",
   "execution_count": 1,
   "metadata": {
    "collapsed": true
   },
   "outputs": [],
   "source": [
    "import os\n",
    "import sys\n",
    "sys.path.append(os.environ[\"PROBLOG_HOME\"])\n",
    "import problog\n",
    "from problog.tasks.dtproblog import dtproblog\n",
    "from problog.program import PrologString\n",
    "from problog.tasks import sample\n",
    "import time"
   ]
  },
  {
   "cell_type": "code",
   "execution_count": 2,
   "metadata": {
    "collapsed": true
   },
   "outputs": [],
   "source": [
    "def save_file(path, content):\n",
    "    try:\n",
    "        os.remove(path)\n",
    "    except OSError:\n",
    "        pass\n",
    "    with open(path, 'a') as out:\n",
    "        out.write(content+'\\n')"
   ]
  },
  {
   "cell_type": "code",
   "execution_count": 3,
   "metadata": {
    "collapsed": true
   },
   "outputs": [],
   "source": [
    "def run_dtproblog(node_size, model_path, output_file):\n",
    "    text = ''\n",
    "    model_text = get_program(model_path, node_size)\n",
    "    print(model_text)\n",
    "    program = PrologString(model_text)\n",
    "    current_milli_time = lambda: int(round(time.time() * 1000))\n",
    "    decisions, score, statistics = dtproblog(program)\n",
    "    after_milli_time = lambda: int(round(time.time() * 1000))\n",
    "    processing_time = after_milli_time - current_milli_time\n",
    "    text+=\"++++++++ Program for node size = \"+ str(node_size)+\"++++++++\"+'\\n'\n",
    "    text+= '+ statistics: '+str(statistics)+'\\n'\n",
    "    text+= '+ score: '+str(score)+'\\n'\n",
    "    text+= '+ processing time: '+str(processing_time)+'\\n'\n",
    "    print(\"++++++++ Program for node size = \"+ str(node_size)+\"++++++++\")\n",
    "    for name, value in decisions.items():\n",
    "        print ('%s: %s' % (name, value))\n",
    "        text+= str(name)+'\\t'+str(value)+'\\n'\n",
    "    save_file(output_file, text)    "
   ]
  },
  {
   "cell_type": "code",
   "execution_count": 4,
   "metadata": {
    "collapsed": true
   },
   "outputs": [],
   "source": [
    "def get_program(model_path, node_size):\n",
    "    file_path = model_path+'dtproblog_model-'+str(node_size)+'.txt'\n",
    "    model_text = ''\n",
    "    with open(model_path, 'r') as myfile:\n",
    "        model_text = myfile.read()\n",
    "    return model_text"
   ]
  },
  {
   "cell_type": "code",
   "execution_count": null,
   "metadata": {
    "collapsed": true
   },
   "outputs": [],
   "source": [
    "model_path = '../sample_graphs2/'\n",
    "for node_size in [8,10,12,14]:\n",
    "    output_file = model_path+'output/dtproblog_model-'+str(node_size)+'.txt'\n",
    "    run_dtproblog(node_size, model_path+'model/', output_file)"
   ]
  }
 ],
 "metadata": {
  "anaconda-cloud": {},
  "kernelspec": {
   "display_name": "Python [Root]",
   "language": "python",
   "name": "Python [Root]"
  },
  "language_info": {
   "codemirror_mode": {
    "name": "ipython",
    "version": 3
   },
   "file_extension": ".py",
   "mimetype": "text/x-python",
   "name": "python",
   "nbconvert_exporter": "python",
   "pygments_lexer": "ipython3",
   "version": "3.5.2"
  }
 },
 "nbformat": 4,
 "nbformat_minor": 0
}
