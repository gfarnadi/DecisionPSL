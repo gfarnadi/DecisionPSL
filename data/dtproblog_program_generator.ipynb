{
 "cells": [
  {
   "cell_type": "code",
   "execution_count": 1,
   "metadata": {
    "collapsed": true
   },
   "outputs": [],
   "source": [
    "import os\n",
    "import sys\n",
    "sys.path.append(os.environ[\"PROBLOG_HOME\"])\n",
    "import problog\n",
    "from problog.tasks.dtproblog import dtproblog\n",
    "from problog.program import PrologString\n",
    "from problog.tasks import sample"
   ]
  },
  {
   "cell_type": "code",
   "execution_count": 2,
   "metadata": {
    "collapsed": true
   },
   "outputs": [],
   "source": [
    "def save_file(path, content):\n",
    "    try:\n",
    "        os.remove(path)\n",
    "    except OSError:\n",
    "        pass\n",
    "    with open(path, 'a') as out:\n",
    "        out.write(content+'\\n')"
   ]
  },
  {
   "cell_type": "code",
   "execution_count": 3,
   "metadata": {
    "collapsed": true
   },
   "outputs": [],
   "source": [
    "def read_lines(file_path):\n",
    "    array = []\n",
    "    with open(file_path, \"r\") as ins:\n",
    "        for line in ins:\n",
    "            line = line.replace(\"\\n\",\"\").replace(\" \",\"\")\n",
    "            if len(line)>0:\n",
    "                array.append(line)\n",
    "    return array"
   ]
  },
  {
   "cell_type": "code",
   "execution_count": 4,
   "metadata": {
    "collapsed": true
   },
   "outputs": [],
   "source": [
    "def get_list(edge_path, user_path):\n",
    "    edges_initial = read_lines(edge_path)\n",
    "    edges = []\n",
    "    for e in edges_initial:\n",
    "        edge = e.split(\"\\t\")\n",
    "        #print(edge)\n",
    "        if len(edge)>1:\n",
    "            edges.append((edge[0], edge[1]))    \n",
    "    users = read_lines(user_path)\n",
    "    return edges, users"
   ]
  },
  {
   "cell_type": "code",
   "execution_count": 5,
   "metadata": {
    "collapsed": true
   },
   "outputs": [],
   "source": [
    "def generate_dtproblog_program(edge_path, user_path, program_path):\n",
    "    edge_list, user_list = get_list(edge_path, user_path)\n",
    "    text = \"% Decisions\\n\"\n",
    "    text +=\"? :: marketed(P) :- person(P).\\n\\n\"\n",
    "    text +=\"% Utility attributes\\n\"\n",
    "    text +=\"buys(P) => 5 :- person(P).\\n\"\n",
    "    text +=\"marketed(P) => -2 :- person(P).\\n\"\n",
    "    text +=\"% Probabilistic facts\\n\"\n",
    "    text +=\"0.2 :: buy_from_marketing(_).\\n\"\n",
    "    text +=\"0.3 :: buy_from_trust(_,_).\\n\"\n",
    "    text +=\"% Background knowledge'\\n\"\n",
    "    for user in user_list:\n",
    "        text+= \"person(\"+str(user)+\").\\n\"\n",
    "        \n",
    "    text +=\" trusts(X,Y) :- trusts_directed(X,Y).\\n\"\n",
    "    text +=\"trusts(X,Y) :- trusts_directed(Y,X).\\n\"\n",
    "    \n",
    "    for edge in edge_list:\n",
    "        text+= \"trusts_directed(\"+str(edge[0])+\",\"+str(edge[1])+\").\\n\" \n",
    "       \n",
    "    text +=\"buys(X) :- buys(X,[X]).\\n\"\n",
    "    text +=\"buys(X, _) :-\\n\"\n",
    "    text +=\"    marketed(X),\\n\"\n",
    "    text +=\"    buy_from_marketing(X).\\n\"\n",
    "    text +=\"buys(X, Visited) :-\\n\"\n",
    "    text +=\"    trusts(X,Y),\\n\"\n",
    "    text +=\"    buy_from_trust(X,Y),\\n\"\n",
    "    text +=\"    absent(Y,Visited),\\n\"\n",
    "    text +=\"    buys(Y, [Y|Visited]).\\n\"\n",
    "    text +=\"absent(_,[]).\\n\"\n",
    "    text +=\"absent(X,[Y|Z]):-X \\= Y, absent(X,Z).\\n\"\n",
    "\n",
    "    \n",
    "#    save_file(text,program_path)"
   ]
  },
  {
   "cell_type": "code",
   "execution_count": 6,
   "metadata": {
    "collapsed": false
   },
   "outputs": [],
   "source": [
    "#for person in ('angelika', 'guy', 'bernd', 'kurt', 'theo',\n",
    "#               'martijn', 'laura','ingo'):\n",
    "#    print('?::marketed(%s).'%person)\n",
    "#     print('utility(buys(%s), 5).'%person)\n",
    "#     print('utility(marketed(%s), -2).'%person)"
   ]
  },
  {
   "cell_type": "code",
   "execution_count": 7,
   "metadata": {
    "collapsed": true
   },
   "outputs": [],
   "source": [
    "\n",
    "def solve_dtProblog():\n",
    "    model= '''\n",
    "    % Decisions\n",
    "    ?::marketed(angelika).\n",
    "    ?::marketed(guy).\n",
    "    ?::marketed(bernd).\n",
    "    ?::marketed(kurt).\n",
    "    ?::marketed(theo).\n",
    "    ?::marketed(martijn).\n",
    "    ?::marketed(laura).\n",
    "    ?::marketed(ingo).\n",
    " \n",
    "    utility(buys(angelika), 5).\n",
    "    utility(marketed(angelika), -2).\n",
    "    utility(buys(guy), 5).\n",
    "    utility(marketed(guy), -2).\n",
    "    utility(buys(bernd), 5).\n",
    "    utility(marketed(bernd), -2).\n",
    "    utility(buys(kurt), 5).\n",
    "    utility(marketed(kurt), -2).\n",
    "    utility(buys(theo), 5).\n",
    "    utility(marketed(theo), -2).\n",
    "    utility(buys(martijn), 5).\n",
    "    utility(marketed(martijn), -2).\n",
    "    utility(buys(laura), 5).\n",
    "    utility(marketed(laura), -2).\n",
    "    utility(buys(ingo), 5).\n",
    "    utility(marketed(ingo), -2).\n",
    "\n",
    "    % Probabilistic facts\n",
    "    0.2 :: buy_from_marketing(_).\n",
    "    0.3 :: buy_from_trust(_,_).\n",
    "\n",
    "    % Background knowledge\n",
    "    person(bernd).\n",
    "    person(ingo).\n",
    "    person(theo).\n",
    "    person(angelika).\n",
    "    person(guy).\n",
    "    person(martijn).\n",
    "    person(laura).\n",
    "    person(kurt).\n",
    "\n",
    "    trusts(X,Y) :- trusts_directed(X,Y).\n",
    "    trusts(X,Y) :- trusts_directed(Y,X).\n",
    "\n",
    "    trusts_directed(bernd,ingo).\n",
    "    trusts_directed(ingo,theo).\n",
    "    trusts_directed(theo,angelika).\n",
    "    trusts_directed(bernd,martijn).\n",
    "    trusts_directed(ingo,martijn).\n",
    "    trusts_directed(martijn,guy).\n",
    "    trusts_directed(guy,theo).\n",
    "    trusts_directed(guy,angelika).\n",
    "    trusts_directed(laura,ingo).\n",
    "    trusts_directed(laura,theo).\n",
    "    trusts_directed(laura,guy).\n",
    "    trusts_directed(laura,martijn).\n",
    "    trusts_directed(kurt,bernd).\n",
    "\n",
    "    buys(X) :-\n",
    "         marketed(X),\n",
    "         buy_from_marketing(X).\n",
    "    buys(X) :-\n",
    "         trusts(X,Y),\n",
    "         buy_from_trust(X,Y),\n",
    "         buys(Y).\n",
    "'''\n",
    "    program = PrologString(model)\n",
    "    decisions, score, statistics = dtproblog(program)\n",
    "\n",
    "    for name, value in decisions.items():\n",
    "        print ('%s: %s' % (name, value))"
   ]
  },
  {
   "cell_type": "code",
   "execution_count": 8,
   "metadata": {
    "collapsed": false
   },
   "outputs": [],
   "source": [
    "#%%time\n",
    "#solve_dtProblog()"
   ]
  },
  {
   "cell_type": "code",
   "execution_count": 9,
   "metadata": {
    "collapsed": false
   },
   "outputs": [],
   "source": [
    "#4.2 / (2**7)"
   ]
  },
  {
   "cell_type": "code",
   "execution_count": 10,
   "metadata": {
    "collapsed": false
   },
   "outputs": [],
   "source": [
    "#for x in (10, 12, 14):\n",
    "#    t = 0.0328125 * (2**x)\n",
    "#    print(x, t)"
   ]
  },
  {
   "cell_type": "code",
   "execution_count": 11,
   "metadata": {
    "collapsed": false
   },
   "outputs": [],
   "source": [
    "def solve_dtProblog():\n",
    "    model= '''\n",
    "    0.3::rain.\n",
    "    0.5::wind.\n",
    "    ?::umbrella.\n",
    "    ?::raincoat.\n",
    "\n",
    "    broken_umbrella :- umbrella, rain, wind.\n",
    "    dry :- rain, raincoat.\n",
    "    dry :- rain, umbrella, not broken_umbrella.\n",
    "    dry :- not(rain).\n",
    "\n",
    "    utility(broken_umbrella, -40).\n",
    "    utility(raincoat, -20).\n",
    "    utility(umbrella, -2).\n",
    "    utility(dry, 60).\n",
    "'''\n",
    "    program = PrologString(model)\n",
    "    decisions, score, statistics = dtproblog(program)\n",
    "\n",
    "    for name, value in decisions.items():\n",
    "        print ('%s: %s' % (name, value))\n",
    "        \n",
    "#solve_dtProblog()"
   ]
  },
  {
   "cell_type": "code",
   "execution_count": 12,
   "metadata": {
    "collapsed": false,
    "scrolled": true
   },
   "outputs": [],
   "source": [
    "from problog.program import PrologString\n",
    "from problog import get_evaluatable\n",
    "from problog.program import PrologFile\n",
    "from problog.formula import LogicFormula\n",
    "from problog.sdd_formula import SDD\n",
    "from problog.cnf_formula import CNF\n",
    "\n",
    "def solve():\n",
    "    model= '''\n",
    "    % Decisions\n",
    "    0.1::marketed(guy).\n",
    "    0.2::marketed(bernd).\n",
    "    0.5::marketed(ingo).\n",
    "    0.3::marketed(theo).\n",
    "\n",
    "    % Probabilistic facts\n",
    "    0.2 :: buy_from_marketing(_).\n",
    "    0.3 :: buy_from_trust(_,_).\n",
    "\n",
    "    % Background knowledge\n",
    "    person(bernd).\n",
    "    person(ingo).\n",
    "    person(theo).\n",
    "    person(angelika).\n",
    "    person(guy).\n",
    "    person(martijn).\n",
    "    person(laura).\n",
    "    person(kurt).\n",
    "\n",
    "    trusts(X,Y) :- trusts_directed(X,Y).\n",
    "    trusts(X,Y) :- trusts_directed(Y,X).\n",
    "\n",
    "    trusts_directed(bernd,ingo).\n",
    "    trusts_directed(ingo,theo).\n",
    "    trusts_directed(theo,angelika).\n",
    "    trusts_directed(bernd,martijn).\n",
    "    trusts_directed(ingo,martijn).\n",
    "    trusts_directed(martijn,guy).\n",
    "    trusts_directed(guy,theo).\n",
    "    trusts_directed(guy,angelika).\n",
    "    trusts_directed(laura,ingo).\n",
    "    trusts_directed(laura,theo).\n",
    "    trusts_directed(laura,guy).\n",
    "    trusts_directed(laura,martijn).\n",
    "    trusts_directed(kurt,bernd).\n",
    "\n",
    "    buys(X) :-\n",
    "         marketed(X),\n",
    "         buy_from_marketing(X).\n",
    "    buys(X) :-\n",
    "         trusts(X,Y),\n",
    "         buy_from_trust(X,Y),\n",
    "         buys(Y).\n",
    "         \n",
    "    query(buys(kurt)).\n",
    "'''\n",
    "    \n",
    "    program = PrologString(model)\n",
    "    formula = LogicFormula.create_from(program)\n",
    "    sdd = SDD.create_from(formula)\n",
    "    return sdd.evaluate()\n",
    "\n",
    "#%timeit solve()"
   ]
  },
  {
   "cell_type": "code",
   "execution_count": 13,
   "metadata": {
    "collapsed": false
   },
   "outputs": [],
   "source": [
    "model_text = \"\"\n",
    "for user in ['u1', 'u2']:\n",
    "    model_text+='?::marketed(%s).'%user\n",
    "    model_text+='\\n'\n",
    "    model_text+='utility(buys(%s), 5).'%user\n",
    "    model_text+='\\n'\n",
    "    model_text+='utility(marketed(%s), -2).'%user\n",
    "    model_text+='\\n'\n",
    "#print(model_text)\n",
    "    "
   ]
  },
  {
   "cell_type": "code",
   "execution_count": 14,
   "metadata": {
    "collapsed": false
   },
   "outputs": [],
   "source": [
    "model_text = \"\"\n",
    "for edge in [('e1','e2'), ('e2','e4')]:\n",
    "         model_text+='trusts_directed(%s,%s).'%(edge[0],edge[1])\n",
    "         model_text+='\\n'\n",
    "#print(model_text)"
   ]
  },
  {
   "cell_type": "code",
   "execution_count": 36,
   "metadata": {
    "collapsed": true
   },
   "outputs": [],
   "source": [
    "def generate_probog_program(edge_path, user_path, program_path):\n",
    "    edge_list, user_list = get_list(edge_path, user_path)\n",
    "    model_text = \"\"\n",
    "    for user in user_list:\n",
    "        model_text+='?::marketed(%s).'%user\n",
    "        model_text+='\\n'\n",
    "        model_text+='utility(buys(%s), 5).'%user\n",
    "        model_text+='\\n'\n",
    "        model_text+='utility(marketed(%s), -2).'%user\n",
    "        model_text+='\\n'\n",
    "        model_text+='person(%s).'%user\n",
    "        model_text+='\\n'\n",
    "    model_text+='trusts(X,Y) :- trusts_directed(X,Y).'+'\\n'\n",
    "    model_text+='trusts(X,Y) :- trusts_directed(Y,X).'+'\\n'\n",
    "    for edge in edge_list:\n",
    "        model_text+='trusts_directed(%s,%s).'%(edge[0],edge[1])\n",
    "        model_text+='\\n'\n",
    "    model_text+='buys(X) :-'+'\\n'\n",
    "    model_text+='marketed(X),'+'\\n'\n",
    "    model_text+='buy_from_marketing(X).'+'\\n'\n",
    "    model_text+='buys(X) :-'+'\\n'\n",
    "    model_text+='trusts(X,Y),'+'\\n'\n",
    "    model_text+='buy_from_trust(X,Y),'+'\\n'\n",
    "    model_text+='buys(Y).'+'\\n'\n",
    "    save_file(program_path, model_text)\n",
    "    return model_text"
   ]
  },
  {
   "cell_type": "code",
   "execution_count": 37,
   "metadata": {
    "collapsed": false
   },
   "outputs": [],
   "source": [
    "def generate_program(node_size):\n",
    "    sample_graph_path = \"../sample_graphs/\"\n",
    "    trust_file = sample_graph_path+\"trust-\"+str(node_size)+\".txt\"\n",
    "    user_file = sample_graph_path+\"user-\"+str(node_size)+\".txt\"\n",
    "    program_path = sample_graph_path+\"dtproblog_model-\"+str(node_size)+\".txt\"\n",
    "    model_text = generate_probog_program(trust_file, user_file, program_path)\n",
    "    return model_text\n"
   ]
  },
  {
   "cell_type": "code",
   "execution_count": 38,
   "metadata": {
    "collapsed": true
   },
   "outputs": [],
   "source": [
    "def run_dtproblog(node_size):\n",
    "    model_text = generate_program(node_size)\n",
    "    print(model_text)\n",
    "    program = PrologString(model_text)\n",
    "    decisions, score, statistics = dtproblog(program)\n",
    "    print(\"++++++++ Program for node size = \"+ str(node_size)+\"++++++++\")\n",
    "    for name, value in decisions.items():\n",
    "        print ('%s: %s' % (name, value))"
   ]
  },
  {
   "cell_type": "code",
   "execution_count": 39,
   "metadata": {
    "collapsed": false
   },
   "outputs": [
    {
     "name": "stdout",
     "output_type": "stream",
     "text": [
      "None\n"
     ]
    },
    {
     "ename": "AttributeError",
     "evalue": "'NoneType' object has no attribute 'find'",
     "output_type": "error",
     "traceback": [
      "\u001b[0;31m---------------------------------------------------------------------------\u001b[0m",
      "\u001b[0;31mAttributeError\u001b[0m                            Traceback (most recent call last)",
      "\u001b[0;32m<ipython-input-39-4e277a9da855>\u001b[0m in \u001b[0;36m<module>\u001b[0;34m()\u001b[0m\n\u001b[1;32m      1\u001b[0m \u001b[0;32mfor\u001b[0m \u001b[0mnode_size\u001b[0m \u001b[0;32min\u001b[0m \u001b[0;34m[\u001b[0m\u001b[0;36m10\u001b[0m\u001b[0;34m,\u001b[0m\u001b[0;36m12\u001b[0m\u001b[0;34m,\u001b[0m\u001b[0;36m14\u001b[0m\u001b[0;34m]\u001b[0m\u001b[0;34m:\u001b[0m\u001b[0;34m\u001b[0m\u001b[0m\n\u001b[0;32m----> 2\u001b[0;31m     \u001b[0mrun_dtproblog\u001b[0m\u001b[0;34m(\u001b[0m\u001b[0mnode_size\u001b[0m\u001b[0;34m)\u001b[0m\u001b[0;34m\u001b[0m\u001b[0m\n\u001b[0m\u001b[1;32m      3\u001b[0m \u001b[0;34m\u001b[0m\u001b[0m\n",
      "\u001b[0;32m<ipython-input-38-e6fdadc4b8a4>\u001b[0m in \u001b[0;36mrun_dtproblog\u001b[0;34m(node_size)\u001b[0m\n\u001b[1;32m      2\u001b[0m     \u001b[0mmodel_text\u001b[0m \u001b[0;34m=\u001b[0m \u001b[0mgenerate_program\u001b[0m\u001b[0;34m(\u001b[0m\u001b[0mnode_size\u001b[0m\u001b[0;34m)\u001b[0m\u001b[0;34m\u001b[0m\u001b[0m\n\u001b[1;32m      3\u001b[0m     \u001b[0mprint\u001b[0m\u001b[0;34m(\u001b[0m\u001b[0mmodel_text\u001b[0m\u001b[0;34m)\u001b[0m\u001b[0;34m\u001b[0m\u001b[0m\n\u001b[0;32m----> 4\u001b[0;31m     \u001b[0mprogram\u001b[0m \u001b[0;34m=\u001b[0m \u001b[0mPrologString\u001b[0m\u001b[0;34m(\u001b[0m\u001b[0mmodel_text\u001b[0m\u001b[0;34m)\u001b[0m\u001b[0;34m\u001b[0m\u001b[0m\n\u001b[0m\u001b[1;32m      5\u001b[0m     \u001b[0mdecisions\u001b[0m\u001b[0;34m,\u001b[0m \u001b[0mscore\u001b[0m\u001b[0;34m,\u001b[0m \u001b[0mstatistics\u001b[0m \u001b[0;34m=\u001b[0m \u001b[0mdtproblog\u001b[0m\u001b[0;34m(\u001b[0m\u001b[0mprogram\u001b[0m\u001b[0;34m)\u001b[0m\u001b[0;34m\u001b[0m\u001b[0m\n\u001b[1;32m      6\u001b[0m     \u001b[0mprint\u001b[0m\u001b[0;34m(\u001b[0m\u001b[0;34m\"++++++++ Program for node size = \"\u001b[0m\u001b[0;34m+\u001b[0m \u001b[0mstr\u001b[0m\u001b[0;34m(\u001b[0m\u001b[0mnode_size\u001b[0m\u001b[0;34m)\u001b[0m\u001b[0;34m+\u001b[0m\u001b[0;34m\"++++++++\"\u001b[0m\u001b[0;34m)\u001b[0m\u001b[0;34m\u001b[0m\u001b[0m\n",
      "\u001b[0;32m/Users/Gfarnadi/Movies/problog/problogBitBucket/problog/program.py\u001b[0m in \u001b[0;36m__init__\u001b[0;34m(self, string, parser, factory, source_root, source_files, identifier)\u001b[0m\n\u001b[1;32m    214\u001b[0m         \u001b[0mself\u001b[0m\u001b[0;34m.\u001b[0m\u001b[0m__program\u001b[0m \u001b[0;34m=\u001b[0m \u001b[0;32mNone\u001b[0m\u001b[0;34m\u001b[0m\u001b[0m\n\u001b[1;32m    215\u001b[0m         \u001b[0mself\u001b[0m\u001b[0;34m.\u001b[0m\u001b[0m__identifier\u001b[0m \u001b[0;34m=\u001b[0m \u001b[0midentifier\u001b[0m\u001b[0;34m\u001b[0m\u001b[0m\n\u001b[0;32m--> 216\u001b[0;31m         \u001b[0mlines\u001b[0m \u001b[0;34m=\u001b[0m \u001b[0;34m[\u001b[0m\u001b[0mself\u001b[0m\u001b[0;34m.\u001b[0m\u001b[0m_find_lines\u001b[0m\u001b[0;34m(\u001b[0m\u001b[0mstring\u001b[0m\u001b[0;34m)\u001b[0m\u001b[0;34m]\u001b[0m\u001b[0;34m\u001b[0m\u001b[0m\n\u001b[0m\u001b[1;32m    217\u001b[0m         \u001b[0;32mif\u001b[0m \u001b[0mparser\u001b[0m \u001b[0;32mis\u001b[0m \u001b[0;32mNone\u001b[0m\u001b[0;34m:\u001b[0m\u001b[0;34m\u001b[0m\u001b[0m\n\u001b[1;32m    218\u001b[0m             \u001b[0;32mif\u001b[0m \u001b[0mfactory\u001b[0m \u001b[0;32mis\u001b[0m \u001b[0;32mNone\u001b[0m\u001b[0;34m:\u001b[0m\u001b[0;34m\u001b[0m\u001b[0m\n",
      "\u001b[0;32m/Users/Gfarnadi/Movies/problog/problogBitBucket/problog/program.py\u001b[0m in \u001b[0;36m_find_lines\u001b[0;34m(self, s)\u001b[0m\n\u001b[1;32m    236\u001b[0m         \u001b[0;34m\"\"\"Find line-end positions.\"\"\"\u001b[0m\u001b[0;34m\u001b[0m\u001b[0m\n\u001b[1;32m    237\u001b[0m         \u001b[0mlines\u001b[0m \u001b[0;34m=\u001b[0m \u001b[0;34m[\u001b[0m\u001b[0;34m-\u001b[0m\u001b[0;36m1\u001b[0m\u001b[0;34m]\u001b[0m\u001b[0;34m\u001b[0m\u001b[0m\n\u001b[0;32m--> 238\u001b[0;31m         \u001b[0mf\u001b[0m \u001b[0;34m=\u001b[0m \u001b[0ms\u001b[0m\u001b[0;34m.\u001b[0m\u001b[0mfind\u001b[0m\u001b[0;34m(\u001b[0m\u001b[0;34m'\\n'\u001b[0m\u001b[0;34m)\u001b[0m\u001b[0;34m\u001b[0m\u001b[0m\n\u001b[0m\u001b[1;32m    239\u001b[0m         \u001b[0;32mwhile\u001b[0m \u001b[0mf\u001b[0m \u001b[0;34m>=\u001b[0m \u001b[0;36m0\u001b[0m\u001b[0;34m:\u001b[0m\u001b[0;34m\u001b[0m\u001b[0m\n\u001b[1;32m    240\u001b[0m             \u001b[0mlines\u001b[0m\u001b[0;34m.\u001b[0m\u001b[0mappend\u001b[0m\u001b[0;34m(\u001b[0m\u001b[0mf\u001b[0m\u001b[0;34m)\u001b[0m\u001b[0;34m\u001b[0m\u001b[0m\n",
      "\u001b[0;31mAttributeError\u001b[0m: 'NoneType' object has no attribute 'find'"
     ]
    }
   ],
   "source": [
    "for node_size in [10,12,14]:\n",
    "    run_dtproblog(node_size)\n",
    "    "
   ]
  },
  {
   "cell_type": "code",
   "execution_count": null,
   "metadata": {
    "collapsed": true
   },
   "outputs": [],
   "source": []
  }
 ],
 "metadata": {
  "anaconda-cloud": {},
  "kernelspec": {
   "display_name": "Python [Root]",
   "language": "python",
   "name": "Python [Root]"
  },
  "language_info": {
   "codemirror_mode": {
    "name": "ipython",
    "version": 3
   },
   "file_extension": ".py",
   "mimetype": "text/x-python",
   "name": "python",
   "nbconvert_exporter": "python",
   "pygments_lexer": "ipython3",
   "version": "3.5.2"
  }
 },
 "nbformat": 4,
 "nbformat_minor": 1
}
