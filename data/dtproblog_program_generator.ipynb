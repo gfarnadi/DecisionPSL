{
 "cells": [
  {
   "cell_type": "code",
   "execution_count": 1,
   "metadata": {
    "collapsed": true
   },
   "outputs": [],
   "source": [
    "import os\n",
    "import sys\n",
    "sys.path.append(os.environ[\"PROBLOG_HOME\"])\n",
    "import problog\n",
    "from problog.tasks.dtproblog import dtproblog\n",
    "from problog.program import PrologString\n",
    "from problog.tasks import sample"
   ]
  },
  {
   "cell_type": "code",
   "execution_count": 2,
   "metadata": {
    "collapsed": true
   },
   "outputs": [],
   "source": [
    "def save_file(path, content):\n",
    "    try:\n",
    "        os.remove(path)\n",
    "    except OSError:\n",
    "        pass\n",
    "    with open(path, 'a') as out:\n",
    "        out.write(content+'\\n')"
   ]
  },
  {
   "cell_type": "code",
   "execution_count": 3,
   "metadata": {
    "collapsed": true
   },
   "outputs": [],
   "source": [
    "def read_lines(file_path):\n",
    "    array = []\n",
    "    with open(file_path, \"r\") as ins:\n",
    "        for line in ins:\n",
    "            line = line.replace(\"\\n\",\"\").replace(\" \",\"\")\n",
    "            if len(line)>0:\n",
    "                array.append(line)\n",
    "    return array"
   ]
  },
  {
   "cell_type": "code",
   "execution_count": 4,
   "metadata": {
    "collapsed": true
   },
   "outputs": [],
   "source": [
    "def get_list(edge_path, user_path):\n",
    "    edges_initial = read_lines(edge_path)\n",
    "    edges = []\n",
    "    for e in edges_initial:\n",
    "        edge = e.split(\"\\t\")\n",
    "        #print(edge)\n",
    "        if len(edge)>1:\n",
    "            edges.append((edge[0], edge[1]))    \n",
    "    users = read_lines(user_path)\n",
    "    return edges, users"
   ]
  },
  {
   "cell_type": "code",
   "execution_count": 5,
   "metadata": {
    "collapsed": false
   },
   "outputs": [],
   "source": [
    "model_text = \"\"\n",
    "for edge in [('e1','e2'), ('e2','e4')]:\n",
    "         model_text+='trusts_directed(%s,%s).'%(edge[0],edge[1])\n",
    "         model_text+='\\n'\n",
    "#print(model_text)"
   ]
  },
  {
   "cell_type": "code",
   "execution_count": 6,
   "metadata": {
    "collapsed": false
   },
   "outputs": [],
   "source": [
    "def generate_dtproblog_program(edge_path, user_path, program_path):\n",
    "    edge_list, user_list = get_list(edge_path, user_path)\n",
    "    model_text = \"\"\n",
    "    for user in user_list:\n",
    "        model_text+='?::marketed(%s).'%user\n",
    "        model_text+='\\n'\n",
    "        model_text+='utility(buys(%s), 5).'%user\n",
    "        model_text+='\\n'\n",
    "        model_text+='utility(marketed(%s), -2).'%user\n",
    "        model_text+='\\n'\n",
    "        model_text+='person(%s).'%user\n",
    "        model_text+='\\n'\n",
    "    model_text+=\"1.0:: trusts_undirected(X,Y) :- trusts_directed(X,Y).\\n\"\n",
    "    model_text+=\"1.0:: trusts_undirected(X,Y) :- trusts_directed(Y,X).\\n\"\n",
    "    model_text+=\"0.4:: trusts(X,Y) :- trusts_undirected(X,Y).\\n\"\n",
    "    model_text+=\"0.3:: trusts(X,Y) :- trusts_undirected(X,Z), trusts(Z,Y).\\n\"\n",
    "    model_text+='0.2 :: buy_from_marketing(_).'+'\\n'\n",
    "    model_text+='0.3 :: buy_from_trust(_,_).'+'\\n'\n",
    "    for edge in edge_list:\n",
    "        model_text+='trusts_directed(%s,%s).'%(edge[0],edge[1])\n",
    "        model_text+='\\n'\n",
    "    model_text+='buys(X) :-'+'\\n'\n",
    "    model_text+='marketed(X),'+'\\n'\n",
    "    model_text+='buy_from_marketing(X).'+'\\n'\n",
    "    model_text+='buys(X) :-'+'\\n'\n",
    "    model_text+='trusts(X,Y),'+'\\n'\n",
    "    model_text+='buy_from_trust(X,Y),'+'\\n'\n",
    "    model_text+='buys(Y).'+'\\n'\n",
    "    save_file(program_path, model_text)\n",
    "    return model_text"
   ]
  },
  {
   "cell_type": "code",
   "execution_count": 7,
   "metadata": {
    "collapsed": false
   },
   "outputs": [],
   "source": [
    "def generate_program(node_size):\n",
    "    sample_graph_path = \"../sample_graphs2/\"\n",
    "    trust_file = sample_graph_path+\"data/trust-\"+str(node_size)+\".txt\"\n",
    "    user_file = sample_graph_path+\"data/user-\"+str(node_size)+\".txt\"\n",
    "    program_path = sample_graph_path+\"model/dtproblog_model-\"+str(node_size)+\".txt\"\n",
    "    model_text = generate_dtproblog_program(trust_file, user_file, program_path)\n",
    "    return model_text"
   ]
  },
  {
   "cell_type": "code",
   "execution_count": 8,
   "metadata": {
    "collapsed": true
   },
   "outputs": [],
   "source": [
    "def run_dtproblog(node_size):\n",
    "    model_text = generate_program(node_size)\n",
    "    print(model_text)\n",
    "    program = PrologString(model_text)\n",
    "    decisions, score, statistics = dtproblog(program)\n",
    "    print(\"++++++++ Program for node size = \"+ str(node_size)+\"++++++++\")\n",
    "    for name, value in decisions.items():\n",
    "        print ('%s: %s' % (name, value))"
   ]
  },
  {
   "cell_type": "code",
   "execution_count": 9,
   "metadata": {
    "collapsed": false
   },
   "outputs": [],
   "source": [
    "for node_size in [8,10,12,14,20]:\n",
    "    generate_program(node_size)\n",
    "    "
   ]
  },
  {
   "cell_type": "code",
   "execution_count": null,
   "metadata": {
    "collapsed": true
   },
   "outputs": [],
   "source": []
  }
 ],
 "metadata": {
  "anaconda-cloud": {},
  "kernelspec": {
   "display_name": "Python [Root]",
   "language": "python",
   "name": "Python [Root]"
  },
  "language_info": {
   "codemirror_mode": {
    "name": "ipython",
    "version": 3
   },
   "file_extension": ".py",
   "mimetype": "text/x-python",
   "name": "python",
   "nbconvert_exporter": "python",
   "pygments_lexer": "ipython3",
   "version": "3.5.2"
  }
 },
 "nbformat": 4,
 "nbformat_minor": 1
}
