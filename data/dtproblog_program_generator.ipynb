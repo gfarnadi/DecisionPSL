{
 "cells": [
  {
   "cell_type": "code",
   "execution_count": 2,
   "metadata": {},
   "outputs": [],
   "source": [
    "import os\n",
    "import sys\n",
    "sys.path.append(\"/Users/Gfarnadi/Movies/problog/problogBitBucket\")\n",
    "import problog\n",
    "from problog.tasks.dtproblog import dtproblog\n",
    "from problog.program import PrologString\n",
    "from problog.tasks import sample"
   ]
  },
  {
   "cell_type": "code",
   "execution_count": 2,
   "metadata": {},
   "outputs": [],
   "source": [
    "def save_file(path, content):\n",
    "    try:\n",
    "        os.remove(path)\n",
    "    except OSError:\n",
    "        pass\n",
    "    with open(path, 'a') as out:\n",
    "        out.write(content+'\\n')"
   ]
  },
  {
   "cell_type": "code",
   "execution_count": 3,
   "metadata": {},
   "outputs": [],
   "source": [
    "def read_lines(file_path):\n",
    "    array = []\n",
    "    with open(file_path, \"r\") as ins:\n",
    "        for line in ins:\n",
    "            array.append(line)\n",
    "    return array"
   ]
  },
  {
   "cell_type": "code",
   "execution_count": 4,
   "metadata": {},
   "outputs": [],
   "source": [
    "def get_list(edge_path, user_path):\n",
    "    edges_initial = read_lines(edge_path)\n",
    "    edges = []\n",
    "    for e in edges_initial:\n",
    "        edge = e.split(\"\\t\")\n",
    "        edges.append[edge]    \n",
    "    users = read_lines(user_path)\n",
    "    return edges, users"
   ]
  },
  {
   "cell_type": "code",
   "execution_count": null,
   "metadata": {},
   "outputs": [],
   "source": []
  },
  {
   "cell_type": "code",
   "execution_count": 5,
   "metadata": {},
   "outputs": [],
   "source": [
    "def generate_dtproblog_program(edge_path, user_path, program_path):\n",
    "    edge_list, user_list = get_list(edge_path, user_path)\n",
    "    text = \"% Decisions\\n\"\n",
    "    text +=\"? :: marketed(P) :- person(P).\\n\\n\"\n",
    "    text +=\"% Utility attributes\\n\"\n",
    "    text +=\"buys(P) => 5 :- person(P).\\n\"\n",
    "    text +=\"marketed(P) => -2 :- person(P).\\n\"\n",
    "    text +=\"% Probabilistic facts\\n\"\n",
    "    text +=\"0.2 :: buy_from_marketing(_).\\n\"\n",
    "    text +=\"0.3 :: buy_from_trust(_,_).\\n\"\n",
    "    text +=\"% Background knowledge'\\n\"\n",
    "    for user in user_list:\n",
    "        text+= \"person(\"+str(user)+\").\\n\"\n",
    "        \n",
    "    text +=\" trusts(X,Y) :- trusts_directed(X,Y).\\n\"\n",
    "    text +=\"trusts(X,Y) :- trusts_directed(Y,X).\\n\"\n",
    "    \n",
    "    for edge in edge_list:\n",
    "        text+= \"trusts_directed(\"+str(edge[0])+\",\"+str(edge[1])+\").\\n\" \n",
    "       \n",
    "    text +=\"buys(X) :- buys(X,[X]).\\n\"\n",
    "    text +=\"buys(X, _) :-\\n\"\n",
    "    text +=\"    marketed(X),\\n\"\n",
    "    text +=\"    buy_from_marketing(X).\\n\"\n",
    "    text +=\"buys(X, Visited) :-\\n\"\n",
    "    text +=\"    trusts(X,Y),\\n\"\n",
    "    text +=\"    buy_from_trust(X,Y),\\n\"\n",
    "    text +=\"    absent(Y,Visited),\\n\"\n",
    "    text +=\"    buys(Y, [Y|Visited]).\\n\"\n",
    "    text +=\"absent(_,[]).\\n\"\n",
    "    text +=\"absent(X,[Y|Z]):-X \\= Y, absent(X,Z).\\n\"\n",
    "\n",
    "    \n",
    "    save_file(text,program_path)"
   ]
  },
  {
   "cell_type": "code",
   "execution_count": 6,
   "metadata": {},
   "outputs": [],
   "source": [
    "def generate_probog_program(edge_path, user_path, program_path):\n",
    "    edge_list, user_list = get_list(edge_path, user_path)\n",
    "    \n",
    "    \n",
    "    \n",
    "    \n",
    "    "
   ]
  },
  {
   "cell_type": "code",
   "execution_count": 6,
   "metadata": {},
   "outputs": [
    {
     "name": "stdout",
     "output_type": "stream",
     "text": [
      "?::marketed(angelika).\n",
      "?::marketed(guy).\n",
      "?::marketed(bernd).\n",
      "?::marketed(kurt).\n",
      "?::marketed(theo).\n",
      "?::marketed(martijn).\n",
      "?::marketed(laura).\n",
      "?::marketed(ingo).\n"
     ]
    }
   ],
   "source": [
    "for person in ('angelika', 'guy', 'bernd', 'kurt', 'theo',\n",
    "               'martijn', 'laura','ingo'):\n",
    "    print('?::marketed(%s).'%person)\n",
    "#     print('utility(buys(%s), 5).'%person)\n",
    "#     print('utility(marketed(%s), -2).'%person)"
   ]
  },
  {
   "cell_type": "code",
   "execution_count": 7,
   "metadata": {},
   "outputs": [],
   "source": [
    "\n",
    "def solve_dtProblog():\n",
    "    model= '''\n",
    "    % Decisions\n",
    "    ?::marketed(angelika).\n",
    "    ?::marketed(guy).\n",
    "    ?::marketed(bernd).\n",
    "    ?::marketed(kurt).\n",
    "    ?::marketed(theo).\n",
    "    ?::marketed(martijn).\n",
    "    ?::marketed(laura).\n",
    "    ?::marketed(ingo).\n",
    " \n",
    "    utility(buys(angelika), 5).\n",
    "    utility(marketed(angelika), -2).\n",
    "    utility(buys(guy), 5).\n",
    "    utility(marketed(guy), -2).\n",
    "    utility(buys(bernd), 5).\n",
    "    utility(marketed(bernd), -2).\n",
    "    utility(buys(kurt), 5).\n",
    "    utility(marketed(kurt), -2).\n",
    "    utility(buys(theo), 5).\n",
    "    utility(marketed(theo), -2).\n",
    "    utility(buys(martijn), 5).\n",
    "    utility(marketed(martijn), -2).\n",
    "    utility(buys(laura), 5).\n",
    "    utility(marketed(laura), -2).\n",
    "    utility(buys(ingo), 5).\n",
    "    utility(marketed(ingo), -2).\n",
    "\n",
    "    % Probabilistic facts\n",
    "    0.2 :: buy_from_marketing(_).\n",
    "    0.3 :: buy_from_trust(_,_).\n",
    "\n",
    "    % Background knowledge\n",
    "    person(bernd).\n",
    "    person(ingo).\n",
    "    person(theo).\n",
    "    person(angelika).\n",
    "    person(guy).\n",
    "    person(martijn).\n",
    "    person(laura).\n",
    "    person(kurt).\n",
    "\n",
    "    trusts(X,Y) :- trusts_directed(X,Y).\n",
    "    trusts(X,Y) :- trusts_directed(Y,X).\n",
    "\n",
    "    trusts_directed(bernd,ingo).\n",
    "    trusts_directed(ingo,theo).\n",
    "    trusts_directed(theo,angelika).\n",
    "    trusts_directed(bernd,martijn).\n",
    "    trusts_directed(ingo,martijn).\n",
    "    trusts_directed(martijn,guy).\n",
    "    trusts_directed(guy,theo).\n",
    "    trusts_directed(guy,angelika).\n",
    "    trusts_directed(laura,ingo).\n",
    "    trusts_directed(laura,theo).\n",
    "    trusts_directed(laura,guy).\n",
    "    trusts_directed(laura,martijn).\n",
    "    trusts_directed(kurt,bernd).\n",
    "\n",
    "    buys(X) :-\n",
    "         marketed(X),\n",
    "         buy_from_marketing(X).\n",
    "    buys(X) :-\n",
    "         trusts(X,Y),\n",
    "         buy_from_trust(X,Y),\n",
    "         buys(Y).\n",
    "'''\n",
    "    program = PrologString(model)\n",
    "    decisions, score, statistics = dtproblog(program)\n",
    "\n",
    "    for name, value in decisions.items():\n",
    "        print ('%s: %s' % (name, value))"
   ]
  },
  {
   "cell_type": "code",
   "execution_count": 11,
   "metadata": {},
   "outputs": [
    {
     "name": "stdout",
     "output_type": "stream",
     "text": [
      "marketed(angelika): 0\n",
      "marketed(theo): 1\n",
      "marketed(ingo): 1\n",
      "marketed(martijn): 1\n",
      "marketed(guy): 1\n",
      "marketed(laura): 0\n",
      "marketed(bernd): 0\n",
      "marketed(kurt): 0\n",
      "CPU times: user 4.31 s, sys: 840 ms, total: 5.15 s\n",
      "Wall time: 5.16 s\n"
     ]
    }
   ],
   "source": [
    "%%time\n",
    "solve_dtProblog()"
   ]
  },
  {
   "cell_type": "code",
   "execution_count": 14,
   "metadata": {},
   "outputs": [
    {
     "data": {
      "text/plain": [
       "0.0328125"
      ]
     },
     "execution_count": 14,
     "metadata": {},
     "output_type": "execute_result"
    }
   ],
   "source": [
    "4.2 / (2**7)"
   ]
  },
  {
   "cell_type": "code",
   "execution_count": 17,
   "metadata": {},
   "outputs": [
    {
     "name": "stdout",
     "output_type": "stream",
     "text": [
      "10 33.6\n",
      "12 134.4\n",
      "14 537.6\n"
     ]
    }
   ],
   "source": [
    "for x in (10, 12, 14):\n",
    "    t = 0.0328125 * (2**x)\n",
    "    print(x, t)"
   ]
  },
  {
   "cell_type": "code",
   "execution_count": 9,
   "metadata": {},
   "outputs": [
    {
     "name": "stdout",
     "output_type": "stream",
     "text": [
      "umbrella: 1\n",
      "raincoat: 0\n"
     ]
    }
   ],
   "source": [
    "def solve_dtProblog():\n",
    "    model= '''\n",
    "    0.3::rain.\n",
    "    0.5::wind.\n",
    "    ?::umbrella.\n",
    "    ?::raincoat.\n",
    "\n",
    "    broken_umbrella :- umbrella, rain, wind.\n",
    "    dry :- rain, raincoat.\n",
    "    dry :- rain, umbrella, not broken_umbrella.\n",
    "    dry :- not(rain).\n",
    "\n",
    "    utility(broken_umbrella, -40).\n",
    "    utility(raincoat, -20).\n",
    "    utility(umbrella, -2).\n",
    "    utility(dry, 60).\n",
    "'''\n",
    "    program = PrologString(model)\n",
    "    decisions, score, statistics = dtproblog(program)\n",
    "\n",
    "    for name, value in decisions.items():\n",
    "        print ('%s: %s' % (name, value))\n",
    "        \n",
    "solve_dtProblog()"
   ]
  },
  {
   "cell_type": "code",
   "execution_count": 12,
   "metadata": {
    "scrolled": true
   },
   "outputs": [
    {
     "name": "stdout",
     "output_type": "stream",
     "text": [
      "132 ms ± 4.09 ms per loop (mean ± std. dev. of 7 runs, 10 loops each)\n"
     ]
    }
   ],
   "source": [
    "from problog.program import PrologString\n",
    "from problog import get_evaluatable\n",
    "from problog.program import PrologFile\n",
    "from problog.formula import LogicFormula\n",
    "from problog.sdd_formula import SDD\n",
    "from problog.cnf_formula import CNF\n",
    "\n",
    "def solve():\n",
    "    model= '''\n",
    "    % Decisions\n",
    "    0.1::marketed(guy).\n",
    "    0.2::marketed(bernd).\n",
    "    0.5::marketed(ingo).\n",
    "    0.3::marketed(theo).\n",
    "\n",
    "    % Probabilistic facts\n",
    "    0.2 :: buy_from_marketing(_).\n",
    "    0.3 :: buy_from_trust(_,_).\n",
    "\n",
    "    % Background knowledge\n",
    "    person(bernd).\n",
    "    person(ingo).\n",
    "    person(theo).\n",
    "    person(angelika).\n",
    "    person(guy).\n",
    "    person(martijn).\n",
    "    person(laura).\n",
    "    person(kurt).\n",
    "\n",
    "    trusts(X,Y) :- trusts_directed(X,Y).\n",
    "    trusts(X,Y) :- trusts_directed(Y,X).\n",
    "\n",
    "    trusts_directed(bernd,ingo).\n",
    "    trusts_directed(ingo,theo).\n",
    "    trusts_directed(theo,angelika).\n",
    "    trusts_directed(bernd,martijn).\n",
    "    trusts_directed(ingo,martijn).\n",
    "    trusts_directed(martijn,guy).\n",
    "    trusts_directed(guy,theo).\n",
    "    trusts_directed(guy,angelika).\n",
    "    trusts_directed(laura,ingo).\n",
    "    trusts_directed(laura,theo).\n",
    "    trusts_directed(laura,guy).\n",
    "    trusts_directed(laura,martijn).\n",
    "    trusts_directed(kurt,bernd).\n",
    "\n",
    "    buys(X) :-\n",
    "         marketed(X),\n",
    "         buy_from_marketing(X).\n",
    "    buys(X) :-\n",
    "         trusts(X,Y),\n",
    "         buy_from_trust(X,Y),\n",
    "         buys(Y).\n",
    "         \n",
    "    query(buys(kurt)).\n",
    "'''\n",
    "    \n",
    "    program = PrologString(model)\n",
    "    formula = LogicFormula.create_from(program)\n",
    "    sdd = SDD.create_from(formula)\n",
    "    return sdd.evaluate()\n",
    "\n",
    "\n",
    "   \n",
    "\n",
    "%timeit solve()"
   ]
  }
 ],
 "metadata": {
  "anaconda-cloud": {},
  "kernelspec": {
   "display_name": "Python [default]",
   "language": "python",
   "name": "python3"
  },
  "language_info": {
   "codemirror_mode": {
    "name": "ipython",
    "version": 3
   },
   "file_extension": ".py",
   "mimetype": "text/x-python",
   "name": "python",
   "nbconvert_exporter": "python",
   "pygments_lexer": "ipython3",
   "version": "3.6.3"
  }
 },
 "nbformat": 4,
 "nbformat_minor": 1
}
