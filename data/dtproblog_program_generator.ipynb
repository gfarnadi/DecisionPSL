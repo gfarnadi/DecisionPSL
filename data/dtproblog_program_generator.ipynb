{
 "cells": [
  {
   "cell_type": "code",
   "execution_count": 1,
   "metadata": {
    "collapsed": true
   },
   "outputs": [],
   "source": [
    "import os"
   ]
  },
  {
   "cell_type": "code",
   "execution_count": 2,
   "metadata": {
    "collapsed": true
   },
   "outputs": [],
   "source": [
    "def save_file(path, content):\n",
    "    try:\n",
    "        os.remove(path)\n",
    "    except OSError:\n",
    "        pass\n",
    "    with open(path, 'a') as out:\n",
    "        out.write(content+'\\n')"
   ]
  },
  {
   "cell_type": "code",
   "execution_count": 4,
   "metadata": {
    "collapsed": false
   },
   "outputs": [],
   "source": [
    "def read_lines(file_path):\n",
    "    array = []\n",
    "    with open(file_path, \"r\") as ins:\n",
    "        for line in ins:\n",
    "            array.append(line)\n",
    "    return array"
   ]
  },
  {
   "cell_type": "code",
   "execution_count": 5,
   "metadata": {
    "collapsed": true
   },
   "outputs": [],
   "source": [
    "def get_list(edge_path, user_path):\n",
    "    edges_initial = read_lines(edge_path)\n",
    "    edges = []\n",
    "    for e in edges_initial:\n",
    "        edge = e.split(\"\\t\")\n",
    "        edges.append[edge]    \n",
    "    users = read_lines(user_path)\n",
    "    return edges, users"
   ]
  },
  {
   "cell_type": "code",
   "execution_count": 6,
   "metadata": {
    "collapsed": true
   },
   "outputs": [],
   "source": [
    "def generate_dtproblog_program(edge_path, user_path, program_path):\n",
    "    edge_list, user_list = get_list(edge_path, user_path)\n",
    "    text = \"% Decisions\\n\"\n",
    "    text +=\"? :: marketed(P) :- person(P).\\n\\n\"\n",
    "    text +=\"% Utility attributes\\n\"\n",
    "    text +=\"buys(P) => 5 :- person(P).\\n\"\n",
    "    text +=\"marketed(P) => -2 :- person(P).\\n\"\n",
    "    text +=\"% Probabilistic facts\\n\"\n",
    "    text +=\"0.2 :: buy_from_marketing(_).\\n\"\n",
    "    text +=\"0.3 :: buy_from_trust(_,_).\\n\"\n",
    "    text +=\"% Background knowledge'\\n\"\n",
    "    for user in user_list:\n",
    "        text+= \"person(\"+str(user)+\").\\n\"\n",
    "        \n",
    "    text +=\" trusts(X,Y) :- trusts_directed(X,Y).\\n\"\n",
    "    text +=\"trusts(X,Y) :- trusts_directed(Y,X).\\n\"\n",
    "    \n",
    "    for edge in edge_list:\n",
    "        text+= \"trusts_directed(\"+str(edge[0])+\",\"+str(edge[1])+\").\\n\" \n",
    "       \n",
    "    text +=\"buys(X) :- buys(X,[X]).\\n\"\n",
    "    text +=\"buys(X, _) :-\\n\"\n",
    "    text +=\"    marketed(X),\\n\"\n",
    "    text +=\"    buy_from_marketing(X).\\n\"\n",
    "    text +=\"buys(X, Visited) :-\\n\"\n",
    "    text +=\"    trusts(X,Y),\\n\"\n",
    "    text +=\"    buy_from_trust(X,Y),\\n\"\n",
    "    text +=\"    absent(Y,Visited),\\n\"\n",
    "    text +=\"    buys(Y, [Y|Visited]).\\n\"\n",
    "    text +=\"absent(_,[]).\\n\"\n",
    "    text +=\"absent(X,[Y|Z]):-X \\= Y, absent(X,Z).\\n\"\n",
    "\n",
    "    \n",
    "    save_file(text,program_path)"
   ]
  },
  {
   "cell_type": "code",
   "execution_count": null,
   "metadata": {
    "collapsed": true
   },
   "outputs": [],
   "source": []
  }
 ],
 "metadata": {
  "kernelspec": {
   "display_name": "Python [Root]",
   "language": "python",
   "name": "Python [Root]"
  },
  "language_info": {
   "codemirror_mode": {
    "name": "ipython",
    "version": 3
   },
   "file_extension": ".py",
   "mimetype": "text/x-python",
   "name": "python",
   "nbconvert_exporter": "python",
   "pygments_lexer": "ipython3",
   "version": "3.5.2"
  }
 },
 "nbformat": 4,
 "nbformat_minor": 0
}
