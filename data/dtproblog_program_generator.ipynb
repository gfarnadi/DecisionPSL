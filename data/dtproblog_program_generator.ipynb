{
 "cells": [
  {
   "cell_type": "code",
   "execution_count": 1,
   "metadata": {
    "collapsed": true
   },
   "outputs": [],
   "source": [
    "import os\n",
    "import sys\n",
    "sys.path.append(\"/Users/Gfarnadi/Movies/problog/problogBitBucket\")\n",
    "import problog\n",
    "from problog.tasks.dtproblog import dtproblog\n",
    "from problog.program import PrologString\n",
    "from problog.tasks import sample"
   ]
  },
  {
   "cell_type": "code",
   "execution_count": 2,
   "metadata": {
    "collapsed": true
   },
   "outputs": [],
   "source": [
    "def save_file(path, content):\n",
    "    try:\n",
    "        os.remove(path)\n",
    "    except OSError:\n",
    "        pass\n",
    "    with open(path, 'a') as out:\n",
    "        out.write(content+'\\n')"
   ]
  },
  {
   "cell_type": "code",
   "execution_count": 3,
   "metadata": {
    "collapsed": false
   },
   "outputs": [],
   "source": [
    "def read_lines(file_path):\n",
    "    array = []\n",
    "    with open(file_path, \"r\") as ins:\n",
    "        for line in ins:\n",
    "            array.append(line)\n",
    "    return array"
   ]
  },
  {
   "cell_type": "code",
   "execution_count": 4,
   "metadata": {
    "collapsed": true
   },
   "outputs": [],
   "source": [
    "def get_list(edge_path, user_path):\n",
    "    edges_initial = read_lines(edge_path)\n",
    "    edges = []\n",
    "    for e in edges_initial:\n",
    "        edge = e.split(\"\\t\")\n",
    "        edges.append[edge]    \n",
    "    users = read_lines(user_path)\n",
    "    return edges, users"
   ]
  },
  {
   "cell_type": "code",
   "execution_count": null,
   "metadata": {
    "collapsed": true
   },
   "outputs": [],
   "source": []
  },
  {
   "cell_type": "code",
   "execution_count": 5,
   "metadata": {
    "collapsed": true
   },
   "outputs": [],
   "source": [
    "def generate_dtproblog_program(edge_path, user_path, program_path):\n",
    "    edge_list, user_list = get_list(edge_path, user_path)\n",
    "    text = \"% Decisions\\n\"\n",
    "    text +=\"? :: marketed(P) :- person(P).\\n\\n\"\n",
    "    text +=\"% Utility attributes\\n\"\n",
    "    text +=\"buys(P) => 5 :- person(P).\\n\"\n",
    "    text +=\"marketed(P) => -2 :- person(P).\\n\"\n",
    "    text +=\"% Probabilistic facts\\n\"\n",
    "    text +=\"0.2 :: buy_from_marketing(_).\\n\"\n",
    "    text +=\"0.3 :: buy_from_trust(_,_).\\n\"\n",
    "    text +=\"% Background knowledge'\\n\"\n",
    "    for user in user_list:\n",
    "        text+= \"person(\"+str(user)+\").\\n\"\n",
    "        \n",
    "    text +=\" trusts(X,Y) :- trusts_directed(X,Y).\\n\"\n",
    "    text +=\"trusts(X,Y) :- trusts_directed(Y,X).\\n\"\n",
    "    \n",
    "    for edge in edge_list:\n",
    "        text+= \"trusts_directed(\"+str(edge[0])+\",\"+str(edge[1])+\").\\n\" \n",
    "       \n",
    "    text +=\"buys(X) :- buys(X,[X]).\\n\"\n",
    "    text +=\"buys(X, _) :-\\n\"\n",
    "    text +=\"    marketed(X),\\n\"\n",
    "    text +=\"    buy_from_marketing(X).\\n\"\n",
    "    text +=\"buys(X, Visited) :-\\n\"\n",
    "    text +=\"    trusts(X,Y),\\n\"\n",
    "    text +=\"    buy_from_trust(X,Y),\\n\"\n",
    "    text +=\"    absent(Y,Visited),\\n\"\n",
    "    text +=\"    buys(Y, [Y|Visited]).\\n\"\n",
    "    text +=\"absent(_,[]).\\n\"\n",
    "    text +=\"absent(X,[Y|Z]):-X \\= Y, absent(X,Z).\\n\"\n",
    "\n",
    "    \n",
    "    save_file(text,program_path)"
   ]
  },
  {
   "cell_type": "code",
   "execution_count": 6,
   "metadata": {
    "collapsed": true
   },
   "outputs": [],
   "source": [
    "def generate_probog_program(edge_path, user_path, program_path):\n",
    "    edge_list, user_list = get_list(edge_path, user_path)\n",
    "    \n",
    "    \n",
    "    \n",
    "    \n",
    "    "
   ]
  },
  {
   "cell_type": "code",
   "execution_count": 7,
   "metadata": {
    "collapsed": true
   },
   "outputs": [],
   "source": [
    "\n",
    "def solve_dtProblog():\n",
    "    model= '''\n",
    "    % Decisions\n",
    "    ?::marketed(guy).\n",
    "    ?::marketed(bernd).\n",
    "    ?::marketed(ingo).\n",
    "    ?::marketed(theo).\n",
    " \n",
    "    utility(buys(guy), 5).\n",
    "    utility(marketed(guy), -2).\n",
    "    utility(buys(bernd), 5).\n",
    "    utility(marketed(bernd), -2).\n",
    "    utility(buys(ingo), 5).\n",
    "    utility(marketed(ingo), -2).\n",
    "    utility(buys(theo), 5).\n",
    "    utility(marketed(theo), -2).\n",
    "\n",
    "    % Probabilistic facts\n",
    "    0.2 :: buy_from_marketing(_).\n",
    "    0.3 :: buy_from_trust(_,_).\n",
    "\n",
    "    % Background knowledge\n",
    "    person(bernd).\n",
    "    person(ingo).\n",
    "    person(theo).\n",
    "    person(angelika).\n",
    "    person(guy).\n",
    "    person(martijn).\n",
    "    person(laura).\n",
    "    person(kurt).\n",
    "\n",
    "    trusts(X,Y) :- trusts_directed(X,Y).\n",
    "    trusts(X,Y) :- trusts_directed(Y,X).\n",
    "\n",
    "    trusts_directed(bernd,ingo).\n",
    "    trusts_directed(ingo,theo).\n",
    "    trusts_directed(theo,angelika).\n",
    "    trusts_directed(bernd,martijn).\n",
    "    trusts_directed(ingo,martijn).\n",
    "    trusts_directed(martijn,guy).\n",
    "    trusts_directed(guy,theo).\n",
    "    trusts_directed(guy,angelika).\n",
    "    trusts_directed(laura,ingo).\n",
    "    trusts_directed(laura,theo).\n",
    "    trusts_directed(laura,guy).\n",
    "    trusts_directed(laura,martijn).\n",
    "    trusts_directed(kurt,bernd).\n",
    "\n",
    "    buys(X) :-\n",
    "         marketed(X),\n",
    "         buy_from_marketing(X).\n",
    "    buys(X) :-\n",
    "         trusts(X,Y),\n",
    "         buy_from_trust(X,Y),\n",
    "         buys(Y).\n",
    "'''\n",
    "    program = PrologString(model)\n",
    "    decisions, score, statistics = dtproblog(program)\n",
    "\n",
    "    for name, value in decisions.items():\n",
    "        print ('%s: %s' % (name, value))"
   ]
  },
  {
   "cell_type": "code",
   "execution_count": 8,
   "metadata": {
    "collapsed": false
   },
   "outputs": [
    {
     "ename": "DSharpError",
     "evalue": "DSharp has encountered an error. This is a known issue. See KNOWN_ISSUES for details on how to resolve this problem.",
     "output_type": "error",
     "traceback": [
      "\u001b[0;31m---------------------------------------------------------------------------\u001b[0m",
      "\u001b[0;31mCalledProcessError\u001b[0m                        Traceback (most recent call last)",
      "\u001b[0;32m/Users/Gfarnadi/Movies/problog/problogBitBucket/problog/ddnnf_formula.py\u001b[0m in \u001b[0;36m_compile_with_dsharp\u001b[0;34m(cnf, nnf, smooth, **kwdargs)\u001b[0m\n\u001b[1;32m    280\u001b[0m         \u001b[0;32mtry\u001b[0m\u001b[0;34m:\u001b[0m\u001b[0;34m\u001b[0m\u001b[0m\n\u001b[0;32m--> 281\u001b[0;31m             \u001b[0mresult\u001b[0m \u001b[0;34m=\u001b[0m \u001b[0m_compile\u001b[0m\u001b[0;34m(\u001b[0m\u001b[0mcnf\u001b[0m\u001b[0;34m,\u001b[0m \u001b[0mcmd\u001b[0m\u001b[0;34m,\u001b[0m \u001b[0mcnf_file\u001b[0m\u001b[0;34m,\u001b[0m \u001b[0mnnf_file\u001b[0m\u001b[0;34m)\u001b[0m\u001b[0;34m\u001b[0m\u001b[0m\n\u001b[0m\u001b[1;32m    282\u001b[0m         \u001b[0;32mexcept\u001b[0m \u001b[0msubprocess\u001b[0m\u001b[0;34m.\u001b[0m\u001b[0mCalledProcessError\u001b[0m\u001b[0;34m:\u001b[0m\u001b[0;34m\u001b[0m\u001b[0m\n",
      "\u001b[0;32m/Users/Gfarnadi/Movies/problog/problogBitBucket/problog/ddnnf_formula.py\u001b[0m in \u001b[0;36m_compile\u001b[0;34m(cnf, cmd, cnf_file, nnf_file)\u001b[0m\n\u001b[1;32m    333\u001b[0m                 \u001b[0;32mif\u001b[0m \u001b[0mattempts_left\u001b[0m \u001b[0;34m==\u001b[0m \u001b[0;36m0\u001b[0m\u001b[0;34m:\u001b[0m\u001b[0;34m\u001b[0m\u001b[0m\n\u001b[0;32m--> 334\u001b[0;31m                     \u001b[0;32mraise\u001b[0m \u001b[0merr\u001b[0m\u001b[0;34m\u001b[0m\u001b[0m\n\u001b[0m\u001b[1;32m    335\u001b[0m         \u001b[0;32mreturn\u001b[0m \u001b[0m_load_nnf\u001b[0m\u001b[0;34m(\u001b[0m\u001b[0mnnf_file\u001b[0m\u001b[0;34m,\u001b[0m \u001b[0mcnf\u001b[0m\u001b[0;34m)\u001b[0m\u001b[0;34m\u001b[0m\u001b[0m\n",
      "\u001b[0;32m/Users/Gfarnadi/Movies/problog/problogBitBucket/problog/ddnnf_formula.py\u001b[0m in \u001b[0;36m_compile\u001b[0;34m(cnf, cmd, cnf_file, nnf_file)\u001b[0m\n\u001b[1;32m    328\u001b[0m                 \u001b[0;32mwith\u001b[0m \u001b[0mopen\u001b[0m\u001b[0;34m(\u001b[0m\u001b[0mos\u001b[0m\u001b[0;34m.\u001b[0m\u001b[0mdevnull\u001b[0m\u001b[0;34m,\u001b[0m \u001b[0;34m'w'\u001b[0m\u001b[0;34m)\u001b[0m \u001b[0;32mas\u001b[0m \u001b[0mOUT_NULL\u001b[0m\u001b[0;34m:\u001b[0m\u001b[0;34m\u001b[0m\u001b[0m\n\u001b[0;32m--> 329\u001b[0;31m                     \u001b[0msubprocess_check_call\u001b[0m\u001b[0;34m(\u001b[0m\u001b[0mcmd\u001b[0m\u001b[0;34m,\u001b[0m \u001b[0mstdout\u001b[0m\u001b[0;34m=\u001b[0m\u001b[0mOUT_NULL\u001b[0m\u001b[0;34m)\u001b[0m\u001b[0;34m\u001b[0m\u001b[0m\n\u001b[0m\u001b[1;32m    330\u001b[0m                 \u001b[0msuccess\u001b[0m \u001b[0;34m=\u001b[0m \u001b[0;32mTrue\u001b[0m\u001b[0;34m\u001b[0m\u001b[0m\n",
      "\u001b[0;32m/Users/Gfarnadi/Movies/problog/problogBitBucket/problog/util.py\u001b[0m in \u001b[0;36msubprocess_check_call\u001b[0;34m(*popenargs, **kwargs)\u001b[0m\n\u001b[1;32m    184\u001b[0m             \u001b[0mcmd\u001b[0m \u001b[0;34m=\u001b[0m \u001b[0mpopenargs\u001b[0m\u001b[0;34m[\u001b[0m\u001b[0;36m0\u001b[0m\u001b[0;34m]\u001b[0m\u001b[0;34m\u001b[0m\u001b[0m\n\u001b[0;32m--> 185\u001b[0;31m         \u001b[0;32mraise\u001b[0m \u001b[0msubprocess\u001b[0m\u001b[0;34m.\u001b[0m\u001b[0mCalledProcessError\u001b[0m\u001b[0;34m(\u001b[0m\u001b[0mretcode\u001b[0m\u001b[0;34m,\u001b[0m \u001b[0mcmd\u001b[0m\u001b[0;34m)\u001b[0m\u001b[0;34m\u001b[0m\u001b[0m\n\u001b[0m\u001b[1;32m    186\u001b[0m     \u001b[0;32mreturn\u001b[0m \u001b[0;36m0\u001b[0m\u001b[0;34m\u001b[0m\u001b[0m\n",
      "\u001b[0;31mCalledProcessError\u001b[0m: Command '['dsharp', '-Fnnf', '/var/folders/1_/jgnrw48s6q5_nf2681csfnq80000gn/T/tmphsdqjwu9.nnf', '-smoothNNF', '-disableAllLits', '/var/folders/1_/jgnrw48s6q5_nf2681csfnq80000gn/T/tmp1as3n_8y.cnf']' returned non-zero exit status -11",
      "\nDuring handling of the above exception, another exception occurred:\n",
      "\u001b[0;31mDSharpError\u001b[0m                               Traceback (most recent call last)",
      "\u001b[0;32m<ipython-input-8-03bb0bd5dd2d>\u001b[0m in \u001b[0;36m<module>\u001b[0;34m()\u001b[0m\n\u001b[0;32m----> 1\u001b[0;31m \u001b[0msolve_dtProblog\u001b[0m\u001b[0;34m(\u001b[0m\u001b[0;34m)\u001b[0m\u001b[0;34m\u001b[0m\u001b[0m\n\u001b[0m",
      "\u001b[0;32m<ipython-input-7-a8f973d672b5>\u001b[0m in \u001b[0;36msolve_dtProblog\u001b[0;34m()\u001b[0m\n\u001b[1;32m     60\u001b[0m '''\n\u001b[1;32m     61\u001b[0m     \u001b[0mprogram\u001b[0m \u001b[0;34m=\u001b[0m \u001b[0mPrologString\u001b[0m\u001b[0;34m(\u001b[0m\u001b[0mmodel\u001b[0m\u001b[0;34m)\u001b[0m\u001b[0;34m\u001b[0m\u001b[0m\n\u001b[0;32m---> 62\u001b[0;31m     \u001b[0mdecisions\u001b[0m\u001b[0;34m,\u001b[0m \u001b[0mscore\u001b[0m\u001b[0;34m,\u001b[0m \u001b[0mstatistics\u001b[0m \u001b[0;34m=\u001b[0m \u001b[0mdtproblog\u001b[0m\u001b[0;34m(\u001b[0m\u001b[0mprogram\u001b[0m\u001b[0;34m)\u001b[0m\u001b[0;34m\u001b[0m\u001b[0m\n\u001b[0m\u001b[1;32m     63\u001b[0m \u001b[0;34m\u001b[0m\u001b[0m\n\u001b[1;32m     64\u001b[0m     \u001b[0;32mfor\u001b[0m \u001b[0mname\u001b[0m\u001b[0;34m,\u001b[0m \u001b[0mvalue\u001b[0m \u001b[0;32min\u001b[0m \u001b[0mdecisions\u001b[0m\u001b[0;34m.\u001b[0m\u001b[0mitems\u001b[0m\u001b[0;34m(\u001b[0m\u001b[0;34m)\u001b[0m\u001b[0;34m:\u001b[0m\u001b[0;34m\u001b[0m\u001b[0m\n",
      "\u001b[0;32m/Users/Gfarnadi/Movies/problog/problogBitBucket/problog/tasks/dtproblog.py\u001b[0m in \u001b[0;36mdtproblog\u001b[0;34m(model, search, koption, locations, web, **kwargs)\u001b[0m\n\u001b[1;32m    115\u001b[0m         \u001b[0;32mif\u001b[0m \u001b[0mdecision_nodes\u001b[0m\u001b[0;34m:\u001b[0m\u001b[0;34m\u001b[0m\u001b[0m\n\u001b[1;32m    116\u001b[0m             \u001b[0;32mwith\u001b[0m \u001b[0mTimer\u001b[0m\u001b[0;34m(\u001b[0m\u001b[0;34m'Compile'\u001b[0m\u001b[0;34m,\u001b[0m \u001b[0mlogger\u001b[0m\u001b[0;34m=\u001b[0m\u001b[0;34m'dtproblog'\u001b[0m\u001b[0;34m)\u001b[0m\u001b[0;34m:\u001b[0m\u001b[0;34m\u001b[0m\u001b[0m\n\u001b[0;32m--> 117\u001b[0;31m                 \u001b[0mknowledge\u001b[0m \u001b[0;34m=\u001b[0m \u001b[0mget_evaluatable\u001b[0m\u001b[0;34m(\u001b[0m\u001b[0mkoption\u001b[0m\u001b[0;34m)\u001b[0m\u001b[0;34m.\u001b[0m\u001b[0mcreate_from\u001b[0m\u001b[0;34m(\u001b[0m\u001b[0mgp\u001b[0m\u001b[0;34m)\u001b[0m\u001b[0;34m\u001b[0m\u001b[0m\n\u001b[0m\u001b[1;32m    118\u001b[0m \u001b[0;34m\u001b[0m\u001b[0m\n\u001b[1;32m    119\u001b[0m             \u001b[0;32mwith\u001b[0m \u001b[0mTimer\u001b[0m\u001b[0;34m(\u001b[0m\u001b[0;34m'Optimize'\u001b[0m\u001b[0;34m,\u001b[0m \u001b[0mlogger\u001b[0m\u001b[0;34m=\u001b[0m\u001b[0;34m'dtproblog'\u001b[0m\u001b[0;34m)\u001b[0m\u001b[0;34m:\u001b[0m\u001b[0;34m\u001b[0m\u001b[0m\n",
      "\u001b[0;32m/Users/Gfarnadi/Movies/problog/problogBitBucket/problog/core.py\u001b[0m in \u001b[0;36mcreate_from\u001b[0;34m(cls, obj, **kwdargs)\u001b[0m\n\u001b[1;32m    148\u001b[0m         \u001b[0;34m:\u001b[0m\u001b[0;32mreturn\u001b[0m\u001b[0;34m:\u001b[0m \u001b[0mobject\u001b[0m \u001b[0mof\u001b[0m \u001b[0mcurrent\u001b[0m \u001b[0;32mclass\u001b[0m\u001b[0;34m\u001b[0m\u001b[0m\n\u001b[1;32m    149\u001b[0m         \"\"\"\n\u001b[0;32m--> 150\u001b[0;31m         \u001b[0;32mreturn\u001b[0m \u001b[0mProbLog\u001b[0m\u001b[0;34m.\u001b[0m\u001b[0mconvert\u001b[0m\u001b[0;34m(\u001b[0m\u001b[0mobj\u001b[0m\u001b[0;34m,\u001b[0m \u001b[0mcls\u001b[0m\u001b[0;34m,\u001b[0m \u001b[0;34m**\u001b[0m\u001b[0mkwdargs\u001b[0m\u001b[0;34m)\u001b[0m\u001b[0;34m\u001b[0m\u001b[0m\n\u001b[0m\u001b[1;32m    151\u001b[0m \u001b[0;34m\u001b[0m\u001b[0m\n\u001b[1;32m    152\u001b[0m     \u001b[0;31m# noinspection PyPep8Naming\u001b[0m\u001b[0;34m\u001b[0m\u001b[0;34m\u001b[0m\u001b[0m\n",
      "\u001b[0;32m/Users/Gfarnadi/Movies/problog/problogBitBucket/problog/core.py\u001b[0m in \u001b[0;36mconvert\u001b[0;34m(cls, src, target, **kwdargs)\u001b[0m\n\u001b[1;32m    118\u001b[0m                 \u001b[0;32mwhile\u001b[0m \u001b[0mpath\u001b[0m\u001b[0;34m:\u001b[0m\u001b[0;34m\u001b[0m\u001b[0m\n\u001b[1;32m    119\u001b[0m                     \u001b[0;32mif\u001b[0m \u001b[0mpath\u001b[0m\u001b[0;34m[\u001b[0m\u001b[0;36m1\u001b[0m\u001b[0;34m]\u001b[0m \u001b[0;32mis\u001b[0m \u001b[0;32mnot\u001b[0m \u001b[0;32mNone\u001b[0m\u001b[0;34m:\u001b[0m\u001b[0;34m\u001b[0m\u001b[0m\n\u001b[0;32m--> 120\u001b[0;31m                         \u001b[0mnext_obj\u001b[0m \u001b[0;34m=\u001b[0m \u001b[0mpath\u001b[0m\u001b[0;34m[\u001b[0m\u001b[0;36m0\u001b[0m\u001b[0;34m]\u001b[0m\u001b[0;34m(\u001b[0m\u001b[0mcurrent_obj\u001b[0m\u001b[0;34m,\u001b[0m \u001b[0mpath\u001b[0m\u001b[0;34m[\u001b[0m\u001b[0;36m1\u001b[0m\u001b[0;34m]\u001b[0m\u001b[0;34m(\u001b[0m\u001b[0;34m**\u001b[0m\u001b[0mkwdargs\u001b[0m\u001b[0;34m)\u001b[0m\u001b[0;34m,\u001b[0m \u001b[0;34m**\u001b[0m\u001b[0mkwdargs\u001b[0m\u001b[0;34m)\u001b[0m\u001b[0;34m\u001b[0m\u001b[0m\n\u001b[0m\u001b[1;32m    121\u001b[0m                     \u001b[0;32melse\u001b[0m\u001b[0;34m:\u001b[0m\u001b[0;34m\u001b[0m\u001b[0m\n\u001b[1;32m    122\u001b[0m                         \u001b[0mnext_obj\u001b[0m \u001b[0;34m=\u001b[0m \u001b[0mpath\u001b[0m\u001b[0;34m[\u001b[0m\u001b[0;36m1\u001b[0m\u001b[0;34m]\u001b[0m\u001b[0;34m.\u001b[0m\u001b[0mcreate_from_default_action\u001b[0m\u001b[0;34m(\u001b[0m\u001b[0mcurrent_obj\u001b[0m\u001b[0;34m,\u001b[0m \u001b[0;34m**\u001b[0m\u001b[0mkwdargs\u001b[0m\u001b[0;34m)\u001b[0m\u001b[0;34m\u001b[0m\u001b[0m\n",
      "\u001b[0;32m/Users/Gfarnadi/Movies/problog/problogBitBucket/problog/ddnnf_formula.py\u001b[0m in \u001b[0;36m_compile_with_dsharp\u001b[0;34m(cnf, nnf, smooth, **kwdargs)\u001b[0m\n\u001b[1;32m    281\u001b[0m             \u001b[0mresult\u001b[0m \u001b[0;34m=\u001b[0m \u001b[0m_compile\u001b[0m\u001b[0;34m(\u001b[0m\u001b[0mcnf\u001b[0m\u001b[0;34m,\u001b[0m \u001b[0mcmd\u001b[0m\u001b[0;34m,\u001b[0m \u001b[0mcnf_file\u001b[0m\u001b[0;34m,\u001b[0m \u001b[0mnnf_file\u001b[0m\u001b[0;34m)\u001b[0m\u001b[0;34m\u001b[0m\u001b[0m\n\u001b[1;32m    282\u001b[0m         \u001b[0;32mexcept\u001b[0m \u001b[0msubprocess\u001b[0m\u001b[0;34m.\u001b[0m\u001b[0mCalledProcessError\u001b[0m\u001b[0;34m:\u001b[0m\u001b[0;34m\u001b[0m\u001b[0m\n\u001b[0;32m--> 283\u001b[0;31m             \u001b[0;32mraise\u001b[0m \u001b[0mDSharpError\u001b[0m\u001b[0;34m(\u001b[0m\u001b[0;34m)\u001b[0m\u001b[0;34m\u001b[0m\u001b[0m\n\u001b[0m\u001b[1;32m    284\u001b[0m \u001b[0;34m\u001b[0m\u001b[0m\n\u001b[1;32m    285\u001b[0m         \u001b[0;32mtry\u001b[0m\u001b[0;34m:\u001b[0m\u001b[0;34m\u001b[0m\u001b[0m\n",
      "\u001b[0;31mDSharpError\u001b[0m: DSharp has encountered an error. This is a known issue. See KNOWN_ISSUES for details on how to resolve this problem."
     ]
    }
   ],
   "source": [
    "solve_dtProblog()"
   ]
  },
  {
   "cell_type": "code",
   "execution_count": null,
   "metadata": {
    "collapsed": false
   },
   "outputs": [],
   "source": [
    "def solve_dtProblog():\n",
    "    model= '''\n",
    "    0.3::rain.\n",
    "    0.5::wind.\n",
    "    ?::umbrella.\n",
    "    ?::raincoat.\n",
    "\n",
    "    broken_umbrella :- umbrella, rain, wind.\n",
    "    dry :- rain, raincoat.\n",
    "    dry :- rain, umbrella, not broken_umbrella.\n",
    "    dry :- not(rain).\n",
    "\n",
    "    utility(broken_umbrella, -40).\n",
    "    utility(raincoat, -20).\n",
    "    utility(umbrella, -2).\n",
    "    utility(dry, 60).\n",
    "'''\n",
    "    program = PrologString(model)\n",
    "    decisions, score, statistics = dtproblog(program)\n",
    "\n",
    "    for name, value in decisions.items():\n",
    "        print ('%s: %s' % (name, value))\n",
    "        \n",
    "solve_dtProblog()"
   ]
  },
  {
   "cell_type": "code",
   "execution_count": 15,
   "metadata": {
    "collapsed": false
   },
   "outputs": [
    {
     "ename": "InstallError",
     "evalue": "The SDD library is not available. Please run the installer..",
     "output_type": "error",
     "traceback": [
      "\u001b[0;31m---------------------------------------------------------------------------\u001b[0m",
      "\u001b[0;31mInstallError\u001b[0m                              Traceback (most recent call last)",
      "\u001b[0;32m<ipython-input-15-28c058cc8d4b>\u001b[0m in \u001b[0;36m<module>\u001b[0;34m()\u001b[0m\n\u001b[1;32m     64\u001b[0m \u001b[0;34m\u001b[0m\u001b[0m\n\u001b[1;32m     65\u001b[0m \u001b[0;34m\u001b[0m\u001b[0m\n\u001b[0;32m---> 66\u001b[0;31m \u001b[0msolve\u001b[0m\u001b[0;34m(\u001b[0m\u001b[0;34m)\u001b[0m\u001b[0;34m\u001b[0m\u001b[0m\n\u001b[0m",
      "\u001b[0;32m<ipython-input-15-28c058cc8d4b>\u001b[0m in \u001b[0;36msolve\u001b[0;34m()\u001b[0m\n\u001b[1;32m     58\u001b[0m     \u001b[0mprogram\u001b[0m \u001b[0;34m=\u001b[0m \u001b[0mPrologString\u001b[0m\u001b[0;34m(\u001b[0m\u001b[0mmodel\u001b[0m\u001b[0;34m)\u001b[0m\u001b[0;34m\u001b[0m\u001b[0m\n\u001b[1;32m     59\u001b[0m     \u001b[0mformula\u001b[0m \u001b[0;34m=\u001b[0m \u001b[0mLogicFormula\u001b[0m\u001b[0;34m.\u001b[0m\u001b[0mcreate_from\u001b[0m\u001b[0;34m(\u001b[0m\u001b[0mprogram\u001b[0m\u001b[0;34m)\u001b[0m\u001b[0;34m\u001b[0m\u001b[0m\n\u001b[0;32m---> 60\u001b[0;31m     \u001b[0msdd\u001b[0m \u001b[0;34m=\u001b[0m \u001b[0mSDD\u001b[0m\u001b[0;34m.\u001b[0m\u001b[0mcreate_from\u001b[0m\u001b[0;34m(\u001b[0m\u001b[0mformula\u001b[0m\u001b[0;34m)\u001b[0m\u001b[0;34m\u001b[0m\u001b[0m\n\u001b[0m\u001b[1;32m     61\u001b[0m     \u001b[0;32mreturn\u001b[0m \u001b[0msdd\u001b[0m\u001b[0;34m.\u001b[0m\u001b[0mevaluate\u001b[0m\u001b[0;34m(\u001b[0m\u001b[0;34m)\u001b[0m\u001b[0;34m\u001b[0m\u001b[0m\n\u001b[1;32m     62\u001b[0m \u001b[0;34m\u001b[0m\u001b[0m\n",
      "\u001b[0;32m/Users/Gfarnadi/Movies/problog/problogBitBucket/problog/core.py\u001b[0m in \u001b[0;36mcreate_from\u001b[0;34m(cls, obj, **kwdargs)\u001b[0m\n\u001b[1;32m    148\u001b[0m         \u001b[0;34m:\u001b[0m\u001b[0;32mreturn\u001b[0m\u001b[0;34m:\u001b[0m \u001b[0mobject\u001b[0m \u001b[0mof\u001b[0m \u001b[0mcurrent\u001b[0m \u001b[0;32mclass\u001b[0m\u001b[0;34m\u001b[0m\u001b[0m\n\u001b[1;32m    149\u001b[0m         \"\"\"\n\u001b[0;32m--> 150\u001b[0;31m         \u001b[0;32mreturn\u001b[0m \u001b[0mProbLog\u001b[0m\u001b[0;34m.\u001b[0m\u001b[0mconvert\u001b[0m\u001b[0;34m(\u001b[0m\u001b[0mobj\u001b[0m\u001b[0;34m,\u001b[0m \u001b[0mcls\u001b[0m\u001b[0;34m,\u001b[0m \u001b[0;34m**\u001b[0m\u001b[0mkwdargs\u001b[0m\u001b[0;34m)\u001b[0m\u001b[0;34m\u001b[0m\u001b[0m\n\u001b[0m\u001b[1;32m    151\u001b[0m \u001b[0;34m\u001b[0m\u001b[0m\n\u001b[1;32m    152\u001b[0m     \u001b[0;31m# noinspection PyPep8Naming\u001b[0m\u001b[0;34m\u001b[0m\u001b[0;34m\u001b[0m\u001b[0m\n",
      "\u001b[0;32m/Users/Gfarnadi/Movies/problog/problogBitBucket/problog/core.py\u001b[0m in \u001b[0;36mconvert\u001b[0;34m(cls, src, target, **kwdargs)\u001b[0m\n\u001b[1;32m    118\u001b[0m                 \u001b[0;32mwhile\u001b[0m \u001b[0mpath\u001b[0m\u001b[0;34m:\u001b[0m\u001b[0;34m\u001b[0m\u001b[0m\n\u001b[1;32m    119\u001b[0m                     \u001b[0;32mif\u001b[0m \u001b[0mpath\u001b[0m\u001b[0;34m[\u001b[0m\u001b[0;36m1\u001b[0m\u001b[0;34m]\u001b[0m \u001b[0;32mis\u001b[0m \u001b[0;32mnot\u001b[0m \u001b[0;32mNone\u001b[0m\u001b[0;34m:\u001b[0m\u001b[0;34m\u001b[0m\u001b[0m\n\u001b[0;32m--> 120\u001b[0;31m                         \u001b[0mnext_obj\u001b[0m \u001b[0;34m=\u001b[0m \u001b[0mpath\u001b[0m\u001b[0;34m[\u001b[0m\u001b[0;36m0\u001b[0m\u001b[0;34m]\u001b[0m\u001b[0;34m(\u001b[0m\u001b[0mcurrent_obj\u001b[0m\u001b[0;34m,\u001b[0m \u001b[0mpath\u001b[0m\u001b[0;34m[\u001b[0m\u001b[0;36m1\u001b[0m\u001b[0;34m]\u001b[0m\u001b[0;34m(\u001b[0m\u001b[0;34m**\u001b[0m\u001b[0mkwdargs\u001b[0m\u001b[0;34m)\u001b[0m\u001b[0;34m,\u001b[0m \u001b[0;34m**\u001b[0m\u001b[0mkwdargs\u001b[0m\u001b[0;34m)\u001b[0m\u001b[0;34m\u001b[0m\u001b[0m\n\u001b[0m\u001b[1;32m    121\u001b[0m                     \u001b[0;32melse\u001b[0m\u001b[0;34m:\u001b[0m\u001b[0;34m\u001b[0m\u001b[0m\n\u001b[1;32m    122\u001b[0m                         \u001b[0mnext_obj\u001b[0m \u001b[0;34m=\u001b[0m \u001b[0mpath\u001b[0m\u001b[0;34m[\u001b[0m\u001b[0;36m1\u001b[0m\u001b[0;34m]\u001b[0m\u001b[0;34m.\u001b[0m\u001b[0mcreate_from_default_action\u001b[0m\u001b[0;34m(\u001b[0m\u001b[0mcurrent_obj\u001b[0m\u001b[0;34m,\u001b[0m \u001b[0;34m**\u001b[0m\u001b[0mkwdargs\u001b[0m\u001b[0;34m)\u001b[0m\u001b[0;34m\u001b[0m\u001b[0m\n",
      "\u001b[0;32m/Users/Gfarnadi/Movies/problog/problogBitBucket/problog/sdd_formula.py\u001b[0m in \u001b[0;36m__init__\u001b[0;34m(self, sdd_auto_gc, **kwdargs)\u001b[0m\n\u001b[1;32m     55\u001b[0m     \u001b[0;32mdef\u001b[0m \u001b[0m__init__\u001b[0m\u001b[0;34m(\u001b[0m\u001b[0mself\u001b[0m\u001b[0;34m,\u001b[0m \u001b[0msdd_auto_gc\u001b[0m\u001b[0;34m=\u001b[0m\u001b[0;32mFalse\u001b[0m\u001b[0;34m,\u001b[0m \u001b[0;34m**\u001b[0m\u001b[0mkwdargs\u001b[0m\u001b[0;34m)\u001b[0m\u001b[0;34m:\u001b[0m\u001b[0;34m\u001b[0m\u001b[0m\n\u001b[1;32m     56\u001b[0m         \u001b[0;32mif\u001b[0m \u001b[0msdd\u001b[0m \u001b[0;32mis\u001b[0m \u001b[0;32mNone\u001b[0m\u001b[0;34m:\u001b[0m\u001b[0;34m\u001b[0m\u001b[0m\n\u001b[0;32m---> 57\u001b[0;31m             \u001b[0;32mraise\u001b[0m \u001b[0mInstallError\u001b[0m\u001b[0;34m(\u001b[0m\u001b[0;34m'The SDD library is not available. Please run the installer.'\u001b[0m\u001b[0;34m)\u001b[0m\u001b[0;34m\u001b[0m\u001b[0m\n\u001b[0m\u001b[1;32m     58\u001b[0m         \u001b[0mself\u001b[0m\u001b[0;34m.\u001b[0m\u001b[0mauto_gc\u001b[0m \u001b[0;34m=\u001b[0m \u001b[0msdd_auto_gc\u001b[0m\u001b[0;34m\u001b[0m\u001b[0m\n\u001b[1;32m     59\u001b[0m         \u001b[0mDD\u001b[0m\u001b[0;34m.\u001b[0m\u001b[0m__init__\u001b[0m\u001b[0;34m(\u001b[0m\u001b[0mself\u001b[0m\u001b[0;34m,\u001b[0m \u001b[0mauto_compact\u001b[0m\u001b[0;34m=\u001b[0m\u001b[0;32mFalse\u001b[0m\u001b[0;34m,\u001b[0m \u001b[0;34m**\u001b[0m\u001b[0mkwdargs\u001b[0m\u001b[0;34m)\u001b[0m\u001b[0;34m\u001b[0m\u001b[0m\n",
      "\u001b[0;31mInstallError\u001b[0m: The SDD library is not available. Please run the installer.."
     ]
    }
   ],
   "source": [
    "from problog.program import PrologString\n",
    "from problog import get_evaluatable\n",
    "from problog.program import PrologFile\n",
    "from problog.formula import LogicFormula\n",
    "from problog.sdd_formula import SDD\n",
    "from problog.cnf_formula import CNF\n",
    "\n",
    "def solve():\n",
    "    model= '''\n",
    "    % Decisions\n",
    "    0.1::marketed(guy).\n",
    "    0.2::marketed(bernd).\n",
    "    0.5::marketed(ingo).\n",
    "    0.3::marketed(theo).\n",
    "\n",
    "    % Probabilistic facts\n",
    "    0.2 :: buy_from_marketing(_).\n",
    "    0.3 :: buy_from_trust(_,_).\n",
    "\n",
    "    % Background knowledge\n",
    "    person(bernd).\n",
    "    person(ingo).\n",
    "    person(theo).\n",
    "    person(angelika).\n",
    "    person(guy).\n",
    "    person(martijn).\n",
    "    person(laura).\n",
    "    person(kurt).\n",
    "\n",
    "    trusts(X,Y) :- trusts_directed(X,Y).\n",
    "    trusts(X,Y) :- trusts_directed(Y,X).\n",
    "\n",
    "    trusts_directed(bernd,ingo).\n",
    "    trusts_directed(ingo,theo).\n",
    "    trusts_directed(theo,angelika).\n",
    "    trusts_directed(bernd,martijn).\n",
    "    trusts_directed(ingo,martijn).\n",
    "    trusts_directed(martijn,guy).\n",
    "    trusts_directed(guy,theo).\n",
    "    trusts_directed(guy,angelika).\n",
    "    trusts_directed(laura,ingo).\n",
    "    trusts_directed(laura,theo).\n",
    "    trusts_directed(laura,guy).\n",
    "    trusts_directed(laura,martijn).\n",
    "    trusts_directed(kurt,bernd).\n",
    "\n",
    "    buys(X) :-\n",
    "         marketed(X),\n",
    "         buy_from_marketing(X).\n",
    "    buys(X) :-\n",
    "         trusts(X,Y),\n",
    "         buy_from_trust(X,Y),\n",
    "         buys(Y).\n",
    "         \n",
    "    query(buys(kurt)).\n",
    "'''\n",
    "    \n",
    "    program = PrologString(model)\n",
    "    formula = LogicFormula.create_from(program)\n",
    "    sdd = SDD.create_from(formula)\n",
    "    return sdd.evaluate()\n",
    "\n",
    "\n",
    "   \n",
    "\n",
    "solve()"
   ]
  },
  {
   "cell_type": "code",
   "execution_count": null,
   "metadata": {
    "collapsed": true
   },
   "outputs": [],
   "source": []
  }
 ],
 "metadata": {
  "anaconda-cloud": {},
  "kernelspec": {
   "display_name": "Python [Root]",
   "language": "python",
   "name": "Python [Root]"
  },
  "language_info": {
   "codemirror_mode": {
    "name": "ipython",
    "version": 3
   },
   "file_extension": ".py",
   "mimetype": "text/x-python",
   "name": "python",
   "nbconvert_exporter": "python",
   "pygments_lexer": "ipython3",
   "version": "3.5.2"
  }
 },
 "nbformat": 4,
 "nbformat_minor": 0
}
