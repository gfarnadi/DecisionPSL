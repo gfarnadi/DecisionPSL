{
 "cells": [
  {
   "cell_type": "code",
   "execution_count": 1,
   "metadata": {
    "collapsed": true
   },
   "outputs": [],
   "source": [
    "import tempfile, subprocess, os, sys\n",
    "from collections import namedtuple\n",
    "\n",
    "BddNode = namedtuple('BDDNode', ['id', 'varid', 'hi', 'lo'])\n",
    "Variable = namedtuple('Variable', ['id', 'pweight', 'nweight', 'is_decision'])\n",
    "BDD = namedtuple('BDD', ['bdd_nodes', 'bdd_vars', 'roots', 'max_vars'])"
   ]
  },
  {
   "cell_type": "code",
   "execution_count": 48,
   "metadata": {
    "collapsed": true
   },
   "outputs": [],
   "source": [
    "def read_bdd(filename):\n",
    "    with open(filename) as f:\n",
    "        nn, nv = map(int, f.readline().strip().split())\n",
    "        bdd_vars = [Variable(i, 1.0, 1.0, False) for i in range(nv)]\n",
    "        roots = set(map(int, f.readline().strip().split()))\n",
    "        bdd_nodes = [None] * nn\n",
    "        for i in range(nn):\n",
    "            varid, lo, hi = map(int, f.readline().strip().split())\n",
    "            bdd_nodes[i] = BddNode(i, varid, hi, lo)\n",
    "\n",
    "        weights = list(map(float, f.readline().strip().split()))\n",
    "        for i in range(nv):\n",
    "            bdd_vars[i] = bdd_vars[i]._replace(pweight=weights[2*i],\n",
    "                                               nweight=weights[2*i + 1])\n",
    "\n",
    "        max_vars = set(map(int, f.readline().strip().split()))\n",
    "        for v in max_vars:\n",
    "            bdd_vars[v] = bdd_vars[v]._replace(is_decision=True)\n",
    "\n",
    "    return BDD(bdd_nodes, bdd_vars, roots, max_vars)"
   ]
  },
  {
   "cell_type": "code",
   "execution_count": 60,
   "metadata": {
    "collapsed": false
   },
   "outputs": [
    {
     "data": {
      "text/plain": [
       "[BDDNode(id=0, varid=0, hi=1, lo=2),\n",
       " BDDNode(id=1, varid=1, hi=-2, lo=-1),\n",
       " BDDNode(id=2, varid=1, hi=4, lo=3),\n",
       " BDDNode(id=3, varid=2, hi=-1, lo=-2),\n",
       " BDDNode(id=4, varid=2, hi=-2, lo=-1)]"
      ]
     },
     "execution_count": 60,
     "metadata": {},
     "output_type": "execute_result"
    }
   ],
   "source": [
    "filename = \"./data/toy1.txt\"\n",
    "BDD_sample  = read_bdd(filename)\n",
    "BDD_sample.bdd_nodes"
   ]
  },
  {
   "cell_type": "code",
   "execution_count": 62,
   "metadata": {
    "collapsed": false
   },
   "outputs": [],
   "source": [
    "def run_inference(bdd):\n",
    "    inference_value = 0.0\n",
    "    dynamic_value_holder ={}\n",
    "    for root in bdd.roots:\n",
    "        bdd_node = find_node(root, bdd)\n",
    "        inference_value+=get_inference_value(bdd_node, bdd, dynamic_value_holder)\n",
    "    return inference_value\n",
    "\n",
    "def find_node(root, bdd):\n",
    "    for node in bdd.bdd_nodes:\n",
    "        if node.id == root:\n",
    "            return node\n",
    "        \n",
    "def find_variable(variable, bdd):\n",
    "    for var in bdd.bdd_vars:\n",
    "        if var.id == variable:\n",
    "            return var\n",
    "\n",
    "def get_inference_value(bdd_node, bdd, dynamic_value_holder):\n",
    "    if bdd_node in dynamic_value_holder.keys():\n",
    "        return dynamic_value_holder[bdd_node]\n",
    "    else:\n",
    "        inference_result = 0.0\n",
    "        variable = find_variable(bdd_node.varid,bdd)\n",
    "        if bdd_node.hi == -2:\n",
    "            if bdd_node.lo == -2:\n",
    "                dynamic_value_holder[bdd_node] = 1.0 * variable.pweight + 1.0 * (1-variable.pweight)\n",
    "                return dynamic_value_holder[bdd_node]\n",
    "            elif bdd_node.lo == -1:\n",
    "                dynamic_value_holder[bdd_node] = 1.0 * variable.pweight\n",
    "                return dynamic_value_holder[bdd_node]\n",
    "            elif bdd_node.lo>-1:\n",
    "                return 1.0 * variable.pweight + get_inference_value(find_node(bdd_node.lo,bdd),bdd, dynamic_value_holder) * (1-variable.pweight)\n",
    "            else:\n",
    "                 pass\n",
    "        elif bdd_node.hi == -1:\n",
    "            if bdd_node.lo == -2:\n",
    "                dynamic_value_holder[bdd_node] = 1.0 * (1-variable.pweight)\n",
    "                return dynamic_value_holder[bdd_node] \n",
    "            elif bdd_node.lo == -1:\n",
    "                dynamic_value_holder[bdd_node] = 0.0\n",
    "                return dynamic_value_holder[bdd_node]\n",
    "            elif bdd_node.lo>-1:\n",
    "                return get_inference_value(find_node(bdd_node.lo,bdd),bdd, dynamic_value_holder) * (1-variable.pweight)\n",
    "            else:\n",
    "                pass\n",
    "        elif bdd_node.hi>-1:\n",
    "            if bdd_node.lo == -2:\n",
    "                return get_inference_value(find_node(bdd_node.hi,bdd),bdd, dynamic_value_holder) * variable.pweight + 1.0 * (1-variable.pweight)\n",
    "            elif bdd_node.lo == -1:\n",
    "                return get_inference_value(find_node(bdd_node.hi,bdd),bdd, dynamic_value_holder) * variable.pweight \n",
    "            elif bdd_node.lo > -1:\n",
    "                return get_inference_value(find_node(bdd_node.hi,bdd),bdd, dynamic_value_holder) * variable.pweight + get_inference_value(find_node(bdd_node.lo,bdd),bdd, dynamic_value_holder) * (1-variable.pweight)\n",
    "        else:\n",
    "            pass"
   ]
  },
  {
   "cell_type": "code",
   "execution_count": 63,
   "metadata": {
    "collapsed": false
   },
   "outputs": [
    {
     "data": {
      "text/plain": [
       "0.5"
      ]
     },
     "execution_count": 63,
     "metadata": {},
     "output_type": "execute_result"
    }
   ],
   "source": [
    "run_inference(BDD_sample)"
   ]
  },
  {
   "cell_type": "code",
   "execution_count": null,
   "metadata": {
    "collapsed": true
   },
   "outputs": [],
   "source": []
  }
 ],
 "metadata": {
  "anaconda-cloud": {},
  "kernelspec": {
   "display_name": "Python [Root]",
   "language": "python",
   "name": "Python [Root]"
  },
  "language_info": {
   "codemirror_mode": {
    "name": "ipython",
    "version": 3
   },
   "file_extension": ".py",
   "mimetype": "text/x-python",
   "name": "python",
   "nbconvert_exporter": "python",
   "pygments_lexer": "ipython3",
   "version": "3.5.2"
  }
 },
 "nbformat": 4,
 "nbformat_minor": 0
}
