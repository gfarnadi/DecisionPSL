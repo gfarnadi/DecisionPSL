{
 "cells": [
  {
   "cell_type": "code",
   "execution_count": null,
   "metadata": {},
   "outputs": [],
   "source": [
    "from sample_reader import read_samples\n",
    "from gurobipy import Model, GRB, quicksum\n",
    "\n",
    "samples = read_samples('../sample_graphs2/sample/generated_sample_dict-8(1000).pickle')"
   ]
  },
  {
   "cell_type": "code",
   "execution_count": null,
   "metadata": {},
   "outputs": [],
   "source": [
    "class mip_model(object):\n",
    "    def __init__(self, samples, delta=1.0):\n",
    "        self.n_nodes = samples.n_nodes\n",
    "        self.n_samples = samples.n_samples\n",
    "        self.delta = delta\n",
    "\n",
    "        self.B = samples.B\n",
    "        self.T = samples.T\n",
    "        self.F = samples.F\n",
    "\n",
    "        self.model = Model('DPSL')\n",
    "        self.create_model()\n",
    "\n",
    "    def create_model(self):\n",
    "        self.U = self.model.addVars(self.n_nodes,\n",
    "                                    self.n_samples,\n",
    "                               name='U', lb=0, ub=1,\n",
    "                               vtype=GRB.CONTINUOUS)\n",
    "        self.M = self.model.addVars(self.n_nodes,\n",
    "                               name='M', lb=0, ub=1,\n",
    "                               vtype=GRB.CONTINUOUS)\n",
    "\n",
    "        self.y = self.model.addVars(self.n_nodes,\n",
    "                                    self.n_samples,\n",
    "                               name='y', lb=0, ub=1,\n",
    "                               vtype=GRB.CONTINUOUS)\n",
    "\n",
    "        self.z = self.model.addVars(self.n_nodes,\n",
    "                                    self.n_nodes,\n",
    "                                    self.n_samples,\n",
    "                               name='z', lb=0, ub=1,\n",
    "                               vtype=GRB.CONTINUOUS)\n",
    "\n",
    "\n",
    "        self.model.addConstrs((self.y[i, n] >= -1 + self.M[i]\n",
    "                                          + self.B[i, n]\n",
    "                                          - self.U[i, n])\n",
    "                              for i in range(self.n_nodes)\n",
    "                              for n in range(self.n_samples))\n",
    "\n",
    "        self.model.addConstrs((self.z[i, j, n] >= -2 + self.T[i, j, n]\n",
    "                                             + self.F[i, j, n]\n",
    "                                             + self.U[j, n]\n",
    "                                             - self.U[i, n])\n",
    "                              for i in range(self.n_nodes)\n",
    "                              for j in range(self.n_nodes)\n",
    "                              for n in range(self.n_samples)\n",
    "                              if i != j)\n",
    "\n",
    "        cost_expr = (2 * self.M.sum() -\n",
    "                    (5 / self.n_samples) * self.U.sum())\n",
    "        dist_expr = self.y.sum() + self.z.sum() + self.U.sum()\n",
    "\n",
    "        self.model.setObjective(cost_expr + self.delta * dist_expr,\n",
    "                                GRB.MINIMIZE)\n",
    "    def solve(self):\n",
    "        self.model.optimize()\n",
    "        for i in range(self.n_nodes):\n",
    "            print(self.M[i].x)"
   ]
  },
  {
   "cell_type": "code",
   "execution_count": null,
   "metadata": {},
   "outputs": [],
   "source": [
    "m  = mip_model(samples, delta=1.0)\n",
    "m.solve()"
   ]
  }
 ],
 "metadata": {
  "kernelspec": {
   "display_name": "Python [default]",
   "language": "python",
   "name": "python3"
  },
  "language_info": {
   "codemirror_mode": {
    "name": "ipython",
    "version": 3
   },
   "file_extension": ".py",
   "mimetype": "text/x-python",
   "name": "python",
   "nbconvert_exporter": "python",
   "pygments_lexer": "ipython3",
   "version": "3.6.3"
  }
 },
 "nbformat": 4,
 "nbformat_minor": 2
}
