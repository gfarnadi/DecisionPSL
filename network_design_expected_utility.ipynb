{
 "cells": [
  {
   "cell_type": "code",
   "execution_count": 3,
   "metadata": {
    "collapsed": false
   },
   "outputs": [],
   "source": [
    "import sqlite3,os,random\n",
    "import cvxpy\n",
    "from network_design_sampling import network_sampling\n",
    "conn = sqlite3.connect('network_design.db')\n",
    "c = conn.cursor()"
   ]
  },
  {
   "cell_type": "code",
   "execution_count": 4,
   "metadata": {
    "collapsed": true
   },
   "outputs": [],
   "source": [
    "def get_samples(edges, sample_size):\n",
    "    rejection_size = 10\n",
    "    w1 = 1\n",
    "    w2 = 1\n",
    "    rv_list = []\n",
    "    for e in edges:\n",
    "         rv_list.append((e[0],e[1]))\n",
    "    samples = sampling(w1,w2, rv_list , sample_size, rejection_size)\n",
    "    return samples"
   ]
  },
  {
   "cell_type": "code",
   "execution_count": null,
   "metadata": {
    "collapsed": true
   },
   "outputs": [],
   "source": [
    "def make_optimization(sample_size, budget, delta):\n",
    "    # present(s,t) -> connected(s,t)\n",
    "    # ~present(s,t) -> ~connected(s,t)\n",
    "    # connected(s,t) -> path(s,t)\n",
    "    # ~connected(s,t) -> ~path(s,t)\n",
    "    # path(s,t1) & connected(t1,t2) -> path(s,t2)\n",
    "    # path(s,t1) & ~connected(t1,t2) -> ~path(s,t2)\n",
    "    # protected(s,t) -> connected(s,t)\n",
    "    # ~present(s,t) & ~protected(s,t) -> ~connected(s,t)\n",
    "\n",
    "    \n",
    "    \n",
    "    \n",
    "    \n",
    "    \n",
    "    \n",
    "    \n",
    "make_optimization(sample_size=20, budget = 2, delta = 0.001)\n",
    "\n",
    "\n"
   ]
  }
 ],
 "metadata": {
  "anaconda-cloud": {},
  "kernelspec": {
   "display_name": "Python [Root]",
   "language": "python",
   "name": "Python [Root]"
  },
  "language_info": {
   "codemirror_mode": {
    "name": "ipython",
    "version": 3
   },
   "file_extension": ".py",
   "mimetype": "text/x-python",
   "name": "python",
   "nbconvert_exporter": "python",
   "pygments_lexer": "ipython3",
   "version": "3.5.2"
  }
 },
 "nbformat": 4,
 "nbformat_minor": 0
}
