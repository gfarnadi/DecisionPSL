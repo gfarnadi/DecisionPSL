{
 "cells": [
  {
   "cell_type": "code",
   "execution_count": 1,
   "metadata": {
    "collapsed": true
   },
   "outputs": [],
   "source": [
    "import sqlite3,os,random\n",
    "conn = sqlite3.connect('network_design.db')\n",
    "c = conn.cursor()"
   ]
  },
  {
   "cell_type": "code",
   "execution_count": 2,
   "metadata": {
    "collapsed": true
   },
   "outputs": [],
   "source": [
    "def test_query(query):\n",
    "    c.execute(query)\n",
    "    rows = c.fetchall()\n",
    "    for row in rows:\n",
    "        print(row)"
   ]
  },
  {
   "cell_type": "code",
   "execution_count": 3,
   "metadata": {
    "collapsed": false
   },
   "outputs": [
    {
     "name": "stdout",
     "output_type": "stream",
     "text": [
      "\n",
      "Fairness-Constraint1\n",
      "==========\n",
      "('c2', 'c4', None, 1.0, 0.0)\n",
      "('c4', 'c2', None, 0.0, 1.0)\n",
      "('c0', 'c1', None, 1.0, 1.0)\n",
      "('c1', 'c3', None, 1.0, 0.0)\n",
      "('c4', 'c1', None, 0.0, 1.0)\n",
      "('c4', 'c3', None, 0.0, 0.0)\n",
      "('c1', 'c4', None, 1.0, 0.0)\n",
      "('c2', 'c3', None, 1.0, 0.0)\n",
      "('c2', 'c4', None, 1.0, 0.0)\n",
      "('c4', 'c2', None, 0.0, 1.0)\n",
      "('c0', 'c1', None, 1.0, 1.0)\n",
      "('c1', 'c3', None, 1.0, 0.0)\n",
      "('c4', 'c1', None, 0.0, 1.0)\n",
      "('c4', 'c3', None, 0.0, 0.0)\n",
      "('c1', 'c4', None, 1.0, 0.0)\n",
      "('c2', 'c3', None, 1.0, 0.0)\n",
      "('c2', 'c1', None, 1.0, 1.0)\n",
      "('c0', 'c3', None, 1.0, 0.0)\n",
      "('c0', 'c4', None, 1.0, 0.0)\n",
      "('c1', 'c2', None, 1.0, 1.0)\n",
      "('c0', 'c2', None, 1.0, 1.0)\n",
      "\n",
      "Fairness1-info\n",
      "==========\n",
      "(0, 'node1', 'NUM', 0, None, 0)\n",
      "(1, 'node2', 'NUM', 0, None, 0)\n",
      "(2, 't1', 'REAL', 0, None, 0)\n",
      "(3, 't2', 'REAL', 0, None, 0)\n",
      "(4, 't3', 'REAL', 0, None, 0)\n"
     ]
    }
   ],
   "source": [
    "def ground_fairness_constraints():\n",
    "    # path(s, c) & large(c) & large(s)\n",
    "    \n",
    "     #ground constraint 1\n",
    "    \n",
    "    print('\\nFairness-Constraint1\\n%s'%('='*10))\n",
    "    \n",
    "    query = 'DROP TABLE IF EXISTS fairnesstemp1'\n",
    "    c.execute(query)\n",
    "    conn.commit()\n",
    "    \n",
    "    query = '''\n",
    "    CREATE TABLE fairnesstemp1\n",
    "    AS\n",
    "    WITH temp1 AS\n",
    "    (\n",
    "    SELECT path.node1, path.node2, \n",
    "    path.truth as t1, large.truth as t2\n",
    "    FROM \n",
    "    path\n",
    "    INNER JOIN \n",
    "    large\n",
    "    ON path.node1 = large.node \n",
    "    )\n",
    "    SELECT * from temp1\n",
    "    '''\n",
    "    \n",
    "    test_query(query)\n",
    "    \n",
    "    \n",
    "    query = 'DROP TABLE IF EXISTS fairness1'\n",
    "    c.execute(query)\n",
    "    conn.commit()\n",
    "    \n",
    "    query = '''\n",
    "    CREATE TABLE fairness1\n",
    "    AS\n",
    "    WITH temp1 AS\n",
    "    (\n",
    "    SELECT fairnesstemp1.node1, fairnesstemp1.node2, \n",
    "    fairnesstemp1.t1 as t1, fairnesstemp1.t2 as t2, large.truth as t3\n",
    "    FROM \n",
    "    fairnesstemp1\n",
    "    INNER JOIN \n",
    "    large\n",
    "    ON fairnesstemp1.node2 = large.node\n",
    "    )\n",
    "    SELECT * from temp1\n",
    "    '''\n",
    "    \n",
    "    test_query(query)\n",
    "    \n",
    "    \n",
    "    query = '''\n",
    "    SELECT * from fairness1\n",
    "    '''\n",
    "    test_query(query)\n",
    "    \n",
    "    print('\\nFairness1-info\\n%s'%('='*10))\n",
    "    \n",
    "    query = '''\n",
    "    PRAGMA table_info(fairness1);\n",
    "    '''\n",
    "    test_query(query)\n",
    "    conn.close()\n",
    "    \n",
    "    \n",
    "ground_fairness_constraints()"
   ]
  }
 ],
 "metadata": {
  "anaconda-cloud": {},
  "kernelspec": {
   "display_name": "Python [Root]",
   "language": "python",
   "name": "Python [Root]"
  },
  "language_info": {
   "codemirror_mode": {
    "name": "ipython",
    "version": 3
   },
   "file_extension": ".py",
   "mimetype": "text/x-python",
   "name": "python",
   "nbconvert_exporter": "python",
   "pygments_lexer": "ipython3",
   "version": "3.5.2"
  }
 },
 "nbformat": 4,
 "nbformat_minor": 0
}
