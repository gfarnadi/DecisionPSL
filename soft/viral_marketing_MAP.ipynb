{
 "cells": [
  {
   "cell_type": "code",
   "execution_count": 14,
   "metadata": {
    "collapsed": true
   },
   "outputs": [],
   "source": [
    "import numpy as np\n",
    "import pandas as pd\n",
    "import sqlite3,os,random,cvxpy,math\n",
    "from viral_marketing_sampling import prob_distribution_function\n",
    "conn = sqlite3.connect('viral_marketing.db')\n",
    "c = conn.cursor()"
   ]
  },
  {
   "cell_type": "code",
   "execution_count": 30,
   "metadata": {
    "collapsed": true
   },
   "outputs": [],
   "source": [
    "def get_query_result(query):\n",
    "    result = []\n",
    "    c.execute(query)\n",
    "    rows = c.fetchall()\n",
    "    for row in rows:\n",
    "        result.append(row)\n",
    "    return result"
   ]
  },
  {
   "cell_type": "code",
   "execution_count": 62,
   "metadata": {
    "collapsed": false
   },
   "outputs": [],
   "source": [
    "def k_MAP(k, delta, w1, w2):\n",
    "    prob_distribution, vid_dict = prob_distribution_function(w1,w2)\n",
    "    # make the range constraints [0,1]\n",
    "    # make the constraints\n",
    "    constraints = []\n",
    "    for var, value in vid_dict.items():\n",
    "        constraints += [0 <= value, value <= 1]\n",
    "    query = '''SELECT * from reachable'''\n",
    "    reachables = get_query_result(query)\n",
    "    i=0\n",
    "    while i<k:\n",
    "        print('\\nIteration\\n%s'%('='*10))\n",
    "        print(i)\n",
    "        # Solve the problem\n",
    "        objective = cvxpy.Minimize(prob_distribution)\n",
    "        problem = cvxpy.Problem(objective, constraints)\n",
    "        final_result = problem.solve()\n",
    "        #print('\\nProbability distribution\\n%s'%('='*10))\n",
    "        #print(prob_distribution)\n",
    "        print('\\nFunction Value\\n%s'%('='*10))\n",
    "        print(problem.value)\n",
    "        # Process the results\n",
    "        result = dict()\n",
    "        for r in reachables:\n",
    "            vid = (r[0],r[1])\n",
    "            result[vid] = vid_dict[vid].value\n",
    "        for var, value in vid_dict.items():\n",
    "            optimal1 = float(result[var]+delta)\n",
    "            optimal2 = float(result[var]-delta)\n",
    "            #print(\"optimal1\"+str(optimal1))\n",
    "            #print(\"optimal2\"+str(optimal2))\n",
    "            constraints += [optimal1 < value, value < optimal2]\n",
    "            \n",
    "        #print ('\\nConstraintss\\n%s'%('='*10))\n",
    "        #print(constraints)\n",
    "        print('\\nReachable results\\n%s'%('='*10))\n",
    "        print(result)\n",
    "        i+=1\n",
    "    "
   ]
  },
  {
   "cell_type": "code",
   "execution_count": 63,
   "metadata": {
    "collapsed": false
   },
   "outputs": [
    {
     "name": "stdout",
     "output_type": "stream",
     "text": [
      "\n",
      "Iteration\n",
      "==========\n",
      "0\n",
      "\n",
      "Function Value\n",
      "==========\n",
      "-9.18403175082882e-11\n",
      "\n",
      "Reachable results\n",
      "==========\n",
      "{('u3', 'u1'): 0.51992096087402329, ('u2', 'u3'): 0.77712670153553187, ('u2', 'u0'): 0.46229517933889885, ('u0', 'u3'): 0.47401018104920251, ('u1', 'u3'): 0.51992096087402329, ('u2', 'u1'): 0.77712670153543018, ('u2', 'u4'): 0.1521247733576831, ('u4', 'u1'): 0.69251253845514182, ('u4', 'u0'): 0.16567324166890973, ('u0', 'u1'): 0.47401018104920251, ('u4', 'u3'): 0.69251253845618554}\n",
      "\n",
      "Iteration\n",
      "==========\n",
      "1\n",
      "\n",
      "Function Value\n",
      "==========\n",
      "1.4548673754108402e-07\n",
      "\n",
      "Reachable results\n",
      "==========\n",
      "{('u3', 'u1'): 0.51992096087468997, ('u2', 'u3'): 0.77712670153557317, ('u2', 'u0'): 0.46229517933916692, ('u0', 'u3'): 0.47401018104898685, ('u1', 'u3'): 0.51992096087468997, ('u2', 'u1'): 0.77712670153458097, ('u2', 'u4'): 0.1521247733565094, ('u4', 'u1'): 0.69251253845536442, ('u4', 'u0'): 0.16567324166811295, ('u0', 'u1'): 0.47401018104898685, ('u4', 'u3'): 0.69251253845591221}\n",
      "\n",
      "Iteration\n",
      "==========\n",
      "2\n",
      "\n",
      "Function Value\n",
      "==========\n",
      "3.9619302166198256e-07\n",
      "\n",
      "Reachable results\n",
      "==========\n",
      "{('u3', 'u1'): 0.51992096087452955, ('u2', 'u3'): 0.77712670153547991, ('u2', 'u0'): 0.46229517933910591, ('u0', 'u3'): 0.47401018104901083, ('u1', 'u3'): 0.51992096087452955, ('u2', 'u1'): 0.77712670153462915, ('u2', 'u4'): 0.15212477335702695, ('u4', 'u1'): 0.69251253845516081, ('u4', 'u0'): 0.16567324166862701, ('u0', 'u1'): 0.47401018104901083, ('u4', 'u3'): 0.69251253845576477}\n",
      "\n",
      "Iteration\n",
      "==========\n",
      "3\n",
      "\n",
      "Function Value\n",
      "==========\n",
      "6.758258612296273e-07\n",
      "\n",
      "Reachable results\n",
      "==========\n",
      "{('u3', 'u1'): 0.51992096087455675, ('u2', 'u3'): 0.77712670153547936, ('u2', 'u0'): 0.46229517933911063, ('u0', 'u3'): 0.47401018104899034, ('u1', 'u3'): 0.51992096087455675, ('u2', 'u1'): 0.77712670153448604, ('u2', 'u4'): 0.15212477335711325, ('u4', 'u1'): 0.69251253845500871, ('u4', 'u0'): 0.16567324166871064, ('u0', 'u1'): 0.47401018104899034, ('u4', 'u3'): 0.69251253845572391}\n",
      "\n",
      "Iteration\n",
      "==========\n",
      "4\n",
      "\n",
      "Function Value\n",
      "==========\n",
      "inf\n"
     ]
    },
    {
     "ename": "TypeError",
     "evalue": "unsupported operand type(s) for +: 'NoneType' and 'float'",
     "output_type": "error",
     "traceback": [
      "\u001b[0;31m---------------------------------------------------------------------------\u001b[0m",
      "\u001b[0;31mTypeError\u001b[0m                                 Traceback (most recent call last)",
      "\u001b[0;32m<ipython-input-63-e172203b4133>\u001b[0m in \u001b[0;36m<module>\u001b[0;34m()\u001b[0m\n\u001b[1;32m      6\u001b[0m     \u001b[0mk_MAP\u001b[0m\u001b[0;34m(\u001b[0m\u001b[0mk\u001b[0m\u001b[0;34m,\u001b[0m \u001b[0mdelta\u001b[0m\u001b[0;34m,\u001b[0m \u001b[0mw1\u001b[0m\u001b[0;34m,\u001b[0m \u001b[0mw2\u001b[0m\u001b[0;34m)\u001b[0m\u001b[0;34m\u001b[0m\u001b[0m\n\u001b[1;32m      7\u001b[0m \u001b[0;34m\u001b[0m\u001b[0m\n\u001b[0;32m----> 8\u001b[0;31m \u001b[0mtest_k_MAP\u001b[0m\u001b[0;34m(\u001b[0m\u001b[0;34m)\u001b[0m\u001b[0;34m\u001b[0m\u001b[0m\n\u001b[0m",
      "\u001b[0;32m<ipython-input-63-e172203b4133>\u001b[0m in \u001b[0;36mtest_k_MAP\u001b[0;34m()\u001b[0m\n\u001b[1;32m      4\u001b[0m     \u001b[0mw2\u001b[0m \u001b[0;34m=\u001b[0m \u001b[0;36m1\u001b[0m\u001b[0;34m\u001b[0m\u001b[0m\n\u001b[1;32m      5\u001b[0m     \u001b[0mdelta\u001b[0m \u001b[0;34m=\u001b[0m \u001b[0;36m0.00000001\u001b[0m\u001b[0;34m\u001b[0m\u001b[0m\n\u001b[0;32m----> 6\u001b[0;31m     \u001b[0mk_MAP\u001b[0m\u001b[0;34m(\u001b[0m\u001b[0mk\u001b[0m\u001b[0;34m,\u001b[0m \u001b[0mdelta\u001b[0m\u001b[0;34m,\u001b[0m \u001b[0mw1\u001b[0m\u001b[0;34m,\u001b[0m \u001b[0mw2\u001b[0m\u001b[0;34m)\u001b[0m\u001b[0;34m\u001b[0m\u001b[0m\n\u001b[0m\u001b[1;32m      7\u001b[0m \u001b[0;34m\u001b[0m\u001b[0m\n\u001b[1;32m      8\u001b[0m \u001b[0mtest_k_MAP\u001b[0m\u001b[0;34m(\u001b[0m\u001b[0;34m)\u001b[0m\u001b[0;34m\u001b[0m\u001b[0m\n",
      "\u001b[0;32m<ipython-input-62-b2359b105a40>\u001b[0m in \u001b[0;36mk_MAP\u001b[0;34m(k, delta, w1, w2)\u001b[0m\n\u001b[1;32m     26\u001b[0m             \u001b[0mresult\u001b[0m\u001b[0;34m[\u001b[0m\u001b[0mvid\u001b[0m\u001b[0;34m]\u001b[0m \u001b[0;34m=\u001b[0m \u001b[0mvid_dict\u001b[0m\u001b[0;34m[\u001b[0m\u001b[0mvid\u001b[0m\u001b[0;34m]\u001b[0m\u001b[0;34m.\u001b[0m\u001b[0mvalue\u001b[0m\u001b[0;34m\u001b[0m\u001b[0m\n\u001b[1;32m     27\u001b[0m         \u001b[0;32mfor\u001b[0m \u001b[0mvar\u001b[0m\u001b[0;34m,\u001b[0m \u001b[0mvalue\u001b[0m \u001b[0;32min\u001b[0m \u001b[0mvid_dict\u001b[0m\u001b[0;34m.\u001b[0m\u001b[0mitems\u001b[0m\u001b[0;34m(\u001b[0m\u001b[0;34m)\u001b[0m\u001b[0;34m:\u001b[0m\u001b[0;34m\u001b[0m\u001b[0m\n\u001b[0;32m---> 28\u001b[0;31m             \u001b[0moptimal1\u001b[0m \u001b[0;34m=\u001b[0m \u001b[0mfloat\u001b[0m\u001b[0;34m(\u001b[0m\u001b[0mresult\u001b[0m\u001b[0;34m[\u001b[0m\u001b[0mvar\u001b[0m\u001b[0;34m]\u001b[0m\u001b[0;34m+\u001b[0m\u001b[0mdelta\u001b[0m\u001b[0;34m)\u001b[0m\u001b[0;34m\u001b[0m\u001b[0m\n\u001b[0m\u001b[1;32m     29\u001b[0m             \u001b[0moptimal2\u001b[0m \u001b[0;34m=\u001b[0m \u001b[0mfloat\u001b[0m\u001b[0;34m(\u001b[0m\u001b[0mresult\u001b[0m\u001b[0;34m[\u001b[0m\u001b[0mvar\u001b[0m\u001b[0;34m]\u001b[0m\u001b[0;34m-\u001b[0m\u001b[0mdelta\u001b[0m\u001b[0;34m)\u001b[0m\u001b[0;34m\u001b[0m\u001b[0m\n\u001b[1;32m     30\u001b[0m             \u001b[0;31m#print(\"optimal1\"+str(optimal1))\u001b[0m\u001b[0;34m\u001b[0m\u001b[0;34m\u001b[0m\u001b[0m\n",
      "\u001b[0;31mTypeError\u001b[0m: unsupported operand type(s) for +: 'NoneType' and 'float'"
     ]
    }
   ],
   "source": [
    "def test_k_MAP():\n",
    "    k = 5\n",
    "    w1 = 1\n",
    "    w2 = 1\n",
    "    delta = 0.00000001\n",
    "    k_MAP(k, delta, w1, w2)\n",
    "    \n",
    "test_k_MAP()"
   ]
  },
  {
   "cell_type": "code",
   "execution_count": null,
   "metadata": {
    "collapsed": true
   },
   "outputs": [],
   "source": []
  }
 ],
 "metadata": {
  "anaconda-cloud": {},
  "kernelspec": {
   "display_name": "Python [Root]",
   "language": "python",
   "name": "Python [Root]"
  },
  "language_info": {
   "codemirror_mode": {
    "name": "ipython",
    "version": 3
   },
   "file_extension": ".py",
   "mimetype": "text/x-python",
   "name": "python",
   "nbconvert_exporter": "python",
   "pygments_lexer": "ipython3",
   "version": "3.5.2"
  }
 },
 "nbformat": 4,
 "nbformat_minor": 0
}
