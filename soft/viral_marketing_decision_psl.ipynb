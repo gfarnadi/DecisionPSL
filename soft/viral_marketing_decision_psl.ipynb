{
 "cells": [
  {
   "cell_type": "code",
   "execution_count": 1,
   "metadata": {
    "collapsed": false
   },
   "outputs": [],
   "source": [
    "import sqlite3,os,random\n",
    "import cvxpy\n",
    "import pickle\n",
    "import sys\n",
    "sys.path.append(os.environ[\"PROBLOG_HOME\"])\n",
    "import problog\n",
    "conn = sqlite3.connect('viral_marketing_psl.db')\n",
    "c = conn.cursor()"
   ]
  },
  {
   "cell_type": "code",
   "execution_count": 2,
   "metadata": {
    "collapsed": true
   },
   "outputs": [],
   "source": [
    "def create_db_from_graph(sample_graph_folder, node_size):\n",
    "    query = 'DROP TABLE IF EXISTS trusts'\n",
    "    c.execute(query)\n",
    "    query = 'DROP TABLE IF EXISTS user'\n",
    "    c.execute(query)\n",
    "    query = 'DROP TABLE IF EXISTS cost'\n",
    "    c.execute(query)\n",
    "    query = 'DROP TABLE IF EXISTS reward'\n",
    "    c.execute(query)\n",
    "    query = 'DROP TABLE IF EXISTS sensitive'\n",
    "    c.execute(query)\n",
    "    conn.commit()\n",
    "    query = ''' CREATE TABLE IF NOT EXISTS trusts\n",
    "            (person1 string, person2 string, truth real)'''\n",
    "    c.execute(query)\n",
    "    query = ''' CREATE TABLE IF NOT EXISTS user\n",
    "            (person string, truth real)'''\n",
    "    c.execute(query)\n",
    "    query = ''' CREATE TABLE IF NOT EXISTS cost\n",
    "            (person string, truth real)'''\n",
    "    c.execute(query)\n",
    "    query = ''' CREATE TABLE IF NOT EXISTS reward\n",
    "            (person string, truth real)'''\n",
    "    c.execute(query)\n",
    "    query = ''' CREATE TABLE IF NOT EXISTS sensitive\n",
    "            (person string, truth real)'''\n",
    "    c.execute(query)\n",
    "    network_data = []\n",
    "    with open(sample_graph_folder+'trust-'+str(node_size)+'.txt') as f:\n",
    "        for line in f:\n",
    "            line = line.strip()\n",
    "            if not line: continue\n",
    "            line = line.split('\\t')\n",
    "            network_data.append(tuple(line))\n",
    "    c.executemany('INSERT INTO trusts VALUES (?, ?, 1.0)', network_data)\n",
    "    user_data = []\n",
    "    sensitive_data = []\n",
    "    with open(sample_graph_folder+'user-'+str(node_size)+'.txt') as f:\n",
    "        for line in f:\n",
    "            line = line.strip()\n",
    "            if not line: continue\n",
    "            line = line.split('\\t')\n",
    "            user_data.append(tuple(line))\n",
    "    with open(sample_graph_folder+'sensitive-'+str(node_size)+'.txt') as f:\n",
    "        for line in f:\n",
    "            line = line.strip()\n",
    "            if not line: continue\n",
    "            line = line.split('\\t')\n",
    "            sensitive_data.append(tuple(line))\n",
    "    c.executemany('INSERT INTO user VALUES (?, 1.0)', user_data)\n",
    "    c.executemany('INSERT INTO cost VALUES (?, -2.0)', user_data)\n",
    "    c.executemany('INSERT INTO reward VALUES (?, 5.0)', user_data)\n",
    "    c.executemany('INSERT INTO sensitive VALUES (?, ?)', sensitive_data)\n",
    "    make_reachable()\n",
    "    conn.commit() "
   ]
  },
  {
   "cell_type": "code",
   "execution_count": 3,
   "metadata": {
    "collapsed": false
   },
   "outputs": [],
   "source": [
    "def make_reachable():\n",
    "    query = 'DROP TABLE IF EXISTS reachable'\n",
    "    c.execute(query)\n",
    "    conn.commit()\n",
    "    query = ''' CREATE TABLE IF NOT EXISTS reachable\n",
    "            (person1 string, person2 string, truth real)'''\n",
    "    c.execute(query)\n",
    "    query = 'DROP TABLE IF EXISTS reachableTemp'\n",
    "    c.execute(query)\n",
    "    conn.commit()\n",
    "    query = '''CREATE TABLE reachableTemp AS WITH temp AS\n",
    "        (SELECT user.person as person1, reward.person as person2\n",
    "        FROM user \n",
    "        CROSS JOIN reward \n",
    "        )SELECT * FROM temp'''\n",
    "    c.execute(query)\n",
    "    query = '''INSERT INTO reachable (person1, person2) SELECT person1, person2 FROM reachableTemp'''\n",
    "    c.execute(query)\n",
    "    conn.commit() "
   ]
  },
  {
   "cell_type": "code",
   "execution_count": 4,
   "metadata": {
    "collapsed": true
   },
   "outputs": [],
   "source": [
    "def make_objective(buy, reward):\n",
    "    objective_function = 0\n",
    "    for r in reward:\n",
    "        uid = r[0]\n",
    "        value = float(r[1])\n",
    "        objective_function += buy[uid]* value\n",
    "    return objective_function"
   ]
  },
  {
   "cell_type": "code",
   "execution_count": 5,
   "metadata": {
    "collapsed": false
   },
   "outputs": [],
   "source": [
    "def convert_constraint1(marketed, buy, buy_from_marketing, delta):\n",
    "     #TODO: add buy from marketing\n",
    "    #marketed(u) & buy_from_marketing(u) ->buy(u)\n",
    "    #~marketed(u) & buy_from_marketing(u) ->~buy(u)\n",
    "    constraint = []\n",
    "    obj_function = 0.0\n",
    "    for uid,value in buy.items():\n",
    "        obj_function+=cvxpy.pos(cvxpy.pos(marketed[uid]+buy_from_marketing[uid]-1.0)-buy[uid])\n",
    "        obj_function+=cvxpy.pos(cvxpy.pos((1-marketed[uid])+buy_from_marketing[uid]-1.0)-(1-buy[uid]))\n",
    "        constraint.append(delta >= cvxpy.pos(cvxpy.pos(marketed[uid]+buy_from_marketing[uid]-1.0)-buy[uid]))\n",
    "        constraint.append(delta >= cvxpy.pos(((1-marketed[uid])+buy_from_marketing[uid]-1.0)-(1-buy[uid])))\n",
    "    return constraint,obj_function"
   ]
  },
  {
   "cell_type": "code",
   "execution_count": 6,
   "metadata": {
    "collapsed": false
   },
   "outputs": [],
   "source": [
    "def convert_constraint2(reachable, buy, buy_from_trust, delta):\n",
    "     #TODO: add buy from trust\n",
    "    #reachable(u,v) & buy(u) & buy_from_trust(u,v)-> buy(v)\n",
    "    #reachable(u,v) & ~buy(u) & buy_from_trust(u,v)-> ~buy(v)\n",
    "    constraint = []\n",
    "    obj_function = 0.0\n",
    "    for edge,value in reachable.items():\n",
    "        u = edge[0]\n",
    "        v = edge[1]\n",
    "        #TODO: fix the value of reachable table to be 1 instead of none\n",
    "        if (value==True):\n",
    "            value_num = 1.0\n",
    "        else:\n",
    "            value_num = 0.0 \n",
    "        if (buy_from_trust[edge]==True):\n",
    "            buy_from_trust_value = 1.0\n",
    "        else:\n",
    "            buy_from_trust_value = 0.0\n",
    "        obj_function+=cvxpy.pos(cvxpy.pos(cvxpy.pos(float(value_num)+buy[u]-1.0)+buy_from_trust_value -1) - buy[v])\n",
    "        obj_function+=cvxpy.pos(cvxpy.pos(cvxpy.pos(float(value_num)+(1-buy[u])-1.0)+buy_from_trust_value -1) - (1-buy[v]))\n",
    "        constraint.append(delta >= cvxpy.pos(cvxpy.pos(cvxpy.pos(float(value_num)+buy[u]-1.0)+buy_from_trust_value -1) - buy[v]))\n",
    "        constraint.append(delta >= cvxpy.pos(cvxpy.pos(cvxpy.pos(float(value_num)+(1-buy[u])-1.0)+buy_from_trust_value -1) - (1-buy[v])))\n",
    "    return constraint, obj_function"
   ]
  },
  {
   "cell_type": "code",
   "execution_count": 7,
   "metadata": {
    "collapsed": true
   },
   "outputs": [],
   "source": [
    "def convert_constraint3(marketed, cost, budget):\n",
    "     #TODO: add buy\n",
    "    #∑ cost(u) * marketed(u) ≤ B\n",
    "    sum_cost = 0.0\n",
    "    for c in cost:\n",
    "        uid = c[0]\n",
    "        value = float(c[1]) \n",
    "        sum_cost += value * marketed[uid]\n",
    "    return [sum_cost <= budget], sum_cost"
   ]
  },
  {
   "cell_type": "code",
   "execution_count": 8,
   "metadata": {
    "collapsed": true
   },
   "outputs": [],
   "source": [
    "def add_prior(buy):\n",
    "    #~buy(u)\n",
    "    sum = 0.0\n",
    "    for key, value in buy.items(): \n",
    "        sum+= (value)\n",
    "    return sum"
   ]
  },
  {
   "cell_type": "code",
   "execution_count": 9,
   "metadata": {
    "collapsed": true
   },
   "outputs": [],
   "source": [
    "def convert_fairness_constraint1(sensitive, buy, delta):\n",
    "    # buy(u) & sensitive(u)\n",
    "    # buy(u) & ~sensitive(u)\n",
    "    constraint = []\n",
    "    sum_protected = 0.0\n",
    "    sum_unprotected = 0.0\n",
    "    size_protected = 0.0\n",
    "    size_unprotected = 0.0\n",
    "    for s in sensitive:\n",
    "        value = float(s[1])\n",
    "        if (value==1):\n",
    "            size_protected +=1.0\n",
    "        else:\n",
    "            size_unprotected +=1.0    \n",
    "    for s in sensitive:\n",
    "        uid = s[0]\n",
    "        value = float(s[1])\n",
    "        sum_protected += buy[uid] * value #* (1/float(size_protected))\n",
    "        sum_unprotected += buy[uid] * (1 - value) #* (1/float(size_unprotected))\n",
    "    protected = sum_protected - sum_unprotected\n",
    "    unprotected = sum_unprotected -  sum_protected\n",
    "    constraint+=[ protected<=delta , unprotected<=delta]\n",
    "    return constraint "
   ]
  },
  {
   "cell_type": "code",
   "execution_count": 10,
   "metadata": {
    "collapsed": true
   },
   "outputs": [],
   "source": [
    "def convert_fairness_constraint2(sensitive, reachable, marketed, delta):\n",
    "    # marketed(u) & reachable (u,v) & sensitive (v)\n",
    "    # marketed(u) & reachable (u,v) & ~sensitive (v)\n",
    "    sum_protected = 0.0\n",
    "    sum_unprotected = 0.0\n",
    "    constraint = []\n",
    "    sensitive_dict = dict()\n",
    "    size_protected = 0.0\n",
    "    size_unprotected = 0.0\n",
    "    for s in sensitive:\n",
    "        uid = s[0]\n",
    "        value = float(s[1])\n",
    "        if (value ==1):\n",
    "            size_protected += 1.0\n",
    "        else:\n",
    "            size_unprotected += 1.0\n",
    "        sensitive_dict[uid] = value\n",
    "    for edge,value in reachable.items():\n",
    "        u = edge[0]\n",
    "        v = edge[1]\n",
    "        if float(value) > 0.5:\n",
    "            if sensitive_dict[v]==1.0:\n",
    "                sum_protected+= marketed[u] #* (1/float(size_protected))\n",
    "                #sum_protected+= cvxpy.pos(marketed[u]+float(value)-1)\n",
    "            else:\n",
    "                sum_unprotected += marketed[u] #* (1/float(size_unprotected))\n",
    "                #sum_unprotected += cvxpy.pos(marketed[u]+float(value)-1)\n",
    "    protected = sum_protected - sum_unprotected\n",
    "    unprotected = sum_unprotected - sum_protected\n",
    "    constraint+=[ protected<=delta , unprotected<=delta]\n",
    "    return constraint\n",
    "    "
   ]
  },
  {
   "cell_type": "code",
   "execution_count": 11,
   "metadata": {
    "collapsed": true
   },
   "outputs": [],
   "source": [
    "def get_query_result(query):\n",
    "    result = []\n",
    "    c.execute(query)\n",
    "    rows = c.fetchall()\n",
    "    for row in rows:\n",
    "        result.append(row)\n",
    "    return result"
   ]
  },
  {
   "cell_type": "code",
   "execution_count": 12,
   "metadata": {
    "collapsed": true
   },
   "outputs": [],
   "source": [
    "def read_samples(sample_graph_folder, node_size, sample_size):\n",
    "    pickle_path=sample_graph_folder+\"generated_sample_dict-\"+str(node_size)+\"(\"+str(sample_size)+\")\"+\".pickle\"\n",
    "    samples= {}   \n",
    "    with open(pickle_path, 'rb') as handle:\n",
    "        samples = pickle.load(handle)\n",
    "    return samples"
   ]
  },
  {
   "cell_type": "code",
   "execution_count": 13,
   "metadata": {
    "collapsed": true
   },
   "outputs": [],
   "source": [
    "def extract_edge(key, string_code):\n",
    "    edge_str = str(key).replace(string_code, '').replace(')','')\n",
    "    edges = edge_str.split(',')\n",
    "    return int(edges[0]),int(edges[1])"
   ]
  },
  {
   "cell_type": "code",
   "execution_count": 14,
   "metadata": {
    "collapsed": true
   },
   "outputs": [],
   "source": [
    "def extract_user_marketing(key):\n",
    "    user = str(key).replace('buy_from_marketing(', '').replace(')','')\n",
    "    return int(user)"
   ]
  },
  {
   "cell_type": "code",
   "execution_count": null,
   "metadata": {
    "collapsed": false
   },
   "outputs": [],
   "source": [
    "def run_optimization(sample_graph_folder, sample_size, node_size, budget, delta):\n",
    "    create_db_from_graph(sample_graph_folder+'data/', node_size)\n",
    "    samples = read_samples(sample_graph_folder+'sample/', node_size, sample_size)\n",
    "\n",
    "    query_cost = '''\n",
    "    SELECT * from cost\n",
    "    '''\n",
    "    query_reward = '''\n",
    "    SELECT * from reward\n",
    "    '''\n",
    "    query_sensitive = '''\n",
    "    SELECT * from sensitive\n",
    "    '''\n",
    "    query_users = '''\n",
    "    SELECT * from user\n",
    "    '''\n",
    "    query_reachable = '''\n",
    "    SELECT * from reachable\n",
    "    '''\n",
    "    query_trusts = '''\n",
    "    SELECT * from trusts\n",
    "    '''\n",
    "    print('\\nUsers\\n%s'%('='*10))\n",
    "    users = get_query_result(query_users)\n",
    "    print(users)\n",
    "    print('\\nCost\\n%s'%('='*10))\n",
    "    cost = get_query_result(query_cost)\n",
    "    print(cost)\n",
    "    print('\\nReward\\n%s'%('='*10))\n",
    "    reward = get_query_result(query_reward)\n",
    "    print(reward)\n",
    "    print('\\nSensitive\\n%s'%('='*10))\n",
    "    sensitive = get_query_result(query_sensitive)\n",
    "    print(sensitive)\n",
    "    print('\\nTrusts\\n%s'%('='*10))\n",
    "    trusts = get_query_result(query_trusts)\n",
    "    print(trusts)\n",
    "    print('\\nReachable\\n%s'%('='*10))\n",
    "    edges = get_query_result(query_reachable)\n",
    "    print(edges)\n",
    "    \n",
    "    var_dict = dict()\n",
    "    \n",
    "    \n",
    "    # make decision variable for marketed\n",
    "    marketed = dict()\n",
    "    for user in users:\n",
    "        uid = user[0]\n",
    "        variable = cvxpy.Variable()\n",
    "        marketed[uid] = variable\n",
    "        var_dict[('marketed', uid)] = variable\n",
    "    \n",
    "    buys = []\n",
    "    reachables = []\n",
    "    buy_from_trusts= []\n",
    "    buy_from_marketings = []\n",
    "    for i in range(sample_size):\n",
    "        # make random variable for buy\n",
    "        buy = dict()\n",
    "        for user in users:\n",
    "            uid = user[0]\n",
    "            variable = cvxpy.Variable()\n",
    "            buy[uid] = variable\n",
    "            var_dict[('buy', i, uid)] = variable\n",
    "        buys.append(buy)\n",
    "        #use samples for reachable\n",
    "        reachable = dict()\n",
    "        buy_from_trust = dict()\n",
    "        buy_from_marketing = dict()\n",
    "        for key in samples.keys():\n",
    "            if str(key).startswith('trusts('):\n",
    "                e1,e2 = extract_edge(key, string_code = 'trusts(')\n",
    "                edge = (e1,e2)\n",
    "                reachable[edge] = samples[key][i]\n",
    "            elif str(key).startswith('buy_from_trust('):\n",
    "                e1,e2 = extract_edge(key, string_code = 'buy_from_trust(' )\n",
    "                edge = (e1,e2)\n",
    "                buy_from_trust[edge] = samples[key][i]\n",
    "                \n",
    "            elif str(key).startswith('buy_from_marketing('):\n",
    "                marketed_user = extract_user_marketing(key)\n",
    "                buy_from_marketing[marketed_user] = samples[key][i]\n",
    "            else:\n",
    "                pass\n",
    "        reachables.append(reachable)\n",
    "        buy_from_trusts.append(buy_from_trust)\n",
    "        buy_from_marketings.append(buy_from_marketing)\n",
    "    \n",
    "    objective_function = 0.0\n",
    "    # make the optimization problem \n",
    "    for i in range (sample_size):\n",
    "        objective_function += make_objective(buys[i], reward)\n",
    "    \n",
    "    objective_function = objective_function* (1/float(sample_size))\n",
    "    #print(objective_function)\n",
    "    # make the constraints\n",
    "    constraints = []\n",
    "    \n",
    "    function_constraint_3, obj_3 = convert_constraint3(marketed, cost, budget)\n",
    "    objective_function+=obj_3\n",
    "    #constraints+= function_constraint_3   \n",
    "    \n",
    "    for i in range (sample_size):\n",
    "        function_constraint_1,obj_1 = convert_constraint1(marketed, buys[i], buy_from_marketings[i], delta)\n",
    "        #constraints+=function_constraint_1\n",
    "        objective_function+=(1-obj_1)* (1/2*float(sample_size))\n",
    "        function_constraint_2, obj_2 = convert_constraint2(reachables[i], buys[i], buy_from_trusts[i], delta)\n",
    "        #constraints+=function_constraint_2\n",
    "        objective_function+=(1-obj_2)* (1/2*float(sample_size))\n",
    "        objective_function+= add_prior(buys[i])* (1/float(sample_size))\n",
    "        \n",
    "        ########################################\n",
    "        # make the fairness constraints\n",
    "        fairness_constraint1 = convert_fairness_constraint1(sensitive, buys[i], delta)\n",
    "        #constraints+=fairness_constraint1\n",
    "        fairness_constraint2 = convert_fairness_constraint2(sensitive, reachable, marketed, delta)\n",
    "        #constraints+=fairness_constraint2\n",
    "       \n",
    "    # make the range constraints [0,1]\n",
    "    for var, value in var_dict.items():\n",
    "        constraints += [0 <= value, value <= 1]\n",
    "    \n",
    "    #print('\\nObjective_function\\n%s'%('='*10))\n",
    "    #print(objective_function)\n",
    "    \n",
    "    #print('\\nConstraints\\n%s'%('='*10))\n",
    "    #print(constraints)\n",
    "    \n",
    "\n",
    "    # Solve the problem\n",
    "    #print('\\nobjective_function\\n%s'%('='*10))\n",
    "    #print(objective_function)\n",
    "    #print('\\nConstraints\\n%s'%('='*10))\n",
    "    #print(constraints)\n",
    "    objective = cvxpy.Maximize(objective_function)\n",
    "    problem = cvxpy.Problem(objective, constraints)\n",
    "    final_result = problem.solve()\n",
    "    \n",
    "    \n",
    "    # Process the results\n",
    "    marketed_result = dict()\n",
    "    for user in users:\n",
    "        uid = user[0]\n",
    "        vid = ('marketed', uid)\n",
    "        marketed_result[uid] = var_dict[vid].value\n",
    "        \n",
    "    \n",
    "    print('\\nMarketed results\\n%s'%('='*10))\n",
    "    print(marketed_result)\n",
    "    \n",
    "    buyer_result = dict()\n",
    "    for user in users:\n",
    "        buyer_value = 0.0\n",
    "        for i in range (sample_size):\n",
    "            uid = user[0]\n",
    "            vid = ('buy', i, uid)\n",
    "            buyer_value+=var_dict[vid].value\n",
    "        buyer_result[uid] = buyer_value* (1/float(sample_size))\n",
    "    \n",
    "    print('\\nBuyer results\\n%s'%('='*10))\n",
    "    print(buyer_result)\n",
    "    \n",
    "    print('\\nStatus of optimization\\n%s'%('='*10))\n",
    "    print(problem.status)\n",
    "    \n",
    "    print('\\nOptimal value\\n%s'%('='*10))\n",
    "    print(problem.value)"
   ]
  },
  {
   "cell_type": "code",
   "execution_count": null,
   "metadata": {
    "collapsed": false
   },
   "outputs": [
    {
     "name": "stdout",
     "output_type": "stream",
     "text": [
      "\n",
      "Users\n",
      "==========\n",
      "[(0, 1.0), (1, 1.0), (2, 1.0), (3, 1.0), (4, 1.0), (5, 1.0), (6, 1.0), (7, 1.0)]\n",
      "\n",
      "Cost\n",
      "==========\n",
      "[(0, -2.0), (1, -2.0), (2, -2.0), (3, -2.0), (4, -2.0), (5, -2.0), (6, -2.0), (7, -2.0)]\n",
      "\n",
      "Reward\n",
      "==========\n",
      "[(0, 5.0), (1, 5.0), (2, 5.0), (3, 5.0), (4, 5.0), (5, 5.0), (6, 5.0), (7, 5.0)]\n",
      "\n",
      "Sensitive\n",
      "==========\n",
      "[(0, 1.0), (1, 0.0), (2, 0.0), (3, 1.0), (4, 0.0), (5, 0.0), (6, 1.0), (7, 0.0)]\n",
      "\n",
      "Trusts\n",
      "==========\n",
      "[(0, 6, 1.0), (1, 6, 1.0), (1, 7, 1.0), (2, 6, 1.0), (2, 7, 1.0), (3, 6, 1.0), (3, 7, 1.0), (4, 6, 1.0), (4, 7, 1.0), (5, 6, 1.0), (5, 7, 1.0), (6, 7, 1.0)]\n",
      "\n",
      "Reachable\n",
      "==========\n",
      "[(0, 0, None), (0, 1, None), (0, 2, None), (0, 3, None), (0, 4, None), (0, 5, None), (0, 6, None), (0, 7, None), (1, 0, None), (1, 1, None), (1, 2, None), (1, 3, None), (1, 4, None), (1, 5, None), (1, 6, None), (1, 7, None), (2, 0, None), (2, 1, None), (2, 2, None), (2, 3, None), (2, 4, None), (2, 5, None), (2, 6, None), (2, 7, None), (3, 0, None), (3, 1, None), (3, 2, None), (3, 3, None), (3, 4, None), (3, 5, None), (3, 6, None), (3, 7, None), (4, 0, None), (4, 1, None), (4, 2, None), (4, 3, None), (4, 4, None), (4, 5, None), (4, 6, None), (4, 7, None), (5, 0, None), (5, 1, None), (5, 2, None), (5, 3, None), (5, 4, None), (5, 5, None), (5, 6, None), (5, 7, None), (6, 0, None), (6, 1, None), (6, 2, None), (6, 3, None), (6, 4, None), (6, 5, None), (6, 6, None), (6, 7, None), (7, 0, None), (7, 1, None), (7, 2, None), (7, 3, None), (7, 4, None), (7, 5, None), (7, 6, None), (7, 7, None)]\n"
     ]
    }
   ],
   "source": [
    "sample_graph_folder = '../sample_graphs2/'\n",
    "run_optimization(sample_graph_folder, sample_size = 1000, node_size = 8, budget = 4, delta = 0.001)"
   ]
  },
  {
   "cell_type": "code",
   "execution_count": null,
   "metadata": {
    "collapsed": true
   },
   "outputs": [],
   "source": []
  },
  {
   "cell_type": "code",
   "execution_count": null,
   "metadata": {
    "collapsed": true
   },
   "outputs": [],
   "source": []
  }
 ],
 "metadata": {
  "anaconda-cloud": {},
  "kernelspec": {
   "display_name": "Python [Root]",
   "language": "python",
   "name": "Python [Root]"
  },
  "language_info": {
   "codemirror_mode": {
    "name": "ipython",
    "version": 3
   },
   "file_extension": ".py",
   "mimetype": "text/x-python",
   "name": "python",
   "nbconvert_exporter": "python",
   "pygments_lexer": "ipython3",
   "version": "3.5.2"
  }
 },
 "nbformat": 4,
 "nbformat_minor": 0
}
