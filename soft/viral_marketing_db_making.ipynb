{
 "cells": [
  {
   "cell_type": "code",
   "execution_count": 1,
   "metadata": {
    "collapsed": true
   },
   "outputs": [],
   "source": [
    "import sqlite3,os,random\n",
    "conn = sqlite3.connect('viral_marketing.db')\n",
    "c = conn.cursor()"
   ]
  },
  {
   "cell_type": "code",
   "execution_count": 2,
   "metadata": {
    "collapsed": true
   },
   "outputs": [],
   "source": [
    "def save_file(path, content):\n",
    "    try:\n",
    "        os.remove(path)\n",
    "    except OSError:\n",
    "        pass\n",
    "    with open(path, 'a') as out:\n",
    "        out.write(content+'\\n')"
   ]
  },
  {
   "cell_type": "code",
   "execution_count": 3,
   "metadata": {
    "collapsed": false
   },
   "outputs": [],
   "source": [
    "def make_synthetic_network(node_size, edge_size):\n",
    "    edges= []\n",
    "    text_edges = ''\n",
    "    text_nodes= ''\n",
    "    text_sensitive = ''\n",
    "    for i in range(node_size):\n",
    "        node = 'u'+str(i)\n",
    "        text_nodes+=node+'\\n'\n",
    "        sensivity = random.choice('01')\n",
    "        text_sensitive+=node+'\\t'+sensivity+'\\n'\n",
    "    save_file('./user.txt',text_nodes)\n",
    "    save_file('./sensitive.txt',text_sensitive)\n",
    "    for i in range(edge_size):\n",
    "        source = random.randint(0,node_size-1)\n",
    "        target = random.randint(0,node_size-1)\n",
    "        edge = 'u'+str(source)+'\\t'+'u'+str(target)\n",
    "        trial = 0\n",
    "        while (target == source or edge in edges) and (trial<node_size-1):\n",
    "            target = random.randint(0,node_size-1)\n",
    "            edge = 'u'+str(source)+'\\t'+'u'+str(target)\n",
    "            trial+=1\n",
    "        if (trial<node_size-1):\n",
    "            edges.append(edge)\n",
    "            text_edges+=edge+'\\n'\n",
    "    save_file('./trusts.txt',text_edges)\n",
    "    \n",
    "make_synthetic_network(node_size = 5, edge_size = 8)"
   ]
  },
  {
   "cell_type": "code",
   "execution_count": 4,
   "metadata": {
    "collapsed": false
   },
   "outputs": [],
   "source": [
    "def create_db():\n",
    "    query = 'DROP TABLE IF EXISTS trusts'\n",
    "    c.execute(query)\n",
    "    query = 'DROP TABLE IF EXISTS user'\n",
    "    c.execute(query)\n",
    "    query = 'DROP TABLE IF EXISTS cost'\n",
    "    c.execute(query)\n",
    "    query = 'DROP TABLE IF EXISTS reward'\n",
    "    c.execute(query)\n",
    "    query = 'DROP TABLE IF EXISTS sensitive'\n",
    "    c.execute(query)\n",
    "    conn.commit()\n",
    "    query = ''' CREATE TABLE IF NOT EXISTS trusts\n",
    "            (person1 string, person2 string, truth real)'''\n",
    "    c.execute(query)\n",
    "    query = ''' CREATE TABLE IF NOT EXISTS user\n",
    "            (person string, truth real)'''\n",
    "    c.execute(query)\n",
    "    query = ''' CREATE TABLE IF NOT EXISTS cost\n",
    "            (person string, truth real)'''\n",
    "    c.execute(query)\n",
    "    query = ''' CREATE TABLE IF NOT EXISTS reward\n",
    "            (person string, truth real)'''\n",
    "    c.execute(query)\n",
    "    query = ''' CREATE TABLE IF NOT EXISTS sensitive\n",
    "            (person string, truth real)'''\n",
    "    c.execute(query)\n",
    "    network_data = []\n",
    "    with open('./trusts.txt') as f:\n",
    "        for line in f:\n",
    "            line = line.strip()\n",
    "            if not line: continue\n",
    "            line = line.split('\\t')\n",
    "            network_data.append(tuple(line))\n",
    "    c.executemany('INSERT INTO trusts VALUES (?, ?, 1.0)', network_data)\n",
    "    user_data = []\n",
    "    sensitive_data = []\n",
    "    with open('./user.txt') as f:\n",
    "        for line in f:\n",
    "            line = line.strip()\n",
    "            if not line: continue\n",
    "            line = line.split('\\t')\n",
    "            user_data.append(tuple(line))\n",
    "    with open('./sensitive.txt') as f:\n",
    "        for line in f:\n",
    "            line = line.strip()\n",
    "            if not line: continue\n",
    "            line = line.split('\\t')\n",
    "            sensitive_data.append(tuple(line))\n",
    "    c.executemany('INSERT INTO user VALUES (?, 1.0)', user_data)\n",
    "    c.executemany('INSERT INTO cost VALUES (?, 1.0)', user_data)\n",
    "    c.executemany('INSERT INTO reward VALUES (?, 1.0)', user_data)\n",
    "    c.executemany('INSERT INTO sensitive VALUES (?, ?)', sensitive_data)\n",
    "    conn.commit()\n",
    "    \n",
    "create_db()"
   ]
  },
  {
   "cell_type": "code",
   "execution_count": 5,
   "metadata": {
    "collapsed": false
   },
   "outputs": [
    {
     "name": "stdout",
     "output_type": "stream",
     "text": [
      "\n",
      "Trusts\n",
      "==========\n",
      "('u3', 'u1', 1.0)\n",
      "('u1', 'u3', 1.0)\n",
      "('u4', 'u1', 1.0)\n",
      "('u4', 'u0', 1.0)\n",
      "('u0', 'u1', 1.0)\n",
      "('u0', 'u3', 1.0)\n",
      "('u2', 'u4', 1.0)\n",
      "\n",
      "User\n",
      "==========\n",
      "('u0', 1.0)\n",
      "('u1', 1.0)\n",
      "('u2', 1.0)\n",
      "('u3', 1.0)\n",
      "('u4', 1.0)\n",
      "\n",
      "Cost\n",
      "==========\n",
      "('u0', 1.0)\n",
      "('u1', 1.0)\n",
      "('u2', 1.0)\n",
      "('u3', 1.0)\n",
      "('u4', 1.0)\n",
      "\n",
      "Reward\n",
      "==========\n",
      "('u0', 1.0)\n",
      "('u1', 1.0)\n",
      "('u2', 1.0)\n",
      "('u3', 1.0)\n",
      "('u4', 1.0)\n",
      "\n",
      "Sensitive\n",
      "==========\n",
      "('u0', 0.0)\n",
      "('u1', 0.0)\n",
      "('u2', 1.0)\n",
      "('u3', 0.0)\n",
      "('u4', 0.0)\n"
     ]
    }
   ],
   "source": [
    "def test_db():\n",
    "    print('\\nTrusts\\n%s'%('='*10))\n",
    "    c.execute('SELECT * FROM trusts')\n",
    "    rows = c.fetchall()\n",
    "    for row in rows:\n",
    "        print(row)\n",
    "    print('\\nUser\\n%s'%('='*10))\n",
    "    c.execute('SELECT * FROM user')\n",
    "    rows = c.fetchall()\n",
    "    for row in rows:\n",
    "        print(row)\n",
    "    print('\\nCost\\n%s'%('='*10))\n",
    "    c.execute('SELECT * FROM cost')\n",
    "    rows = c.fetchall()\n",
    "    for row in rows:\n",
    "        print(row)\n",
    "    print('\\nReward\\n%s'%('='*10))\n",
    "    c.execute('SELECT * FROM reward')\n",
    "    rows = c.fetchall()\n",
    "    for row in rows:\n",
    "        print(row)\n",
    "    print('\\nSensitive\\n%s'%('='*10))\n",
    "    c.execute('SELECT * FROM sensitive')\n",
    "    rows = c.fetchall()\n",
    "    for row in rows:\n",
    "        print(row)\n",
    "    conn.close()\n",
    "test_db()"
   ]
  },
  {
   "cell_type": "code",
   "execution_count": null,
   "metadata": {
    "collapsed": true
   },
   "outputs": [],
   "source": []
  },
  {
   "cell_type": "code",
   "execution_count": null,
   "metadata": {
    "collapsed": true
   },
   "outputs": [],
   "source": []
  }
 ],
 "metadata": {
  "anaconda-cloud": {},
  "kernelspec": {
   "display_name": "Python [Root]",
   "language": "python",
   "name": "Python [Root]"
  },
  "language_info": {
   "codemirror_mode": {
    "name": "ipython",
    "version": 3
   },
   "file_extension": ".py",
   "mimetype": "text/x-python",
   "name": "python",
   "nbconvert_exporter": "python",
   "pygments_lexer": "ipython3",
   "version": "3.5.2"
  }
 },
 "nbformat": 4,
 "nbformat_minor": 0
}
