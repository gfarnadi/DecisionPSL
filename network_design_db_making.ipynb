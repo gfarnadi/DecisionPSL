{
 "cells": [
  {
   "cell_type": "code",
   "execution_count": 1,
   "metadata": {
    "collapsed": true
   },
   "outputs": [],
   "source": [
    "import sqlite3,os,random\n",
    "conn = sqlite3.connect('network_design.db')\n",
    "c = conn.cursor()"
   ]
  },
  {
   "cell_type": "code",
   "execution_count": 2,
   "metadata": {
    "collapsed": true
   },
   "outputs": [],
   "source": [
    "def save_file(path, content):\n",
    "    try:\n",
    "        os.remove(path)\n",
    "    except OSError:\n",
    "        pass\n",
    "    with open(path, 'a') as out:\n",
    "        out.write(content+'\\n')"
   ]
  },
  {
   "cell_type": "code",
   "execution_count": 3,
   "metadata": {
    "collapsed": true
   },
   "outputs": [],
   "source": [
    "def make_synthetic_network(node_size, edge_size):\n",
    "    edges= []\n",
    "    text_edges = ''\n",
    "    text_nodes= ''\n",
    "    text_sensitive = ''\n",
    "    for i in range(node_size):\n",
    "        node = 'c'+str(i)\n",
    "        text_nodes+=node+'\\n'\n",
    "        sensivity = random.choice('01')\n",
    "        text_sensitive+=node+'\\t'+sensivity+'\\n'\n",
    "    save_file('./city.txt',text_nodes)\n",
    "    save_file('./large.txt',text_sensitive)\n",
    "    for i in range(edge_size):\n",
    "        source = random.randint(0,node_size-1)\n",
    "        target = random.randint(0,node_size-1)\n",
    "        edge = 'c'+str(source)+'\\t'+'c'+str(target)\n",
    "        trial = 0\n",
    "        while (target == source or edge in edges) and (trial<node_size-1):\n",
    "            target = random.randint(0,node_size-1)\n",
    "            edge = 'c'+str(source)+'\\t'+'c'+str(target)\n",
    "            trial+=1\n",
    "        if (trial<node_size-1):\n",
    "            edges.append(edge)\n",
    "            text_edges+=edge+'\\n'\n",
    "    save_file('./edges.txt',text_edges)\n",
    "    \n",
    "make_synthetic_network(node_size = 5, edge_size = 8)"
   ]
  },
  {
   "cell_type": "code",
   "execution_count": 4,
   "metadata": {
    "collapsed": false
   },
   "outputs": [],
   "source": [
    "def create_db():\n",
    "    query = 'DROP TABLE IF EXISTS edges'\n",
    "    c.execute(query)\n",
    "    query = 'DROP TABLE IF EXISTS city'\n",
    "    c.execute(query)\n",
    "    query = 'DROP TABLE IF EXISTS cost'\n",
    "    c.execute(query)\n",
    "    query = 'DROP TABLE IF EXISTS large'\n",
    "    c.execute(query)\n",
    "    conn.commit()\n",
    "    query = ''' CREATE TABLE IF NOT EXISTS edges\n",
    "            (node1 string, node2 string, truth real)'''\n",
    "    c.execute(query)\n",
    "    query = ''' CREATE TABLE IF NOT EXISTS city\n",
    "            (node string, truth real)'''\n",
    "    c.execute(query)\n",
    "    query = ''' CREATE TABLE IF NOT EXISTS cost\n",
    "            (node1 string, node2 string, truth real)'''\n",
    "    c.execute(query)\n",
    "    query = ''' CREATE TABLE IF NOT EXISTS large\n",
    "            (node string, truth real)'''\n",
    "    c.execute(query)\n",
    "    network_data = []\n",
    "    with open('./edges.txt') as f:\n",
    "        for line in f:\n",
    "            line = line.strip()\n",
    "            if not line: continue\n",
    "            line = line.split('\\t')\n",
    "            network_data.append(tuple(line))\n",
    "    c.executemany('INSERT INTO edges VALUES (?, ?, 1.0)', network_data)\n",
    "    city_data = []\n",
    "    sensitive_data = []\n",
    "    with open('./city.txt') as f:\n",
    "        for line in f:\n",
    "            line = line.strip()\n",
    "            if not line: continue\n",
    "            line = line.split('\\t')\n",
    "            city_data.append(tuple(line))\n",
    "    with open('./large.txt') as f:\n",
    "        for line in f:\n",
    "            line = line.strip()\n",
    "            if not line: continue\n",
    "            line = line.split('\\t')\n",
    "            sensitive_data.append(tuple(line))\n",
    "    c.executemany('INSERT INTO city VALUES (?, 1.0)', city_data)\n",
    "    c.executemany('INSERT INTO cost VALUES (?, ?, 1.0)', network_data)\n",
    "    c.executemany('INSERT INTO large VALUES (?, ?)', sensitive_data)\n",
    "    conn.commit()\n",
    "    \n",
    "create_db()"
   ]
  },
  {
   "cell_type": "code",
   "execution_count": 5,
   "metadata": {
    "collapsed": false
   },
   "outputs": [
    {
     "name": "stdout",
     "output_type": "stream",
     "text": [
      "\n",
      "Edges\n",
      "==========\n",
      "('c3', 'c4', 1.0)\n",
      "('c2', 'c3', 1.0)\n",
      "('c3', 'c0', 1.0)\n",
      "('c1', 'c0', 1.0)\n",
      "('c2', 'c0', 1.0)\n",
      "('c0', 'c1', 1.0)\n",
      "('c4', 'c2', 1.0)\n",
      "('c2', 'c4', 1.0)\n",
      "\n",
      "City\n",
      "==========\n",
      "('c0', 1.0)\n",
      "('c1', 1.0)\n",
      "('c2', 1.0)\n",
      "('c3', 1.0)\n",
      "('c4', 1.0)\n",
      "\n",
      "Cost\n",
      "==========\n",
      "('c3', 'c4', 1.0)\n",
      "('c2', 'c3', 1.0)\n",
      "('c3', 'c0', 1.0)\n",
      "('c1', 'c0', 1.0)\n",
      "('c2', 'c0', 1.0)\n",
      "('c0', 'c1', 1.0)\n",
      "('c4', 'c2', 1.0)\n",
      "('c2', 'c4', 1.0)\n",
      "\n",
      "Large\n",
      "==========\n",
      "('c0', 1.0)\n",
      "('c1', 1.0)\n",
      "('c2', 1.0)\n",
      "('c3', 0.0)\n",
      "('c4', 0.0)\n"
     ]
    }
   ],
   "source": [
    "def test_db():\n",
    "    print('\\nEdges\\n%s'%('='*10))\n",
    "    c.execute('SELECT * FROM edges')\n",
    "    rows = c.fetchall()\n",
    "    for row in rows:\n",
    "        print(row)\n",
    "    print('\\nCity\\n%s'%('='*10))\n",
    "    c.execute('SELECT * FROM city')\n",
    "    rows = c.fetchall()\n",
    "    for row in rows:\n",
    "        print(row)\n",
    "    print('\\nCost\\n%s'%('='*10))\n",
    "    c.execute('SELECT * FROM cost')\n",
    "    rows = c.fetchall()\n",
    "    for row in rows:\n",
    "        print(row)\n",
    "    print('\\nLarge\\n%s'%('='*10))\n",
    "    c.execute('SELECT * FROM large')\n",
    "    rows = c.fetchall()\n",
    "    for row in rows:\n",
    "        print(row)\n",
    "    conn.close()\n",
    "test_db()"
   ]
  }
 ],
 "metadata": {
  "anaconda-cloud": {},
  "kernelspec": {
   "display_name": "Python [Root]",
   "language": "python",
   "name": "Python [Root]"
  },
  "language_info": {
   "codemirror_mode": {
    "name": "ipython",
    "version": 3
   },
   "file_extension": ".py",
   "mimetype": "text/x-python",
   "name": "python",
   "nbconvert_exporter": "python",
   "pygments_lexer": "ipython3",
   "version": "3.5.2"
  }
 },
 "nbformat": 4,
 "nbformat_minor": 0
}
