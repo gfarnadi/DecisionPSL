{
 "cells": [
  {
   "cell_type": "code",
   "execution_count": 1,
   "metadata": {
    "collapsed": true
   },
   "outputs": [],
   "source": [
    "import numpy as np\n",
    "import pandas as pd\n",
    "import sqlite3,os,random,cvxpy,math\n",
    "from viral_marketing_sampling import get_acceptance_rate, sample_from_distribution, initialize_variables\n",
    "conn = sqlite3.connect('network_design.db')\n",
    "c = conn.cursor()"
   ]
  },
  {
   "cell_type": "code",
   "execution_count": 2,
   "metadata": {
    "collapsed": true
   },
   "outputs": [],
   "source": [
    "def get_query_result(query):\n",
    "    result = []\n",
    "    c.execute(query)\n",
    "    rows = c.fetchall()\n",
    "    for row in rows:\n",
    "        result.append(row)\n",
    "    return result"
   ]
  },
  {
   "cell_type": "code",
   "execution_count": 3,
   "metadata": {
    "collapsed": true
   },
   "outputs": [],
   "source": [
    "def prob_distribution_function_network_design(w1,w2):\n",
    "    # ~presents(a,b)\n",
    "    # ~edge(a,b)->~presents(a,b)\n",
    "    # edge(s,t1) & edge(t1,t2) & ~presents(t1,t2) -> ~presents(s,t1)\n",
    "    # edge(s,t1) & edge(s,t2) & ~present(s,t2) -> ~presents(s,t1)\n",
    "    \n",
    "    prob_distribution = 0\n",
    "    \n",
    "    query1 = '''\n",
    "    SELECT * from rule1\n",
    "    '''\n",
    "    query2 = '''\n",
    "    SELECT * from rule2\n",
    "    '''\n",
    "    query3 = '''\n",
    "    SELECT * from presents\n",
    "    '''\n",
    "    \n",
    "    #print('\\nRule1\\n%s'%('='*10))\n",
    "    rule1 = get_query_result(query1)\n",
    "    #print(rule1)\n",
    "    \n",
    "    #print('\\nRule2\\n%s'%('='*10))\n",
    "    rule2 = get_query_result(query2)\n",
    "    #print(rule2)\n",
    "    \n",
    "    #print('\\nPresents\\n%s'%('='*10))\n",
    "    presents = get_query_result(query3)\n",
    "    #print(presents)\n",
    "    \n",
    "    vid_dict = dict()\n",
    "    #print(len(reachables))\n",
    "    \n",
    "    i = 0 \n",
    "    for r in presents:\n",
    "        vid_dict [(r[0],r[1])] = cvxpy.Variable()\n",
    "        i+=1\n",
    "    #print (len(vid_dict))\n",
    "    \n",
    "    \n",
    "    for r in rule1:\n",
    "        if r[3]==None:\n",
    "            present = vid_dict [(r[0],r[1])]\n",
    "        else:\n",
    "            present = float(r[3])\n",
    "        prob_distribution+=w1 * cvxpy.pos(present - float(r[2]))\n",
    "        \n",
    "    for r in rule2:\n",
    "        if r[3]==None:\n",
    "            present1 = vid_dict [(r[0],r[1])]\n",
    "        else:\n",
    "            reachable1 = float(r[3])\n",
    "        if r[5]==None:\n",
    "            present2 = vid_dict [(r[0],r[2])]\n",
    "        else:\n",
    "            present2 = float(r[5])\n",
    "        prob_distribution+=w2 * cvxpy.pos(cvxpy.pos(present1 + float(r[4])-1.0) - present2)\n",
    "        \n",
    "    return prob_distribution, vid_dict"
   ]
  },
  {
   "cell_type": "code",
   "execution_count": 4,
   "metadata": {
    "collapsed": true
   },
   "outputs": [],
   "source": [
    "def network_sampling(w1, w2, rv_list, sample_size, rejection_size):\n",
    "    rv_size = len(rv_list)\n",
    "    #print(rv_size)\n",
    "    initial_sample = initialize_variables(rv_size)\n",
    "    sample = []\n",
    "    sample.append(initial_sample)\n",
    "    prob_distribution, vid_dict = prob_distribution_function_network_design(w1,w2)\n",
    "    i=0\n",
    "    while len(sample)<sample_size+rejection_size+1:\n",
    "        previous_state = sample[-1]\n",
    "        #print(len(previous_state))\n",
    "        current_state = sample_from_distribution(previous_state, rv_size)\n",
    "        acceptace = get_acceptance_rate(prob_distribution, vid_dict, current_state, previous_state)\n",
    "        if (acceptace>=1):\n",
    "            previous_state = current_state\n",
    "            sample.append(previous_state)\n",
    "            i+=1\n",
    "        else:\n",
    "            ran = random.random()\n",
    "            if ran < acceptace:\n",
    "                previous_state = current_state\n",
    "                sample.append(previous_state)\n",
    "                i+=1                   \n",
    "    return sample    "
   ]
  },
  {
   "cell_type": "code",
   "execution_count": null,
   "metadata": {
    "collapsed": false
   },
   "outputs": [],
   "source": []
  },
  {
   "cell_type": "code",
   "execution_count": null,
   "metadata": {
    "collapsed": true
   },
   "outputs": [],
   "source": []
  }
 ],
 "metadata": {
  "anaconda-cloud": {},
  "kernelspec": {
   "display_name": "Python [Root]",
   "language": "python",
   "name": "Python [Root]"
  },
  "language_info": {
   "codemirror_mode": {
    "name": "ipython",
    "version": 3
   },
   "file_extension": ".py",
   "mimetype": "text/x-python",
   "name": "python",
   "nbconvert_exporter": "python",
   "pygments_lexer": "ipython3",
   "version": "3.5.2"
  }
 },
 "nbformat": 4,
 "nbformat_minor": 0
}
