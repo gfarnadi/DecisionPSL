{
 "cells": [
  {
   "cell_type": "code",
   "execution_count": 1,
   "metadata": {
    "collapsed": true
   },
   "outputs": [],
   "source": [
    "import numpy as np\n",
    "import pandas as pd\n",
    "import sqlite3,os,random,cvxpy,math\n",
    "conn = sqlite3.connect('viral_marketing.db')\n",
    "c = conn.cursor()"
   ]
  },
  {
   "cell_type": "code",
   "execution_count": 2,
   "metadata": {
    "collapsed": true
   },
   "outputs": [],
   "source": [
    "def get_query_result(query):\n",
    "    result = []\n",
    "    c.execute(query)\n",
    "    rows = c.fetchall()\n",
    "    for row in rows:\n",
    "        result.append(row)\n",
    "    return result"
   ]
  },
  {
   "cell_type": "code",
   "execution_count": 3,
   "metadata": {
    "collapsed": false
   },
   "outputs": [],
   "source": [
    "def get_prob_distribution(w1,w2, state):\n",
    "    #trusts(a,b)->reachable(a,b)\n",
    "    #reachable(a,b) & trusts(b,c) -> reachable(a,c)\n",
    "    \n",
    "    prob_distribution = 0\n",
    "    \n",
    "    query1 = '''\n",
    "    SELECT * from rule1\n",
    "    '''\n",
    "    query2 = '''\n",
    "    SELECT * from rule2\n",
    "    '''\n",
    "    query3 = '''\n",
    "    SELECT * from reachable\n",
    "    '''\n",
    "    \n",
    "    #print('\\nRule1\\n%s'%('='*10))\n",
    "    rule1 = get_query_result(query1)\n",
    "    #print(rule1)\n",
    "    \n",
    "    #print('\\nRule2\\n%s'%('='*10))\n",
    "    rule2 = get_query_result(query2)\n",
    "    #print(rule2)\n",
    "    \n",
    "    #print('\\nReachables\\n%s'%('='*10))\n",
    "    reachables = get_query_result(query3)\n",
    "    #print(reachables)\n",
    "    \n",
    "    vid_dict = dict()\n",
    "    #print(len(reachables))\n",
    "    i = 0 \n",
    "    for r in reachables:\n",
    "        vid_dict [(r[0],r[1])] = random.random()\n",
    "        i+=1\n",
    "    #print (len(vid_dict))\n",
    "    \n",
    "    \n",
    "    for r in rule1:\n",
    "        if r[3]==None:\n",
    "            reachable = vid_dict [(r[0],r[1])]\n",
    "        else:\n",
    "            reachable = float(r[3])\n",
    "        prob_distribution+=w1 * cvxpy.pos(reachable - float(r[2]))\n",
    "        \n",
    "    for r in rule2:\n",
    "        if r[3]==None:\n",
    "            reachable1 = vid_dict [(r[0],r[1])]\n",
    "        else:\n",
    "            reachable1 = float(r[3])\n",
    "        if r[5]==None:\n",
    "            reachable2 = vid_dict [(r[0],r[2])]\n",
    "        else:\n",
    "            reachable2 = float(r[5])\n",
    "        prob_distribution+=w2 * cvxpy.pos(reachable2 - cvxpy.pos(reachable1 - float(r[4])))\n",
    "        \n",
    "        obj = cvxpy.Minimize(prob_distribution)\n",
    "        prob = cvxpy.Problem(obj, [])\n",
    "        result = prob.solve()\n",
    "        \n",
    "    return result\n",
    "\n",
    "result = get_prob_distribution(w1 = 1 , w2 = 1 ,state = [])\n",
    "#print('\\nProb_distribution\\n%s'%('='*10))\n",
    "#print(result)"
   ]
  },
  {
   "cell_type": "code",
   "execution_count": 4,
   "metadata": {
    "collapsed": true
   },
   "outputs": [],
   "source": [
    "def initialize_variables(rv_size):\n",
    "    initial_sample = []\n",
    "    for i in range(rv_size):  \n",
    "        v = random.random()\n",
    "        initial_sample.append(v)\n",
    "    return initial_sample "
   ]
  },
  {
   "cell_type": "code",
   "execution_count": 5,
   "metadata": {
    "collapsed": true
   },
   "outputs": [],
   "source": [
    "def calculate_mean(previous_state):\n",
    "    n = len(previous_state)\n",
    "    mean_matrix=[]\n",
    "    state = []\n",
    "    for j in range(n):\n",
    "        state.append(1.0)\n",
    "    mean_matrix.append(state)\n",
    "    for i in range(n):\n",
    "        state = []\n",
    "        for j in range(n):\n",
    "            if i==j:\n",
    "                state.append(previous_state[j]-1.0)\n",
    "            else:\n",
    "                state.append(previous_state[j])\n",
    "        mean_matrix.append(state)\n",
    "    b=[1.0]\n",
    "    for i in range(n):\n",
    "        b.append(0.0)\n",
    "    solution = np.linalg.lstsq(mean_matrix, b)[0]\n",
    "    return solution"
   ]
  },
  {
   "cell_type": "code",
   "execution_count": 6,
   "metadata": {
    "collapsed": true
   },
   "outputs": [],
   "source": [
    "def sample_from_distribution(previous_state, rv_size):\n",
    "    state = calculate_mean(previous_state)\n",
    "    current_state  =  np.random.dirichlet(state, 1)\n",
    "    return current_state[0]"
   ]
  },
  {
   "cell_type": "code",
   "execution_count": 7,
   "metadata": {
    "collapsed": true
   },
   "outputs": [],
   "source": [
    "def get_acceptance_rate(w1, w2, current_state, previous_state):\n",
    "    accept =  min(1, get_value(w1, w2, current_state)/ get_value(w1, w2, previous_state))\n",
    "    return accept"
   ]
  },
  {
   "cell_type": "code",
   "execution_count": 8,
   "metadata": {
    "collapsed": false
   },
   "outputs": [],
   "source": [
    "def get_value(w1, w2, state):\n",
    "    value = get_prob_distribution(w1, w2, state)\n",
    "    return value\n"
   ]
  },
  {
   "cell_type": "code",
   "execution_count": 9,
   "metadata": {
    "collapsed": false
   },
   "outputs": [],
   "source": [
    "def sampling(w1, w2, rv_list, sample_size, rejection_size):\n",
    "    rv_size = len(rv_list)\n",
    "    initial_sample = initialize_variables(rv_size)\n",
    "    sample = []\n",
    "    sample.append(initial_sample)\n",
    "    i=0\n",
    "    while len(sample)<sample_size+rejection_size+1:\n",
    "        previous_state = sample[-1]\n",
    "        current_state = sample_from_distribution(previous_state, rv_size)\n",
    "        acceptace = get_acceptance_rate(w1, w2, current_state, previous_state)\n",
    "        if (acceptace>=1):\n",
    "            previous_state = current_state\n",
    "            sample.append(previous_state)\n",
    "            i+=1\n",
    "        else:\n",
    "            ran = random.random()\n",
    "            if ran < acceptace:\n",
    "                previous_state = current_state\n",
    "                sample.append(previous_state)\n",
    "                i+=1                   \n",
    "    return sample\n",
    "\n",
    "samples = sampling(1 , 1 , ['r1','r2','r3'], 10, 10)\n",
    "#print(samples)"
   ]
  }
 ],
 "metadata": {
  "anaconda-cloud": {},
  "kernelspec": {
   "display_name": "Python [Root]",
   "language": "python",
   "name": "Python [Root]"
  },
  "language_info": {
   "codemirror_mode": {
    "name": "ipython",
    "version": 3
   },
   "file_extension": ".py",
   "mimetype": "text/x-python",
   "name": "python",
   "nbconvert_exporter": "python",
   "pygments_lexer": "ipython3",
   "version": "3.5.2"
  }
 },
 "nbformat": 4,
 "nbformat_minor": 0
}
